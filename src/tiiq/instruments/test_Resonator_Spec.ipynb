{
 "cells": [
  {
   "cell_type": "markdown",
   "source": [
    "# Test Resonator Scan"
   ],
   "metadata": {}
  },
  {
   "cell_type": "code",
   "execution_count": null,
   "source": [
    "import numpy as np\r\n",
    "from instrument_controller import InstrumentController"
   ],
   "outputs": [],
   "metadata": {}
  },
  {
   "cell_type": "code",
   "execution_count": null,
   "source": [
    "## Define plattform settings and pulses"
   ],
   "outputs": [],
   "metadata": {}
  },
  {
   "cell_type": "code",
   "execution_count": null,
   "source": [
    "#Qblox ReadOut Module settings and pulse\r\n",
    "QRM_settings = {\r\n",
    "    'ref_clock': 'external',\r\n",
    "    'gain': 0.5,\r\n",
    "    'hardware_avg_en': True,\r\n",
    "    'hardware_avg': 1024,\r\n",
    "    'sequencer': 0,\r\n",
    "    'acq_trigger_mode': 'sequencer',\r\n",
    "    'sync_en': True,\r\n",
    "    'data_dictionary': 'quantify-data/',\r\n",
    "        \r\n",
    "    'ro_pulse': \r\n",
    "    {\r\n",
    "        \"freq_if\": 20e6,\r\n",
    "        \"amplitude\": 0.5, \r\n",
    "        \"length\": 6000,\r\n",
    "        \"offset_i\": 0,\r\n",
    "        \"offset_q\": 0,\r\n",
    "        \"shape\": \"Block\",\r\n",
    "        \"delay_before\": 341,\r\n",
    "        \"repetition_duration\": 200000,\r\n",
    "    },\r\n",
    "\r\n",
    "    'start_sample': 130,\r\n",
    "    'integration_length': 600,\r\n",
    "    'sampling_rate': 1e9,\r\n",
    "    'mode': 'ssb',\r\n",
    "}\r\n",
    "\r\n",
    "#Qblox Qubit Control Module settings and pulse\r\n",
    "QCM_settings = {\r\n",
    "    'ref_clock': 'external',\r\n",
    "    'gain': 0.5,\r\n",
    "    'hardware_avg': 1024,\r\n",
    "    'sequencer': 0,\r\n",
    "    'sync_en': True,\r\n",
    "\r\n",
    "    'pulse': \r\n",
    "    {\r\n",
    "        \"freq_if\": 100e6,\r\n",
    "        \"amplitude\": 0.25, \r\n",
    "        \"length\": 300,\r\n",
    "        \"offset_i\": 0,\r\n",
    "        \"offset_q\": 0,\r\n",
    "        \"shape\": \"Gaussian\",\r\n",
    "        \"delay_before\": 1, # cannot be 0\r\n",
    "        \"repetition_duration\": 200000,\r\n",
    "     },\r\n",
    "}\r\n",
    "\r\n",
    "#Local Oscllator attached to QRM settings\r\n",
    "QRM_LO_settings = { \r\n",
    "    \"power\": 10,\r\n",
    "    \"frequency\":7.79813e9 - QRM_settings['ro_pulse']['freq_if'],\r\n",
    "}\r\n",
    "\r\n",
    "#Local Oscllator attached to QCM settings\r\n",
    "QCM_LO_settings = { \r\n",
    "    \"power\": 12,\r\n",
    "    \"frequency\":8.72e9 + QCM_settings['pulse']['freq_if'],\r\n",
    "}"
   ],
   "outputs": [],
   "metadata": {}
  },
  {
   "cell_type": "code",
   "execution_count": null,
   "source": [
    "#Instatiante all plattform instruments at once\r\n",
    "ic = IntrumentController()"
   ],
   "outputs": [],
   "metadata": {}
  },
  {
   "cell_type": "code",
   "execution_count": null,
   "source": [
    "#Set up all instruments at once\r\n",
    "ic.setup(QRM_LO_settings, \r\n",
    "         QCM_LO_settings, \r\n",
    "         QRM_settings, \r\n",
    "         QCM_settings)"
   ],
   "outputs": [],
   "metadata": {}
  },
  {
   "cell_type": "code",
   "execution_count": null,
   "source": [
    "#play resonator scan\r\n",
    "ic.play('Resonator_Scan', \r\n",
    "        np.arange(-2.5e6,2.5e6,.05e6) + 7.80185e9 - QRM_settings['ro_pulse']['freq_if'], \r\n",
    "        3, \r\n",
    "        'qrm_lo_frequency')"
   ],
   "outputs": [],
   "metadata": {}
  },
  {
   "cell_type": "code",
   "execution_count": null,
   "source": [
    "#Stop and close all platform instruments\r\n",
    "ic.stop()"
   ],
   "outputs": [],
   "metadata": {}
  }
 ],
 "metadata": {
  "kernelspec": {
   "display_name": "Python 3",
   "language": "python",
   "name": "python3"
  },
  "language_info": {
   "codemirror_mode": {
    "name": "ipython",
    "version": 3
   },
   "file_extension": ".py",
   "mimetype": "text/x-python",
   "name": "python",
   "nbconvert_exporter": "python",
   "pygments_lexer": "ipython3",
   "version": "3.8.8"
  }
 },
 "nbformat": 4,
 "nbformat_minor": 5
}