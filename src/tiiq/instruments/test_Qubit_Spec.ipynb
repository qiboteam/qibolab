{
 "cells": [
  {
   "cell_type": "markdown",
   "id": "20d614bc",
   "metadata": {},
   "source": [
    "# Test Qubit Spectroscopy"
   ]
  },
  {
   "cell_type": "code",
   "execution_count": null,
   "id": "7310afdc",
   "metadata": {},
   "outputs": [],
   "source": [
    "import numpy as np\n",
    "from instrument_controller import InstrumentController"
   ]
  },
  {
   "cell_type": "code",
   "execution_count": null,
   "id": "f19a26b4",
   "metadata": {},
   "outputs": [],
   "source": [
    "## Define plattform settings and pulses"
   ]
  },
  {
   "cell_type": "code",
   "execution_count": null,
   "id": "2009184a",
   "metadata": {},
   "outputs": [],
   "source": [
    "#Qblox ReadOut Module settings and pulse\n",
    "QRM_settings = {\n",
    "    'ref_clock': 'external',\n",
    "    'gain': 0.5,\n",
    "    'hardware_avg_en': True,\n",
    "    'hardware_avg': 1024,\n",
    "    'sequencer': 0,\n",
    "    'acq_trigger_mode': 'sequencer',\n",
    "    'sync_en': True,\n",
    "    'data_dictionary': 'quantify-data/',\n",
    "        \n",
    "    'ro_pulse': \n",
    "    {\n",
    "        \"freq_if\": 20e6,\n",
    "        \"amplitude\": 0.5, \n",
    "        \"length\": 6000,\n",
    "        \"offset_i\": 0,\n",
    "        \"offset_q\": 0,\n",
    "        \"shape\": \"Block\",\n",
    "        \"delay_before\": 341,\n",
    "        \"repetition_duration\": 200000,\n",
    "    },\n",
    "\n",
    "    'start_sample': 130,\n",
    "    'integration_length': 600,\n",
    "    'sampling_rate': 1e9,\n",
    "    'mode': 'ssb',\n",
    "}\n",
    "\n",
    "#Qblox Qubit Control Module settings and pulse\n",
    "QCM_settings = {\n",
    "    'ref_clock': 'external',\n",
    "    'gain': 0.5,\n",
    "    'hardware_avg': 1024,\n",
    "    'sequencer': 0,\n",
    "    'sync_en': True,\n",
    "\n",
    "    'pulse': \n",
    "    {\n",
    "        \"freq_if\": 100e6,\n",
    "        \"amplitude\": 0.25, \n",
    "        \"length\": 300,\n",
    "        \"offset_i\": 0,\n",
    "        \"offset_q\": 0,\n",
    "        \"shape\": \"Gaussian\",\n",
    "        \"delay_before\": 1, # cannot be 0\n",
    "        \"repetition_duration\": 200000,\n",
    "     },\n",
    "}\n",
    "\n",
    "#Local Oscllator attached to QRM settings\n",
    "QRM_LO_settings = { \n",
    "    \"power\": 10,\n",
    "    \"frequency\":7.79813e9 - QRM_settings['ro_pulse']['freq_if'],\n",
    "}\n",
    "\n",
    "#Local Oscllator attached to QCM settings\n",
    "QCM_LO_settings = { \n",
    "    \"power\": 12,\n",
    "    \"frequency\":8.72e9 + QCM_settings['pulse']['freq_if'],\n",
    "}"
   ]
  },
  {
   "cell_type": "code",
   "execution_count": null,
   "id": "8e1f313d",
   "metadata": {},
   "outputs": [],
   "source": [
    "#Instatiante all plattform instruments at once\n",
    "ic = IntrumentController()"
   ]
  },
  {
   "cell_type": "code",
   "execution_count": null,
   "id": "7f212e0d",
   "metadata": {},
   "outputs": [],
   "source": [
    "#Set up all instruments at once\n",
    "ic.setup(QRM_LO_settings['frequency'], \n",
    "         QRM_LO_settings['power'], \n",
    "         QCM_LO_settings['frequency'], \n",
    "         QCM_LO_settings['power'], \n",
    "         QRM_settings, \n",
    "         QCM_settings)"
   ]
  },
  {
   "cell_type": "code",
   "execution_count": null,
   "id": "33496521",
   "metadata": {},
   "outputs": [],
   "source": [
    "#play qubit spectroscopy\n",
    "ic.play('QubitSpec', \n",
    "        np.arange(-20e6,+20e6,0.5e6) + QRM_LO_settings['frequency'],\n",
    "        3,\n",
    "        QRM_LO_settings['frequency'])"
   ]
  },
  {
   "cell_type": "code",
   "execution_count": null,
   "id": "69118198",
   "metadata": {},
   "outputs": [],
   "source": [
    "#Stop and close all platform instruments\n",
    "ic.stop()"
   ]
  }
 ],
 "metadata": {
  "kernelspec": {
   "display_name": "Python 3",
   "language": "python",
   "name": "python3"
  },
  "language_info": {
   "codemirror_mode": {
    "name": "ipython",
    "version": 3
   },
   "file_extension": ".py",
   "mimetype": "text/x-python",
   "name": "python",
   "nbconvert_exporter": "python",
   "pygments_lexer": "ipython3",
   "version": "3.8.8"
  }
 },
 "nbformat": 4,
 "nbformat_minor": 5
}
