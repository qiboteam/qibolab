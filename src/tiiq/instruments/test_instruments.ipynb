{
 "cells": [
  {
   "cell_type": "markdown",
   "source": [
    "\r\n",
    "## Test Experiment to Test Instruments"
   ],
   "metadata": {}
  },
  {
   "cell_type": "markdown",
   "source": [
    "experimento.py (Rabi, T1...)\r\n",
    "- Defines variable (settings HW, parametros de waveforms para QRM, QCM)\r\n",
    "- Defines secuencia QRM y QCM --> Rabi_seq (Joel trabajando)\r\n",
    "- Instancias instrument controller(params)\r\n",
    "- ic.setup(parametros)\r\n",
    "- ic.upload_waveforms_sequence(params)\r\n",
    "- ic.play()\r\n",
    "\t- ejecutar waves en HW\r\n",
    "\t- plotting en tiempo real \r\n",
    " \r\n",
    "ic.stop\r\n",
    "ic.exit\r\n",
    "\r\n",
    "plot resultados\r\n"
   ],
   "metadata": {}
  },
  {
   "cell_type": "code",
   "execution_count": null,
   "source": [
    "# from tiiq.instruments.instrument_controller import InstrumentController\r\n",
    "from instrument_controller import InstrumentController\r\n"
   ],
   "outputs": [],
   "metadata": {}
  },
  {
   "cell_type": "code",
   "execution_count": null,
   "source": [
    "ic = InstrumentController()"
   ],
   "outputs": [],
   "metadata": {}
  },
  {
   "cell_type": "code",
   "execution_count": null,
   "source": [
    "QRM_settings = {\r\n",
    "\t\"data_dictionary\": \"quantify-data/\",\r\n",
    "\t\"ref_clock\": \"external\",\r\n",
    "\t\"start_sample\": 130,\r\n",
    "\t\"hardware_avg\": 1024,\r\n",
    "\t\"integration_length\": 600,\r\n",
    "\t\"sampling_rate\": 1e9,\r\n",
    "\t\"mode\": \"ssb\"\r\n",
    "        }"
   ],
   "outputs": [],
   "metadata": {}
  },
  {
   "cell_type": "code",
   "execution_count": null,
   "source": [
    "ic.setup(LO_qcm_freq= 8.3e9, LO_qcm_power= 10, LO_qrm_freq= 7.778e9, LO_qrm_power=13, QRM_settings= QRM_settings)"
   ],
   "outputs": [],
   "metadata": {}
  },
  {
   "cell_type": "code",
   "execution_count": 2,
   "source": [
    "from rohde_schwarz import SGS100A"
   ],
   "outputs": [],
   "metadata": {}
  },
  {
   "cell_type": "code",
   "execution_count": 4,
   "source": [
    "LO_qrm = SGS100A(\"LO_qrm\", '192.168.0.7')\r\n",
    "LO_qcm = SGS100A(\"LO_qcm\", '192.168.0.8')\r\n"
   ],
   "outputs": [
    {
     "output_type": "stream",
     "name": "stdout",
     "text": [
      "Connected to: Rohde&Schwarz SGS100A (serial:1416.0505k02/113301, firmware:4.2.76.0-4.30.046.295) in 0.03s\n",
      "Connected to: Rohde&Schwarz SGS100A (serial:1416.0505k02/113300, firmware:4.2.76.0-4.30.046.295) in 0.02s\n"
     ]
    }
   ],
   "metadata": {}
  },
  {
   "cell_type": "code",
   "execution_count": 5,
   "source": [
    "LO_qrm.set_power(15)\r\n",
    "LO_qrm.set_frequency(7.789e9)\r\n",
    "LO_qrm.on()\r\n",
    "\r\n",
    "print (LO_qrm.getName())\r\n",
    "print (LO_qrm.getIP())\r\n",
    "print (LO_qrm.getPower())\r\n",
    "print (LO_qrm.getFrequency())\r\n",
    "\r\n",
    "\r\n",
    "LO_qcm.set_power(12)\r\n",
    "LO_qcm.set_frequency(8.9e9)\r\n",
    "LO_qcm.on()\r\n",
    "\r\n",
    "print (LO_qcm.getName())\r\n",
    "print (LO_qcm.getIP())\r\n",
    "print (LO_qcm.getPower())\r\n",
    "print (LO_qcm.getFrequency())\r\n"
   ],
   "outputs": [
    {
     "output_type": "stream",
     "name": "stdout",
     "text": [
      "LO_qrm\n",
      "192.168.0.7\n",
      "15\n",
      "7789000000.0\n",
      "LO_qcm\n",
      "192.168.0.8\n",
      "12\n",
      "8900000000.0\n"
     ]
    }
   ],
   "metadata": {}
  },
  {
   "cell_type": "code",
   "execution_count": null,
   "source": [],
   "outputs": [],
   "metadata": {}
  }
 ],
 "metadata": {
  "kernelspec": {
   "name": "python3",
   "display_name": "Python 3.8.12 64-bit ('quantum': conda)"
  },
  "language_info": {
   "codemirror_mode": {
    "name": "ipython",
    "version": 3
   },
   "file_extension": ".py",
   "mimetype": "text/x-python",
   "name": "python",
   "nbconvert_exporter": "python",
   "pygments_lexer": "ipython3",
   "version": "3.8.12"
  },
  "interpreter": {
   "hash": "18210219010fb2d7a5968abc54b76ef71852d47760608a0340d7441ae0333f5d"
  }
 },
 "nbformat": 4,
 "nbformat_minor": 5
}