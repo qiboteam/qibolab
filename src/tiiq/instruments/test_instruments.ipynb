{
 "cells": [
  {
   "cell_type": "markdown",
   "source": [
    "\n",
    "## Test Experiment to Test Instruments"
   ],
   "metadata": {}
  },
  {
   "cell_type": "code",
   "execution_count": 1,
   "source": [
    "import numpy as np\r\n",
    "\r\n",
    "from rohde_schwarz import SGS100A\r\n",
    "from qblox import Pulsar_QCM\r\n",
    "from qblox import Pulsar_QRM\r\n",
    "\r\n",
    "from quantify_core.data.handling import get_datadir, set_datadir\r\n",
    "from quantify_core.measurement import MeasurementControl\r\n",
    "from quantify_core.measurement.control import Settable, Gettable\r\n",
    "import quantify_core.visualization.pyqt_plotmon as pqm\r\n",
    "from quantify_core.visualization.instrument_monitor import InstrumentMonitor"
   ],
   "outputs": [],
   "metadata": {}
  },
  {
   "cell_type": "code",
   "execution_count": 2,
   "source": [
    "QRM_settings = {\r\n",
    "\t\t'ref_clock': 'external',\r\n",
    "        'gain': 0.5,\r\n",
    "        'hardware_avg_en': True,\r\n",
    "        'hardware_avg': 1024,\r\n",
    "        'sequencer': 0,\r\n",
    "        'acq_trigger_mode': 'sequencer',\r\n",
    "        'sync_en': True,\r\n",
    "\r\n",
    "        'data_dictionary': 'quantify-data/',\r\n",
    "        \r\n",
    "        'ro_pulse': {\t\"freq_if\": 20e6,\r\n",
    "\t\t\t\t\t\t\"amplitude\": 0.5, \r\n",
    "\t\t\t\t\t\t\"length\": 6000,\r\n",
    "\t\t\t\t\t\t\"offset_i\": 0,\r\n",
    "\t\t\t\t\t\t\"offset_q\": 0,\r\n",
    "\t\t\t\t\t\t\"shape\": \"Block\",\r\n",
    "\t\t\t\t\t\t\"delay_before\": 341,\r\n",
    "\t\t\t\t\t\t\"repetition_duration\": 200000,\r\n",
    "                                      },\r\n",
    "\r\n",
    "        'start_sample': 130,\r\n",
    "        'integration_length': 600,\r\n",
    "        'sampling_rate': 1e9,\r\n",
    "        'mode': 'ssb',\r\n",
    "}\r\n",
    "QCM_settings = {\r\n",
    "\t'ref_clock': 'external',\r\n",
    "        'gain': 0.5,\r\n",
    "        'hardware_avg': 1024,\r\n",
    "        'sequencer': 0,\r\n",
    "        'sync_en': True,\r\n",
    "        'pulse': {\t\"freq_if\": 100e6,\r\n",
    "\t\t\t\t\t\"amplitude\": 0.25, \r\n",
    "\t\t\t\t\t\"length\": 300,\r\n",
    "\t\t\t\t\t\"offset_i\": 0,\r\n",
    "\t\t\t\t\t\"offset_q\": 0,\r\n",
    "\t\t\t\t\t\"shape\": \"Gaussian\",\r\n",
    "\t\t\t\t\t\"delay_before\": 1, # cannot be 0\r\n",
    "\t\t\t\t\t\"repetition_duration\": 200000,\r\n",
    "                                      },\r\n",
    "}\r\n",
    "QRM_LO_settings = { \"power\": 10,\r\n",
    "\t\t\t\t\t\"frequency\":7.79813e9 - QRM_settings['ro_pulse']['freq_if'],\r\n",
    "}\r\n",
    "QCM_LO_settings = { \"power\": 12,\r\n",
    "\t\t\t\t\t\"frequency\":8.72e9 + QCM_settings['pulse']['freq_if'],\r\n",
    "}"
   ],
   "outputs": [],
   "metadata": {}
  },
  {
   "cell_type": "code",
   "execution_count": 3,
   "source": [
    "LO_qrm = SGS100A(\"LO_qrm\", '192.168.0.7')"
   ],
   "outputs": [
    {
     "output_type": "stream",
     "name": "stdout",
     "text": [
      "Connected to: Rohde&Schwarz SGS100A (serial:1416.0505k02/113301, firmware:4.2.76.0-4.30.046.295) in 0.06s\n"
     ]
    }
   ],
   "metadata": {}
  },
  {
   "cell_type": "code",
   "execution_count": 4,
   "source": [
    "LO_qcm = SGS100A(\"LO_qcm\", '192.168.0.101')"
   ],
   "outputs": [
    {
     "output_type": "stream",
     "name": "stdout",
     "text": [
      "Connected to: Rohde&Schwarz SGS100A (serial:1416.0505k02/113300, firmware:4.2.76.0-4.30.046.295) in 0.04s\n"
     ]
    }
   ],
   "metadata": {}
  },
  {
   "cell_type": "code",
   "execution_count": 5,
   "source": [
    "qrm = Pulsar_QRM(\"qrm\", '192.168.0.2')\r\n"
   ],
   "outputs": [],
   "metadata": {}
  },
  {
   "cell_type": "code",
   "execution_count": 6,
   "source": [
    "qcm = Pulsar_QCM(\"qcm\", '192.168.0.3')"
   ],
   "outputs": [],
   "metadata": {}
  },
  {
   "cell_type": "code",
   "execution_count": 7,
   "source": [
    "LO_qrm.set_power(QRM_LO_settings['power'])\r\n",
    "LO_qrm.set_frequency(QRM_LO_settings['frequency'])\r\n",
    "LO_qcm.set_power(QCM_LO_settings['power'])\r\n",
    "LO_qcm.set_frequency(QCM_LO_settings['frequency'])\r\n",
    "\r\n",
    "qrm.setup(QRM_settings)\r\n",
    "qcm.setup(QCM_settings)"
   ],
   "outputs": [],
   "metadata": {}
  },
  {
   "cell_type": "code",
   "execution_count": 8,
   "source": [
    "MC = MeasurementControl('MC')\r\n",
    "plotmon = pqm.PlotMonitor_pyqt('plotmon')\r\n",
    "insmon = InstrumentMonitor(\"Instruments Monitor\")\r\n",
    "\r\n",
    "MC.instr_plotmon(plotmon.name)\r\n",
    "MC.instrument_monitor(insmon.name)"
   ],
   "outputs": [],
   "metadata": {}
  },
  {
   "cell_type": "code",
   "execution_count": 9,
   "source": [
    "set_datadir(QRM_settings['data_dictionary'])\r\n",
    "print(f\"Data will be saved in:\\n{get_datadir()}\")"
   ],
   "outputs": [
    {
     "output_type": "stream",
     "name": "stdout",
     "text": [
      "Data will be saved in:\n",
      "quantify-data/\n"
     ]
    }
   ],
   "metadata": {}
  },
  {
   "cell_type": "code",
   "execution_count": 10,
   "source": [
    "LO_qcm.on()\r\n",
    "LO_qrm.on()"
   ],
   "outputs": [],
   "metadata": {}
  },
  {
   "cell_type": "markdown",
   "source": [
    "### Run qubit frequency spectroscopy"
   ],
   "metadata": {}
  },
  {
   "cell_type": "code",
   "execution_count": 11,
   "source": [
    "soft_avg_numnber = 3\r\n",
    "\r\n",
    "MC.settables(LO_qrm.LO.frequency)\r\n",
    "MC.setpoints(np.arange(-20e6,+20e6,0.5e6) + QRM_LO_settings['frequency'])\r\n",
    "MC.gettables(Gettable(qrm))"
   ],
   "outputs": [],
   "metadata": {}
  },
  {
   "cell_type": "code",
   "execution_count": 12,
   "source": [
    "dataset = MC.run('QubitSpec', soft_avg = soft_avg_numnber)"
   ],
   "outputs": [
    {
     "output_type": "stream",
     "name": "stdout",
     "text": [
      "Starting iterative measurement...\n",
      "  0% completed | elapsed time:      0s | time left:     92s  "
     ]
    },
    {
     "output_type": "stream",
     "name": "stderr",
     "text": [
      "C:\\Users\\Alvaro\\.conda\\envs\\Quantum\\lib\\site-packages\\pyqtgraph\\graphicsItems\\ScatterPlotItem.py:974: RuntimeWarning: All-NaN slice encountered\n",
      "  self.bounds[ax] = (np.nanmin(d) - self._maxSpotWidth*0.7072, np.nanmax(d) + self._maxSpotWidth*0.7072)\n",
      "C:\\Users\\Alvaro\\.conda\\envs\\Quantum\\lib\\site-packages\\pyqtgraph\\graphicsItems\\ScatterPlotItem.py:974: RuntimeWarning: All-NaN slice encountered\n",
      "  self.bounds[ax] = (np.nanmin(d) - self._maxSpotWidth*0.7072, np.nanmax(d) + self._maxSpotWidth*0.7072)\n",
      "C:\\Users\\Alvaro\\.conda\\envs\\Quantum\\lib\\site-packages\\pyqtgraph\\graphicsItems\\ScatterPlotItem.py:974: RuntimeWarning: All-NaN slice encountered\n",
      "  self.bounds[ax] = (np.nanmin(d) - self._maxSpotWidth*0.7072, np.nanmax(d) + self._maxSpotWidth*0.7072)\n",
      "C:\\Users\\Alvaro\\.conda\\envs\\Quantum\\lib\\site-packages\\pyqtgraph\\graphicsItems\\ScatterPlotItem.py:974: RuntimeWarning: All-NaN slice encountered\n",
      "  self.bounds[ax] = (np.nanmin(d) - self._maxSpotWidth*0.7072, np.nanmax(d) + self._maxSpotWidth*0.7072)\n",
      "C:\\Users\\Alvaro\\.conda\\envs\\Quantum\\lib\\site-packages\\pyqtgraph\\graphicsItems\\ScatterPlotItem.py:974: RuntimeWarning: All-NaN slice encountered\n",
      "  self.bounds[ax] = (np.nanmin(d) - self._maxSpotWidth*0.7072, np.nanmax(d) + self._maxSpotWidth*0.7072)\n"
     ]
    },
    {
     "output_type": "stream",
     "name": "stdout",
     "text": [
      "100% completed | elapsed time:     73s | time left:      0s  \n",
      "100% completed | elapsed time:     73s | time left:      0s  "
     ]
    }
   ],
   "metadata": {}
  },
  {
   "cell_type": "code",
   "execution_count": 13,
   "source": [
    "qrm.stop()\r\n",
    "qcm.stop()\r\n",
    "LO_qcm.off()\r\n",
    "LO_qrm.off()\r\n",
    "LO_qrm.close()\r\n",
    "LO_qcm.close()\r\n"
   ],
   "outputs": [],
   "metadata": {}
  },
  {
   "cell_type": "code",
   "execution_count": null,
   "source": [],
   "outputs": [],
   "metadata": {}
  },
  {
   "cell_type": "code",
   "execution_count": null,
   "source": [],
   "outputs": [],
   "metadata": {}
  }
 ],
 "metadata": {
  "interpreter": {
   "hash": "c0bbd4dcf4796bcb153fef3712d2b6eb2f28482e5bfbaff061534c6f60094e23"
  },
  "kernelspec": {
   "name": "python3",
   "display_name": "Python 3.8.12 64-bit ('Quantum': conda)"
  },
  "language_info": {
   "codemirror_mode": {
    "name": "ipython",
    "version": 3
   },
   "file_extension": ".py",
   "mimetype": "text/x-python",
   "name": "python",
   "nbconvert_exporter": "python",
   "pygments_lexer": "ipython3",
   "version": "3.8.12"
  }
 },
 "nbformat": 4,
 "nbformat_minor": 5
}