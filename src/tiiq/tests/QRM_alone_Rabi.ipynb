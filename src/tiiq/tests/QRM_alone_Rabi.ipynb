{
 "cells": [
  {
   "cell_type": "code",
   "execution_count": 1,
   "source": [
    "import os \r\n",
    "import scipy.signal\r\n",
    "import math\r\n",
    "import json\r\n",
    "import numpy as np\r\n",
    "import matplotlib.pyplot as plt\r\n",
    "import lmfit\r\n",
    "import xarray as xr\r\n",
    "import time\r\n",
    "\r\n",
    "import qcodes.instrument_drivers.rohde_schwarz.SGS100A as SGS100A\r\n",
    "from pulsar_qrm.pulsar_qrm import pulsar_qrm\r\n",
    "\r\n",
    "from quantify_core.data.handling import get_datadir, set_datadir\r\n",
    "from quantify_core.measurement import MeasurementControl\r\n",
    "from quantify_core.measurement.control import Settable, Gettable\r\n",
    "import quantify_core.visualization.pyqt_plotmon as pqm\r\n",
    "from quantify_core.visualization.instrument_monitor import InstrumentMonitor\r\n"
   ],
   "outputs": [],
   "metadata": {}
  },
  {
   "cell_type": "code",
   "execution_count": 2,
   "source": [
    "settings = {\r\n",
    "    \"gain\": 0.4,\r\n",
    "    'data_dictionary': 'quantify-data/',\r\n",
    "\r\n",
    "    \"qc_pulse\":{\r\n",
    "        \"shape\": \"Gaussian\",\r\n",
    "        \"amplitude\": 0.2,\r\n",
    "        \"freq_if\": 200e6, \r\n",
    "        \"length\": 4000,\r\n",
    "        \"offset_i\": 0,\r\n",
    "        \"offset_q\": 0,\r\n",
    "    },\r\n",
    "    \r\n",
    "    \"ro_pulse\":{\r\n",
    "        \"shape\": \"Block\",\r\n",
    "        \"amplitude\": 0.9,\r\n",
    "        \"freq_if\": 20e6,  \r\n",
    "        \"length\": 3000,\r\n",
    "        \"offset_i\": -0,  \r\n",
    "        \"offset_q\": -0,\r\n",
    "    },\r\n",
    "\r\n",
    "\r\n",
    "    \"start_sample\": 130,\r\n",
    "    \"hardware_avg\": 1024,\r\n",
    "    \"integration_length\": 2500,\r\n",
    "    \"sampling_rate\": 1e9,\r\n",
    "    \"mode\": \"ssb\",\r\n",
    "    \"software_averages\": 5,\r\n",
    "    \"hardware_avg\": 1024,\r\n",
    "    \r\n",
    "}"
   ],
   "outputs": [],
   "metadata": {
    "tags": []
   }
  },
  {
   "cell_type": "markdown",
   "source": [
    "### Instatiate Instruments"
   ],
   "metadata": {}
  },
  {
   "cell_type": "code",
   "execution_count": 3,
   "source": [
    "LO_qrm = SGS100A.RohdeSchwarz_SGS100A(\"qrm_LO\", 'TCPIP0::192.168.0.7::inst0::INSTR')\r\n",
    "LO_qrm.power(15)\r\n",
    "LO_qrm.frequency(7.79813e9-settings['ro_pulse']['freq_if'])\r\n",
    "LO_qcm = SGS100A.RohdeSchwarz_SGS100A(\"qcm_LO\", 'TCPIP0::192.168.0.101::inst0::INSTR')\r\n",
    "LO_qcm.power(12)\r\n",
    "LO_qcm.frequency(8.72e9+settings['qc_pulse']['freq_if'])"
   ],
   "outputs": [
    {
     "output_type": "stream",
     "name": "stdout",
     "text": [
      "Connected to: Rohde&Schwarz SGS100A (serial:1416.0505k02/113301, firmware:4.2.76.0-4.30.046.295) in 0.06s\n",
      "Connected to: Rohde&Schwarz SGS100A (serial:1416.0505k02/113300, firmware:4.2.76.0-4.30.046.295) in 0.03s\n"
     ]
    }
   ],
   "metadata": {}
  },
  {
   "cell_type": "code",
   "execution_count": 4,
   "source": [
    "qrm = pulsar_qrm(\"qrm\", \"192.168.0.2\")\r\n",
    "qrm.reset()\r\n",
    "qrm.reference_source(\"external\")\r\n",
    "\r\n",
    "qrm.sequencer0_gain_awg_path0(settings['gain'])\r\n",
    "qrm.sequencer0_gain_awg_path1(settings['gain'])\r\n",
    "\r\n",
    "#Enable hardware averaging\r\n",
    "qrm.scope_acq_sequencer_select(0) \r\n",
    "qrm.scope_acq_avg_mode_en_path0(True)\r\n",
    "qrm.scope_acq_avg_mode_en_path1(True)\r\n",
    "\r\n",
    "qrm.scope_acq_sequencer_select(0)\r\n",
    "qrm.scope_acq_trigger_mode_path0(\"sequencer\")\r\n",
    "qrm.scope_acq_trigger_mode_path1(\"sequencer\")\r\n",
    "\r\n",
    "#Enable sequencer sync\r\n",
    "qrm.sequencer0_sync_en(True)"
   ],
   "outputs": [],
   "metadata": {}
  },
  {
   "cell_type": "markdown",
   "source": [
    "### Prepare readout and qubit control pulse waveforms"
   ],
   "metadata": {}
  },
  {
   "cell_type": "code",
   "execution_count": 5,
   "source": [
    "def prepare_waveforms(freq_if, amplitude, length, offset_i, offset_q, shape= \"Block\"):\r\n",
    "    \r\n",
    "    if shape == 'Block':\r\n",
    "        envelope_i = amplitude*np.ones(int(length))\r\n",
    "        envelope_q = amplitude*np.zeros(int(length))\r\n",
    "    elif shape == 'Gaussian':\r\n",
    "        std = length/5\r\n",
    "        envelope_i = amplitude*scipy.signal.gaussian(length, std=std)\r\n",
    "        envelope_q = amplitude*np.zeros(int(length))\r\n",
    "\r\n",
    "    time = np.arange(length)*1e-9\r\n",
    "    cosalpha = np.cos(2*np.pi*freq_if*time)\r\n",
    "    sinalpha = np.sin(2*np.pi*freq_if*time)\r\n",
    "    mod_matrix = np.array([[cosalpha,sinalpha],[-sinalpha,cosalpha]])\r\n",
    "    result = []\r\n",
    "    for it,t,ii,qq in zip(np.arange(length),time,envelope_i,envelope_q):\r\n",
    "        result.append(mod_matrix[:,:,it]@np.array([ii,qq]))\r\n",
    "    mod_signals = np.array(result)\r\n",
    "\r\n",
    "    waveforms = {\r\n",
    "            \"modI_qrm\": {\"data\": [], \"index\": 0},\r\n",
    "            \"modQ_qrm\": {\"data\": [], \"index\": 1}\r\n",
    "        }\r\n",
    "    # adding mixer offsets\r\n",
    "    waveforms[\"modI_qrm\"][\"data\"] = mod_signals[:,0]+offset_i\r\n",
    "    waveforms[\"modQ_qrm\"][\"data\"] = mod_signals[:,1]+offset_q\r\n",
    "\r\n",
    "    #fig, ax = plt.subplots(1, 1, figsize=(15, 15/2/1.61))\r\n",
    "    #ax.plot(waveforms[\"modI_qrm\"][\"data\"],'-',color='C0')\r\n",
    "    #ax.plot(waveforms[\"modQ_qrm\"][\"data\"],'-',color='C1')\r\n",
    "    #ax.title.set_text('Pulse')\r\n",
    "    return waveforms"
   ],
   "outputs": [],
   "metadata": {}
  },
  {
   "cell_type": "code",
   "execution_count": null,
   "source": [],
   "outputs": [],
   "metadata": {}
  },
  {
   "cell_type": "markdown",
   "source": [
    "### Prepare readout and qubit control sequence programs"
   ],
   "metadata": {}
  },
  {
   "cell_type": "code",
   "execution_count": 6,
   "source": [
    "def calculate_repetition_rate(repetition_duration,\r\n",
    "                              wait_loop_step,\r\n",
    "                              duration_base):\r\n",
    "    extra_duration = repetition_duration-duration_base\r\n",
    "    extra_wait = extra_duration%wait_loop_step\r\n",
    "    num_wait_loops = (extra_duration-extra_wait)//wait_loop_step\r\n",
    "    return num_wait_loops,extra_wait"
   ],
   "outputs": [],
   "metadata": {}
  },
  {
   "cell_type": "code",
   "execution_count": null,
   "source": [],
   "outputs": [],
   "metadata": {}
  },
  {
   "cell_type": "code",
   "execution_count": null,
   "source": [],
   "outputs": [],
   "metadata": {}
  },
  {
   "cell_type": "code",
   "execution_count": null,
   "source": [],
   "outputs": [],
   "metadata": {}
  },
  {
   "cell_type": "code",
   "execution_count": 7,
   "source": [
    "class gettable_qrm_controller():\r\n",
    "    # Quantify Gettable Interface Implementation\r\n",
    "    label = ['Amplitude', 'Phase','I','Q']\r\n",
    "    unit = ['V', 'Radians','V','V']\r\n",
    "    name = ['A', 'Phi','I','Q']\r\n",
    "    \r\n",
    "    def __init__(self, qrm, settings):\r\n",
    "        self._qrm = qrm\r\n",
    "        self._settings = settings\r\n",
    "    \r\n",
    "    def get(self):\r\n",
    "        self.prepare()\r\n",
    "        return self.run()\r\n",
    "    \r\n",
    "    def prepare(self):\r\n",
    "        ro_pulse_waveforms=prepare_waveforms(freq_if = settings[\"ro_pulse\"][\"freq_if\"], amplitude = settings[\"ro_pulse\"][\"amplitude\"], length = settings[\"ro_pulse\"][\"length\"], \r\n",
    "                                        offset_i = settings[\"ro_pulse\"][\"offset_i\"], offset_q = settings[\"ro_pulse\"][\"offset_q\"], shape= settings[\"ro_pulse\"][\"shape\"])\r\n",
    "\r\n",
    "        qc_pulse_waveforms=prepare_waveforms(freq_if = settings[\"qc_pulse\"][\"freq_if\"], amplitude = settings[\"qc_pulse\"][\"amplitude\"], length = settings[\"qc_pulse\"][\"length\"], \r\n",
    "                                        offset_i = settings[\"qc_pulse\"][\"offset_i\"], offset_q = settings[\"qc_pulse\"][\"offset_q\"], shape= settings[\"qc_pulse\"][\"shape\"])\r\n",
    "\r\n",
    "        combined_waveforms = {\r\n",
    "                    \"modI_qrm\": {\"data\": [], \"index\": 0},\r\n",
    "                    \"modQ_qrm\": {\"data\": [], \"index\": 1}\r\n",
    "                }\r\n",
    "        combined_waveforms[\"modI_qrm\"][\"data\"] = np.concatenate((qc_pulse_waveforms[\"modI_qrm\"][\"data\"],np.zeros(40), ro_pulse_waveforms[\"modI_qrm\"][\"data\"]))\r\n",
    "        combined_waveforms[\"modQ_qrm\"][\"data\"] = np.concatenate((qc_pulse_waveforms[\"modQ_qrm\"][\"data\"],np.zeros(40), ro_pulse_waveforms[\"modQ_qrm\"][\"data\"]))\r\n",
    "\r\n",
    "        #fig, ax = plt.subplots(1, 1, figsize=(15, 15/2/1.61))\r\n",
    "        #ax.plot(combined_waveforms[\"modI_qrm\"][\"data\"],'-',color='C0')\r\n",
    "        #ax.plot(combined_waveforms[\"modQ_qrm\"][\"data\"],'-',color='C1')\r\n",
    "        #ax.title.set_text('Pulse')\r\n",
    "        \r\n",
    "        acquisitions = {\"single\":   {\"num_bins\": 1,\"index\":0}}\r\n",
    "\r\n",
    "        repetition_duration= 200000\r\n",
    "        wait_loop_step=1000\r\n",
    "        duration_base=16380\r\n",
    "\r\n",
    "        buffer_time = 40  #ns\r\n",
    "        num_wait_loops,extra_wait = calculate_repetition_rate(repetition_duration, wait_loop_step, duration_base)\r\n",
    "\r\n",
    "        seq_prog = f\"\"\"\r\n",
    "            move    {settings[\"hardware_avg\"]},R0\r\n",
    "            nop\r\n",
    "            wait_sync 4                               # Synchronize sequencers over multiple instruments\r\n",
    "\r\n",
    "        loop:\r\n",
    "            play      0,1,{settings[\"qc_pulse\"][\"length\"]+buffer_time+4}      # Play waveforms (0,1) in channels (O0,O1) and wait settings[\"qc_pulse\"][\"length\"]+ buffer_time + 4 ns.\r\n",
    "            acquire   0,0,4                           # Acquire waveforms over remaining duration of acquisition of input vector of length = 16380 with integration weights 0,0\r\n",
    "            wait      {duration_base-4-settings[\"qc_pulse\"][\"length\"]-buffer_time}\r\n",
    "            move      {num_wait_loops},R1     # repetion rate loop iterator\r\n",
    "            nop\r\n",
    "            reprateloop:\r\n",
    "                wait      {wait_loop_step}\r\n",
    "                loop      R1,@reprateloop\r\n",
    "            wait      {extra_wait}\r\n",
    "            loop    R0,@loop\r\n",
    "\r\n",
    "            stop\r\n",
    "        \"\"\"\r\n",
    "        print(seq_prog)\r\n",
    "\r\n",
    "        ### Upload waveforms\r\n",
    "\r\n",
    "        # Reformat waveforms to lists.\r\n",
    "        for name in combined_waveforms:\r\n",
    "            if str(type(combined_waveforms[name][\"data\"]).__name__) == \"ndarray\":\r\n",
    "                combined_waveforms[name][\"data\"] = combined_waveforms[name][\"data\"].tolist()  # JSON only supports lists\r\n",
    "\r\n",
    "        #Add sequence program and waveforms to single dictionary and write to JSON file.\r\n",
    "        wave_and_prog_dict = {\"waveforms\": combined_waveforms, \"weights\":{}, \"acquisitions\": acquisitions, \"program\": seq_prog}\r\n",
    "        with open(\"qrm_alone_sequence.json\", 'w', encoding='utf-8') as file:\r\n",
    "            json.dump(wave_and_prog_dict, file, indent=4)\r\n",
    "            file.close()\r\n",
    "\r\n",
    "        #Upload waveforms and program.\r\n",
    "        qrm.sequencer0_waveforms_and_program(os.path.join(os.getcwd(), \"qrm_alone_sequence.json\"))\r\n",
    "\r\n",
    "    def run(self):\r\n",
    "        qrm = self._qrm\r\n",
    "        sequencer = 0\r\n",
    "        #arm sequencer and start playing sequence\r\n",
    "        qrm.arm_sequencer()\r\n",
    "        qrm.start_sequencer()\r\n",
    "        #start acquisition of data\r\n",
    "        #Wait for the sequencer to stop with a timeout period of one minute.\r\n",
    "        qrm.get_sequencer_state(0, 1)\r\n",
    "        #Wait for the acquisition to finish with a timeout period of one second.\r\n",
    "        qrm.get_acquisition_state(sequencer, 1)\r\n",
    "        #Move acquisition data from temporary memory to acquisition list.\r\n",
    "        qrm.store_scope_acquisition(sequencer, \"single\")\r\n",
    "        #Get acquisition list from instrument.\r\n",
    "        self._single_acq = qrm.get_acquisitions(sequencer)\r\n",
    "        i,q = self._demodulate_and_integrate()\r\n",
    "        acquisition_results = np.sqrt(i**2+q**2),np.arctan2(q,i),i,q\r\n",
    "        self._acquisition_results = acquisition_results\r\n",
    "        return acquisition_results\r\n",
    "\r\n",
    "    def _demodulate_and_integrate(self):\r\n",
    "        settings = self._settings\r\n",
    "        freq_if = settings['ro_pulse']['freq_if']\r\n",
    "        start_sample =   settings['start_sample']\r\n",
    "        integration_length = settings['integration_length']\r\n",
    "        sampling_rate = settings['sampling_rate']\r\n",
    "        mode = settings['mode']\r\n",
    "\r\n",
    "        #DOWN Conversion\r\n",
    "        norm_factor = 1./(integration_length)\r\n",
    "        input_vec_I = np.array(self._single_acq[\"single\"][\"acquisition\"][\"scope\"][\"path0\"][\"data\"][start_sample:start_sample+integration_length])\r\n",
    "        input_vec_Q = np.array(self._single_acq[\"single\"][\"acquisition\"][\"scope\"][\"path1\"][\"data\"][start_sample:start_sample+integration_length])\r\n",
    "        input_vec_I -= np.mean(input_vec_I)\r\n",
    "        input_vec_Q -= np.mean(input_vec_Q)\r\n",
    "\r\n",
    "        if mode == 'ssb':\r\n",
    "            modulated_i = input_vec_I\r\n",
    "            modulated_q = input_vec_Q\r\n",
    "            time = np.arange(modulated_i.shape[0])*1e-9\r\n",
    "            cosalpha = np.cos(2*np.pi*freq_if*time)\r\n",
    "            sinalpha = np.sin(2*np.pi*freq_if*time)\r\n",
    "            demod_matrix = 2*np.array([[cosalpha,-sinalpha],[sinalpha,cosalpha]])\r\n",
    "            result = []\r\n",
    "            for it,t,ii,qq in zip(np.arange(modulated_i.shape[0]),time,modulated_i,modulated_q):\r\n",
    "                result.append(demod_matrix[:,:,it]@np.array([ii,qq]))\r\n",
    "            demodulated_signal = np.array(result)\r\n",
    "            integrated_signal = norm_factor*np.sum(demodulated_signal,axis=0)\r\n",
    "        elif mode == 'optimal':\r\n",
    "            raise NotImplementedError('Optimal Demodulation Mode not coded yet.')\r\n",
    "        else:\r\n",
    "            raise NotImplementedError('Demodulation mode not understood.')\r\n",
    "\r\n",
    "        self.integrated_signal = integrated_signal\r\n",
    "        self.demodulated_signal = demodulated_signal.tolist()\r\n",
    "\r\n",
    "        return integrated_signal\r\n"
   ],
   "outputs": [],
   "metadata": {}
  },
  {
   "cell_type": "code",
   "execution_count": 8,
   "source": [
    "set_datadir(settings['data_dictionary'])\r\n",
    "print(f\"Data will be saved in:\\n{get_datadir()}\")"
   ],
   "outputs": [
    {
     "output_type": "stream",
     "name": "stdout",
     "text": [
      "Data will be saved in:\n",
      "quantify-data/\n"
     ]
    }
   ],
   "metadata": {}
  },
  {
   "cell_type": "code",
   "execution_count": 9,
   "source": [
    "soft_avg_numnber = 10"
   ],
   "outputs": [],
   "metadata": {}
  },
  {
   "cell_type": "code",
   "execution_count": 10,
   "source": [
    "MC = MeasurementControl('MC')\r\n",
    "plotmon = pqm.PlotMonitor_pyqt('plotmon')\r\n",
    "insmon = InstrumentMonitor(\"Instruments Monitor\")\r\n",
    "\r\n",
    "MC.instr_plotmon(plotmon.name)\r\n",
    "MC.instrument_monitor(insmon.name)"
   ],
   "outputs": [],
   "metadata": {}
  },
  {
   "cell_type": "markdown",
   "source": [
    "### Rabi"
   ],
   "metadata": {}
  },
  {
   "cell_type": "code",
   "execution_count": 11,
   "source": [
    "class settable_parameter():\r\n",
    "    def __init__(self):\r\n",
    "\r\n",
    "        self.label = 'qc_pulse length'\r\n",
    "        self.unit = 'ns'\r\n",
    "        self.name = 'qc_pulse_length'\r\n",
    "        \r\n",
    "    def get(self):\r\n",
    "        return settings['qc_pulse']['length']\r\n",
    "        \r\n",
    "    def set(self,value):\r\n",
    "        settings['qc_pulse']['length']=value\r\n"
   ],
   "outputs": [],
   "metadata": {}
  },
  {
   "cell_type": "code",
   "execution_count": 12,
   "source": [
    "LO_qcm.on()\r\n",
    "LO_qrm.on()\r\n",
    "\r\n",
    "lowres_width = 1500\r\n",
    "lowres_step = 5\r\n",
    "highres_width = 0\r\n",
    "highres_step = 1\r\n",
    "scanrange = np.concatenate((np.arange(-lowres_width,-highres_width,lowres_step),np.arange(-highres_width,highres_width,highres_step),np.arange(highres_width,lowres_width,lowres_step)))\r\n",
    "#settings['qc_pulse']['length']=100\r\n",
    "LO_qrm.frequency(7.79805e9-settings['ro_pulse']['freq_if'])\r\n",
    "LO_qcm.frequency(8.72400e9+settings[\"qc_pulse\"][\"freq_if\"])\r\n",
    "\r\n",
    "MC.settables(settable_parameter())\r\n",
    "MC.setpoints(scanrange + lowres_width +10)\r\n",
    "MC.gettables(Gettable(gettable_qrm_controller(qrm,settings)))\r\n",
    "\r\n",
    "dataset = MC.run('Rabi Pulse Length', soft_avg = soft_avg_numnber)\r\n",
    "\r\n",
    "LO_qcm.off()\r\n",
    "LO_qrm.off()"
   ],
   "outputs": [
    {
     "output_type": "stream",
     "name": "stdout",
     "text": [
      "Starting iterative measurement...\n"
     ]
    },
    {
     "output_type": "stream",
     "name": "stderr",
     "text": [
      "C:\\Users\\Alvaro\\.conda\\envs\\Quantum\\lib\\site-packages\\pyqtgraph\\graphicsItems\\ScatterPlotItem.py:974: RuntimeWarning: All-NaN slice encountered\n",
      "  self.bounds[ax] = (np.nanmin(d) - self._maxSpotWidth*0.7072, np.nanmax(d) + self._maxSpotWidth*0.7072)\n"
     ]
    },
    {
     "output_type": "stream",
     "name": "stdout",
     "text": [
      "  5% completed | elapsed time:    111s | time left:   1994s  "
     ]
    }
   ],
   "metadata": {}
  },
  {
   "cell_type": "code",
   "execution_count": 13,
   "source": [
    "LO_qcm.off()\r\n",
    "LO_qrm.off()"
   ],
   "outputs": [],
   "metadata": {}
  },
  {
   "cell_type": "code",
   "execution_count": null,
   "source": [],
   "outputs": [],
   "metadata": {}
  },
  {
   "cell_type": "code",
   "execution_count": null,
   "source": [],
   "outputs": [],
   "metadata": {}
  },
  {
   "cell_type": "code",
   "execution_count": null,
   "source": [],
   "outputs": [],
   "metadata": {}
  },
  {
   "cell_type": "code",
   "execution_count": null,
   "source": [],
   "outputs": [],
   "metadata": {}
  },
  {
   "cell_type": "code",
   "execution_count": null,
   "source": [],
   "outputs": [],
   "metadata": {}
  },
  {
   "cell_type": "code",
   "execution_count": null,
   "source": [
    "qrm.stop()\n",
    "qcm.stop()\n",
    "LO_qcm.off()\n",
    "LO_qrm.off()\n",
    "LO_qrm.close()\n",
    "LO_qcm.close()"
   ],
   "outputs": [],
   "metadata": {}
  }
 ],
 "metadata": {
  "kernelspec": {
   "name": "python3",
   "display_name": "Python 3.8.12 64-bit ('Quantum': conda)"
  },
  "language_info": {
   "codemirror_mode": {
    "name": "ipython",
    "version": 3
   },
   "file_extension": ".py",
   "mimetype": "text/x-python",
   "name": "python",
   "nbconvert_exporter": "python",
   "pygments_lexer": "ipython3",
   "version": "3.8.12"
  },
  "interpreter": {
   "hash": "c0bbd4dcf4796bcb153fef3712d2b6eb2f28482e5bfbaff061534c6f60094e23"
  }
 },
 "nbformat": 4,
 "nbformat_minor": 5
}