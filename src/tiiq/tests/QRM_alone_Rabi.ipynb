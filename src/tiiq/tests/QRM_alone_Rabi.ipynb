{
 "cells": [
  {
   "cell_type": "code",
   "execution_count": 1,
   "id": "d3e5fc06-654c-4c6d-ab55-543ef003559e",
   "metadata": {},
   "outputs": [
    {
     "ename": "ImportError",
     "evalue": "DLL load failed while importing QtCore: The specified procedure could not be found.",
     "output_type": "error",
     "traceback": [
      "\u001b[1;31m---------------------------------------------------------------------------\u001b[0m",
      "\u001b[1;31mImportError\u001b[0m                               Traceback (most recent call last)",
      "\u001b[1;32m~\\AppData\\Local\\Temp/ipykernel_9460/1972722406.py\u001b[0m in \u001b[0;36m<module>\u001b[1;34m\u001b[0m\n\u001b[0;32m     15\u001b[0m \u001b[1;32mfrom\u001b[0m \u001b[0mquantify_core\u001b[0m\u001b[1;33m.\u001b[0m\u001b[0mmeasurement\u001b[0m \u001b[1;32mimport\u001b[0m \u001b[0mMeasurementControl\u001b[0m\u001b[1;33m\u001b[0m\u001b[1;33m\u001b[0m\u001b[0m\n\u001b[0;32m     16\u001b[0m \u001b[1;32mfrom\u001b[0m \u001b[0mquantify_core\u001b[0m\u001b[1;33m.\u001b[0m\u001b[0mmeasurement\u001b[0m\u001b[1;33m.\u001b[0m\u001b[0mcontrol\u001b[0m \u001b[1;32mimport\u001b[0m \u001b[0mSettable\u001b[0m\u001b[1;33m,\u001b[0m \u001b[0mGettable\u001b[0m\u001b[1;33m\u001b[0m\u001b[1;33m\u001b[0m\u001b[0m\n\u001b[1;32m---> 17\u001b[1;33m \u001b[1;32mimport\u001b[0m \u001b[0mquantify_core\u001b[0m\u001b[1;33m.\u001b[0m\u001b[0mvisualization\u001b[0m\u001b[1;33m.\u001b[0m\u001b[0mpyqt_plotmon\u001b[0m \u001b[1;32mas\u001b[0m \u001b[0mpqm\u001b[0m\u001b[1;33m\u001b[0m\u001b[1;33m\u001b[0m\u001b[0m\n\u001b[0m\u001b[0;32m     18\u001b[0m \u001b[1;32mfrom\u001b[0m \u001b[0mquantify_core\u001b[0m\u001b[1;33m.\u001b[0m\u001b[0mvisualization\u001b[0m\u001b[1;33m.\u001b[0m\u001b[0minstrument_monitor\u001b[0m \u001b[1;32mimport\u001b[0m \u001b[0mInstrumentMonitor\u001b[0m\u001b[1;33m\u001b[0m\u001b[1;33m\u001b[0m\u001b[0m\n",
      "\u001b[1;32m~\\.conda\\envs\\test4\\lib\\site-packages\\quantify_core-0.5.1-py3.8.egg\\quantify_core\\visualization\\__init__.py\u001b[0m in \u001b[0;36m<module>\u001b[1;34m\u001b[0m\n\u001b[0;32m     15\u001b[0m \"\"\"\n\u001b[0;32m     16\u001b[0m \u001b[1;33m\u001b[0m\u001b[0m\n\u001b[1;32m---> 17\u001b[1;33m \u001b[1;32mfrom\u001b[0m \u001b[1;33m.\u001b[0m\u001b[0minstrument_monitor\u001b[0m \u001b[1;32mimport\u001b[0m \u001b[0mInstrumentMonitor\u001b[0m\u001b[1;33m\u001b[0m\u001b[1;33m\u001b[0m\u001b[0m\n\u001b[0m\u001b[0;32m     18\u001b[0m \u001b[1;32mfrom\u001b[0m \u001b[1;33m.\u001b[0m\u001b[0mpyqt_plotmon\u001b[0m \u001b[1;32mimport\u001b[0m \u001b[0mPlotMonitor_pyqt\u001b[0m\u001b[1;33m\u001b[0m\u001b[1;33m\u001b[0m\u001b[0m\n\u001b[0;32m     19\u001b[0m \u001b[1;33m\u001b[0m\u001b[0m\n",
      "\u001b[1;32m~\\.conda\\envs\\test4\\lib\\site-packages\\quantify_core-0.5.1-py3.8.egg\\quantify_core\\visualization\\instrument_monitor.py\u001b[0m in \u001b[0;36m<module>\u001b[1;34m\u001b[0m\n\u001b[0;32m      5\u001b[0m \u001b[1;32mimport\u001b[0m \u001b[0mwarnings\u001b[0m\u001b[1;33m\u001b[0m\u001b[1;33m\u001b[0m\u001b[0m\n\u001b[0;32m      6\u001b[0m \u001b[1;33m\u001b[0m\u001b[0m\n\u001b[1;32m----> 7\u001b[1;33m \u001b[1;32mimport\u001b[0m \u001b[0mpyqtgraph\u001b[0m \u001b[1;32mas\u001b[0m \u001b[0mpg\u001b[0m\u001b[1;33m\u001b[0m\u001b[1;33m\u001b[0m\u001b[0m\n\u001b[0m\u001b[0;32m      8\u001b[0m \u001b[1;32mimport\u001b[0m \u001b[0mpyqtgraph\u001b[0m\u001b[1;33m.\u001b[0m\u001b[0mmultiprocess\u001b[0m \u001b[1;32mas\u001b[0m \u001b[0mpgmp\u001b[0m\u001b[1;33m\u001b[0m\u001b[1;33m\u001b[0m\u001b[0m\n\u001b[0;32m      9\u001b[0m \u001b[1;32mfrom\u001b[0m \u001b[0mpyqtgraph\u001b[0m\u001b[1;33m.\u001b[0m\u001b[0mmultiprocess\u001b[0m\u001b[1;33m.\u001b[0m\u001b[0mremoteproxy\u001b[0m \u001b[1;32mimport\u001b[0m \u001b[0mClosedError\u001b[0m\u001b[1;33m\u001b[0m\u001b[1;33m\u001b[0m\u001b[0m\n",
      "\u001b[1;32m~\\.conda\\envs\\test4\\lib\\site-packages\\pyqtgraph-0.12.3-py3.8.egg\\pyqtgraph\\__init__.py\u001b[0m in \u001b[0;36m<module>\u001b[1;34m\u001b[0m\n\u001b[0;32m     11\u001b[0m \u001b[1;31m## 'Qt' is a local module; it is intended mainly to cover up the differences\u001b[0m\u001b[1;33m\u001b[0m\u001b[1;33m\u001b[0m\u001b[1;33m\u001b[0m\u001b[0m\n\u001b[0;32m     12\u001b[0m \u001b[1;31m## between PyQt and PySide.\u001b[0m\u001b[1;33m\u001b[0m\u001b[1;33m\u001b[0m\u001b[1;33m\u001b[0m\u001b[0m\n\u001b[1;32m---> 13\u001b[1;33m \u001b[1;32mfrom\u001b[0m \u001b[1;33m.\u001b[0m\u001b[0mQt\u001b[0m \u001b[1;32mimport\u001b[0m \u001b[0mQtCore\u001b[0m\u001b[1;33m,\u001b[0m \u001b[0mQtGui\u001b[0m\u001b[1;33m,\u001b[0m \u001b[0mmkQApp\u001b[0m\u001b[1;33m\u001b[0m\u001b[1;33m\u001b[0m\u001b[0m\n\u001b[0m\u001b[0;32m     14\u001b[0m \u001b[1;32mfrom\u001b[0m \u001b[1;33m.\u001b[0m\u001b[0mQt\u001b[0m \u001b[1;32mimport\u001b[0m \u001b[0mexec_\u001b[0m \u001b[1;32mas\u001b[0m \u001b[0mexec\u001b[0m\u001b[1;33m\u001b[0m\u001b[1;33m\u001b[0m\u001b[0m\n\u001b[0;32m     15\u001b[0m \u001b[1;33m\u001b[0m\u001b[0m\n",
      "\u001b[1;32m~\\.conda\\envs\\test4\\lib\\site-packages\\pyqtgraph-0.12.3-py3.8.egg\\pyqtgraph\\Qt\\__init__.py\u001b[0m in \u001b[0;36m<module>\u001b[1;34m\u001b[0m\n\u001b[0;32m    147\u001b[0m     \u001b[1;31m# We're using PyQt5 which has a different structure so we're going to use a shim to\u001b[0m\u001b[1;33m\u001b[0m\u001b[1;33m\u001b[0m\u001b[1;33m\u001b[0m\u001b[0m\n\u001b[0;32m    148\u001b[0m     \u001b[1;31m# recreate the Qt4 structure for Qt5\u001b[0m\u001b[1;33m\u001b[0m\u001b[1;33m\u001b[0m\u001b[1;33m\u001b[0m\u001b[0m\n\u001b[1;32m--> 149\u001b[1;33m     \u001b[1;32mimport\u001b[0m \u001b[0mPyQt5\u001b[0m\u001b[1;33m.\u001b[0m\u001b[0mQtCore\u001b[0m\u001b[1;33m,\u001b[0m \u001b[0mPyQt5\u001b[0m\u001b[1;33m.\u001b[0m\u001b[0mQtGui\u001b[0m\u001b[1;33m,\u001b[0m \u001b[0mPyQt5\u001b[0m\u001b[1;33m.\u001b[0m\u001b[0mQtWidgets\u001b[0m\u001b[1;33m\u001b[0m\u001b[1;33m\u001b[0m\u001b[0m\n\u001b[0m\u001b[0;32m    150\u001b[0m     \u001b[0m_copy_attrs\u001b[0m\u001b[1;33m(\u001b[0m\u001b[0mPyQt5\u001b[0m\u001b[1;33m.\u001b[0m\u001b[0mQtCore\u001b[0m\u001b[1;33m,\u001b[0m \u001b[0mQtCore\u001b[0m\u001b[1;33m)\u001b[0m\u001b[1;33m\u001b[0m\u001b[1;33m\u001b[0m\u001b[0m\n\u001b[0;32m    151\u001b[0m     \u001b[0m_copy_attrs\u001b[0m\u001b[1;33m(\u001b[0m\u001b[0mPyQt5\u001b[0m\u001b[1;33m.\u001b[0m\u001b[0mQtGui\u001b[0m\u001b[1;33m,\u001b[0m \u001b[0mQtGui\u001b[0m\u001b[1;33m)\u001b[0m\u001b[1;33m\u001b[0m\u001b[1;33m\u001b[0m\u001b[0m\n",
      "\u001b[1;31mImportError\u001b[0m: DLL load failed while importing QtCore: The specified procedure could not be found."
     ]
    }
   ],
   "source": [
    "import os \n",
    "import scipy.signal\n",
    "import math\n",
    "import json\n",
    "import numpy as np\n",
    "import matplotlib.pyplot as plt\n",
    "import lmfit\n",
    "import xarray as xr\n",
    "import time\n",
    "\n",
    "import qcodes.instrument_drivers.rohde_schwarz.SGS100A as SGS100A\n",
    "from pulsar_qrm.pulsar_qrm import pulsar_qrm\n",
    "\n",
    "from quantify_core.data.handling import get_datadir, set_datadir\n",
    "from quantify_core.measurement import MeasurementControl\n",
    "from quantify_core.measurement.control import Settable, Gettable\n",
    "import quantify_core.visualization.pyqt_plotmon as pqm\n",
    "from quantify_core.visualization.instrument_monitor import InstrumentMonitor\n"
   ]
  },
  {
   "cell_type": "code",
   "execution_count": 2,
   "id": "0588ab14-c04c-4e98-8ffe-16089d50a635",
   "metadata": {
    "tags": []
   },
   "outputs": [],
   "source": [
    "settings = {\n",
    "    \"gain\": 0.4,\n",
    "    'data_dictionary': 'quantify-data/',\n",
    "\n",
    "    \"qc_pulse\":{\n",
    "        \"shape\": \"Gaussian\",\n",
    "        \"amplitude\": 0.2,\n",
    "        \"freq_if\": 200e6, \n",
    "        \"length\": 4000,\n",
    "        \"offset_i\": 0,\n",
    "        \"offset_q\": 0,\n",
    "    },\n",
    "    \n",
    "    \"ro_pulse\":{\n",
    "        \"shape\": \"Block\",\n",
    "        \"amplitude\": 0.9,\n",
    "        \"freq_if\": 20e6,  \n",
    "        \"length\": 3000,\n",
    "        \"offset_i\": -0,  \n",
    "        \"offset_q\": -0,\n",
    "    },\n",
    "\n",
    "\n",
    "    \"start_sample\": 130,\n",
    "    \"hardware_avg\": 1024,\n",
    "    \"integration_length\": 2500,\n",
    "    \"sampling_rate\": 1e9,\n",
    "    \"mode\": \"ssb\",\n",
    "    \"software_averages\": 5,\n",
    "    \"hardware_avg\": 1024,\n",
    "    \n",
    "}"
   ]
  },
  {
   "cell_type": "markdown",
   "id": "6250a0ee-d745-4397-9640-57d082f59170",
   "metadata": {},
   "source": [
    "### Instatiate Instruments"
   ]
  },
  {
   "cell_type": "code",
   "execution_count": 3,
   "id": "90f5281c-378a-43c9-a937-780f25de0c75",
   "metadata": {},
   "outputs": [
    {
     "name": "stdout",
     "output_type": "stream",
     "text": [
      "Connected to: Rohde&Schwarz SGS100A (serial:1416.0505k02/113301, firmware:4.2.76.0-4.30.046.295) in 0.14s\n",
      "Connected to: Rohde&Schwarz SGS100A (serial:1416.0505k02/113300, firmware:4.2.76.0-4.30.046.295) in 0.19s\n"
     ]
    }
   ],
   "source": [
    "LO_qrm = SGS100A.RohdeSchwarz_SGS100A(\"qrm_LO\", 'TCPIP0::192.168.0.7::inst0::INSTR')\n",
    "LO_qrm.power(15)\n",
    "LO_qrm.frequency(7.79813e9-settings['ro_pulse']['freq_if'])\n",
    "LO_qcm = SGS100A.RohdeSchwarz_SGS100A(\"qcm_LO\", 'TCPIP0::192.168.0.101::inst0::INSTR')\n",
    "LO_qcm.power(12)\n",
    "LO_qcm.frequency(8.72e9+settings['qc_pulse']['freq_if'])"
   ]
  },
  {
   "cell_type": "code",
   "execution_count": 4,
   "id": "e0819ab7-353d-4143-8f23-26edb3e7f523",
   "metadata": {},
   "outputs": [],
   "source": [
    "qrm = pulsar_qrm(\"qrm\", \"192.168.0.2\")\n",
    "qrm.reset()\n",
    "qrm.reference_source(\"external\")\n",
    "\n",
    "qrm.sequencer0_gain_awg_path0(settings['gain'])\n",
    "qrm.sequencer0_gain_awg_path1(settings['gain'])\n",
    "\n",
    "#Enable hardware averaging\n",
    "qrm.scope_acq_sequencer_select(0) \n",
    "qrm.scope_acq_avg_mode_en_path0(True)\n",
    "qrm.scope_acq_avg_mode_en_path1(True)\n",
    "\n",
    "qrm.scope_acq_sequencer_select(0)\n",
    "qrm.scope_acq_trigger_mode_path0(\"sequencer\")\n",
    "qrm.scope_acq_trigger_mode_path1(\"sequencer\")\n",
    "\n",
    "#Enable sequencer sync\n",
    "qrm.sequencer0_sync_en(True)"
   ]
  },
  {
   "cell_type": "markdown",
   "id": "6bdb941f-07b5-4ad5-87df-568e2dd86ce0",
   "metadata": {},
   "source": [
    "### Prepare readout and qubit control pulse waveforms"
   ]
  },
  {
   "cell_type": "code",
   "execution_count": 5,
   "id": "08647aa3-8307-4bc4-8558-da76b18a9c2d",
   "metadata": {},
   "outputs": [],
   "source": [
    "def prepare_waveforms(freq_if, amplitude, length, offset_i, offset_q, shape= \"Block\"):\n",
    "    \n",
    "    if shape == 'Block':\n",
    "        envelope_i = amplitude*np.ones(int(length))\n",
    "        envelope_q = amplitude*np.zeros(int(length))\n",
    "    elif shape == 'Gaussian':\n",
    "        std = length/5\n",
    "        envelope_i = amplitude*scipy.signal.gaussian(length, std=std)\n",
    "        envelope_q = amplitude*np.zeros(int(length))\n",
    "\n",
    "    time = np.arange(length)*1e-9\n",
    "    cosalpha = np.cos(2*np.pi*freq_if*time)\n",
    "    sinalpha = np.sin(2*np.pi*freq_if*time)\n",
    "    mod_matrix = np.array([[cosalpha,sinalpha],[-sinalpha,cosalpha]])\n",
    "    result = []\n",
    "    for it,t,ii,qq in zip(np.arange(length),time,envelope_i,envelope_q):\n",
    "        result.append(mod_matrix[:,:,it]@np.array([ii,qq]))\n",
    "    mod_signals = np.array(result)\n",
    "\n",
    "    waveforms = {\n",
    "            \"modI_qrm\": {\"data\": [], \"index\": 0},\n",
    "            \"modQ_qrm\": {\"data\": [], \"index\": 1}\n",
    "        }\n",
    "    # adding mixer offsets\n",
    "    waveforms[\"modI_qrm\"][\"data\"] = mod_signals[:,0]+offset_i\n",
    "    waveforms[\"modQ_qrm\"][\"data\"] = mod_signals[:,1]+offset_q\n",
    "\n",
    "    #fig, ax = plt.subplots(1, 1, figsize=(15, 15/2/1.61))\n",
    "    #ax.plot(waveforms[\"modI_qrm\"][\"data\"],'-',color='C0')\n",
    "    #ax.plot(waveforms[\"modQ_qrm\"][\"data\"],'-',color='C1')\n",
    "    #ax.title.set_text('Pulse')\n",
    "    return waveforms"
   ]
  },
  {
   "cell_type": "code",
   "execution_count": null,
   "id": "442d81f2-4145-4b16-8aae-23174d04548f",
   "metadata": {},
   "outputs": [],
   "source": []
  },
  {
   "cell_type": "markdown",
   "id": "a3b4e246-3708-43eb-bea8-986f1055e779",
   "metadata": {},
   "source": [
    "### Prepare readout and qubit control sequence programs"
   ]
  },
  {
   "cell_type": "code",
   "execution_count": 6,
   "id": "84a73428-b4d2-4372-86ac-d070ca9c2ad7",
   "metadata": {},
   "outputs": [],
   "source": [
    "def calculate_repetition_rate(repetition_duration,\n",
    "                              wait_loop_step,\n",
    "                              duration_base):\n",
    "    extra_duration = repetition_duration-duration_base\n",
    "    extra_wait = extra_duration%wait_loop_step\n",
    "    num_wait_loops = (extra_duration-extra_wait)//wait_loop_step\n",
    "    return num_wait_loops,extra_wait"
   ]
  },
  {
   "cell_type": "code",
   "execution_count": null,
   "id": "a7ea6fbe-c3c8-4da0-91d7-2ed6b1bbfda9",
   "metadata": {},
   "outputs": [],
   "source": []
  },
  {
   "cell_type": "code",
   "execution_count": null,
   "id": "cc3b1dc6-2918-43be-bf0c-6ac47ad3ccb7",
   "metadata": {},
   "outputs": [],
   "source": []
  },
  {
   "cell_type": "code",
   "execution_count": null,
   "id": "51d0469e-f728-4ee7-8f94-f21d9feb4321",
   "metadata": {},
   "outputs": [],
   "source": []
  },
  {
   "cell_type": "code",
   "execution_count": 7,
   "id": "671cb12b-1002-47b1-b93c-94e11142e217",
   "metadata": {},
   "outputs": [],
   "source": [
    "class gettable_qrm_controller():\n",
    "    # Quantify Gettable Interface Implementation\n",
    "    label = ['Amplitude', 'Phase','I','Q']\n",
    "    unit = ['V', 'Radians','V','V']\n",
    "    name = ['A', 'Phi','I','Q']\n",
    "    \n",
    "    def __init__(self, qrm, settings):\n",
    "        self._qrm = qrm\n",
    "        self._settings = settings\n",
    "    \n",
    "    def get(self):\n",
    "        self.prepare()\n",
    "        return self.run()\n",
    "    \n",
    "    def prepare(self):\n",
    "        ro_pulse_waveforms=prepare_waveforms(freq_if = settings[\"ro_pulse\"][\"freq_if\"], amplitude = settings[\"ro_pulse\"][\"amplitude\"], length = settings[\"ro_pulse\"][\"length\"], \n",
    "                                        offset_i = settings[\"ro_pulse\"][\"offset_i\"], offset_q = settings[\"ro_pulse\"][\"offset_q\"], shape= settings[\"ro_pulse\"][\"shape\"])\n",
    "\n",
    "        qc_pulse_waveforms=prepare_waveforms(freq_if = settings[\"qc_pulse\"][\"freq_if\"], amplitude = settings[\"qc_pulse\"][\"amplitude\"], length = settings[\"qc_pulse\"][\"length\"], \n",
    "                                        offset_i = settings[\"qc_pulse\"][\"offset_i\"], offset_q = settings[\"qc_pulse\"][\"offset_q\"], shape= settings[\"qc_pulse\"][\"shape\"])\n",
    "\n",
    "        combined_waveforms = {\n",
    "                    \"modI_qrm\": {\"data\": [], \"index\": 0},\n",
    "                    \"modQ_qrm\": {\"data\": [], \"index\": 1}\n",
    "                }\n",
    "        combined_waveforms[\"modI_qrm\"][\"data\"] = np.concatenate((qc_pulse_waveforms[\"modI_qrm\"][\"data\"],np.zeros(40), ro_pulse_waveforms[\"modI_qrm\"][\"data\"]))\n",
    "        combined_waveforms[\"modQ_qrm\"][\"data\"] = np.concatenate((qc_pulse_waveforms[\"modQ_qrm\"][\"data\"],np.zeros(40), ro_pulse_waveforms[\"modQ_qrm\"][\"data\"]))\n",
    "\n",
    "        #fig, ax = plt.subplots(1, 1, figsize=(15, 15/2/1.61))\n",
    "        #ax.plot(combined_waveforms[\"modI_qrm\"][\"data\"],'-',color='C0')\n",
    "        #ax.plot(combined_waveforms[\"modQ_qrm\"][\"data\"],'-',color='C1')\n",
    "        #ax.title.set_text('Pulse')\n",
    "        \n",
    "        acquisitions = {\"single\":   {\"num_bins\": 1,\"index\":0}}\n",
    "\n",
    "        repetition_duration= 200000\n",
    "        wait_loop_step=1000\n",
    "        duration_base=16380\n",
    "\n",
    "        buffer_time = 40  #ns\n",
    "        num_wait_loops,extra_wait = calculate_repetition_rate(repetition_duration, wait_loop_step, duration_base)\n",
    "\n",
    "        seq_prog = f\"\"\"\n",
    "            move    {settings[\"hardware_avg\"]},R0\n",
    "            nop\n",
    "            wait_sync 4                               # Synchronize sequencers over multiple instruments\n",
    "\n",
    "        loop:\n",
    "            play      0,1,{settings[\"qc_pulse\"][\"length\"]+buffer_time+4}      # Play waveforms (0,1) in channels (O0,O1) and wait settings[\"qc_pulse\"][\"length\"]+ buffer_time + 4 ns.\n",
    "            acquire   0,0,4                           # Acquire waveforms over remaining duration of acquisition of input vector of length = 16380 with integration weights 0,0\n",
    "            wait      {duration_base-4-settings[\"qc_pulse\"][\"length\"]-buffer_time}\n",
    "            move      {num_wait_loops},R1     # repetion rate loop iterator\n",
    "            nop\n",
    "            reprateloop:\n",
    "                wait      {wait_loop_step}\n",
    "                loop      R1,@reprateloop\n",
    "            wait      {extra_wait}\n",
    "            loop    R0,@loop\n",
    "\n",
    "            stop\n",
    "        \"\"\"\n",
    "\n",
    "        ### Upload waveforms\n",
    "\n",
    "        # Reformat waveforms to lists.\n",
    "        for name in combined_waveforms:\n",
    "            if str(type(combined_waveforms[name][\"data\"]).__name__) == \"ndarray\":\n",
    "                combined_waveforms[name][\"data\"] = combined_waveforms[name][\"data\"].tolist()  # JSON only supports lists\n",
    "\n",
    "        #Add sequence program and waveforms to single dictionary and write to JSON file.\n",
    "        wave_and_prog_dict = {\"waveforms\": combined_waveforms, \"weights\":{}, \"acquisitions\": acquisitions, \"program\": seq_prog}\n",
    "        with open(\"qrm_alone_sequence.json\", 'w', encoding='utf-8') as file:\n",
    "            json.dump(wave_and_prog_dict, file, indent=4)\n",
    "            file.close()\n",
    "\n",
    "        #Upload waveforms and program.\n",
    "        qrm.sequencer0_waveforms_and_program(os.path.join(os.getcwd(), \"qrm_alone_sequence.json\"))\n",
    "\n",
    "    def run(self):\n",
    "        qrm = self._qrm\n",
    "        sequencer = 0\n",
    "        #arm sequencer and start playing sequence\n",
    "        qrm.arm_sequencer()\n",
    "        qrm.start_sequencer()\n",
    "        #start acquisition of data\n",
    "        #Wait for the sequencer to stop with a timeout period of one minute.\n",
    "        qrm.get_sequencer_state(0, 1)\n",
    "        #Wait for the acquisition to finish with a timeout period of one second.\n",
    "        qrm.get_acquisition_state(sequencer, 1)\n",
    "        #Move acquisition data from temporary memory to acquisition list.\n",
    "        qrm.store_scope_acquisition(sequencer, \"single\")\n",
    "        #Get acquisition list from instrument.\n",
    "        self._single_acq = qrm.get_acquisitions(sequencer)\n",
    "        i,q = self._demodulate_and_integrate()\n",
    "        acquisition_results = np.sqrt(i**2+q**2),np.arctan2(q,i),i,q\n",
    "        self._acquisition_results = acquisition_results\n",
    "        return acquisition_results\n",
    "\n",
    "    def _demodulate_and_integrate(self):\n",
    "        settings = self._settings\n",
    "        freq_if = settings['ro_pulse']['freq_if']\n",
    "        start_sample =   settings['start_sample']\n",
    "        integration_length = settings['integration_length']\n",
    "        sampling_rate = settings['sampling_rate']\n",
    "        mode = settings['mode']\n",
    "\n",
    "        #DOWN Conversion\n",
    "        norm_factor = 1./(integration_length)\n",
    "        input_vec_I = np.array(self._single_acq[\"single\"][\"acquisition\"][\"scope\"][\"path0\"][\"data\"][start_sample:start_sample+integration_length])\n",
    "        input_vec_Q = np.array(self._single_acq[\"single\"][\"acquisition\"][\"scope\"][\"path1\"][\"data\"][start_sample:start_sample+integration_length])\n",
    "        input_vec_I -= np.mean(input_vec_I)\n",
    "        input_vec_Q -= np.mean(input_vec_Q)\n",
    "\n",
    "        if mode == 'ssb':\n",
    "            modulated_i = input_vec_I\n",
    "            modulated_q = input_vec_Q\n",
    "            time = np.arange(modulated_i.shape[0])*1e-9\n",
    "            cosalpha = np.cos(2*np.pi*freq_if*time)\n",
    "            sinalpha = np.sin(2*np.pi*freq_if*time)\n",
    "            demod_matrix = 2*np.array([[cosalpha,-sinalpha],[sinalpha,cosalpha]])\n",
    "            result = []\n",
    "            for it,t,ii,qq in zip(np.arange(modulated_i.shape[0]),time,modulated_i,modulated_q):\n",
    "                result.append(demod_matrix[:,:,it]@np.array([ii,qq]))\n",
    "            demodulated_signal = np.array(result)\n",
    "            integrated_signal = norm_factor*np.sum(demodulated_signal,axis=0)\n",
    "        elif mode == 'optimal':\n",
    "            raise NotImplementedError('Optimal Demodulation Mode not coded yet.')\n",
    "        else:\n",
    "            raise NotImplementedError('Demodulation mode not understood.')\n",
    "\n",
    "        self.integrated_signal = integrated_signal\n",
    "        self.demodulated_signal = demodulated_signal.tolist()\n",
    "\n",
    "        return integrated_signal\n"
   ]
  },
  {
   "cell_type": "code",
   "execution_count": 8,
   "id": "21130b37-0da7-42f0-9f04-e243a0353912",
   "metadata": {},
   "outputs": [
    {
     "name": "stdout",
     "output_type": "stream",
     "text": [
      "Data will be saved in:\n",
      "quantify-data/\n"
     ]
    }
   ],
   "source": [
    "set_datadir(settings['data_dictionary'])\n",
    "print(f\"Data will be saved in:\\n{get_datadir()}\")"
   ]
  },
  {
   "cell_type": "code",
   "execution_count": 9,
   "id": "eef0145d-21a4-4370-aa5f-964f4cdfcdf2",
   "metadata": {},
   "outputs": [],
   "source": [
    "soft_avg_numnber = 10"
   ]
  },
  {
   "cell_type": "code",
   "execution_count": 10,
   "id": "60fde193-c5cb-4741-85e9-0fbf323d6470",
   "metadata": {},
   "outputs": [],
   "source": [
    "MC = MeasurementControl('MC')\n",
    "plotmon = pqm.PlotMonitor_pyqt('plotmon')\n",
    "insmon = InstrumentMonitor(\"Instruments Monitor\")\n",
    "\n",
    "MC.instr_plotmon(plotmon.name)\n",
    "MC.instrument_monitor(insmon.name)"
   ]
  },
  {
   "cell_type": "markdown",
   "id": "dcc0949e-73b5-40c2-8cef-3733040a3a91",
   "metadata": {},
   "source": [
    "### Rabi"
   ]
  },
  {
   "cell_type": "code",
   "execution_count": 11,
   "id": "b85cc7c1-dda9-412e-bc07-b4375c7c6286",
   "metadata": {},
   "outputs": [],
   "source": [
    "class settable_parameter():\n",
    "    def __init__(self):\n",
    "\n",
    "        self.label = 'qc_pulse length'\n",
    "        self.unit = 'ns'\n",
    "        self.name = 'qc_pulse_length'\n",
    "        \n",
    "    def get(self):\n",
    "        return settings['qc_pulse']['length']\n",
    "        \n",
    "    def set(self,value):\n",
    "        settings['qc_pulse']['length']=value\n"
   ]
  },
  {
   "cell_type": "code",
   "execution_count": 12,
   "id": "127b9938-3fee-4d42-9f7d-e3aed3d17f85",
   "metadata": {},
   "outputs": [
    {
     "name": "stdout",
     "output_type": "stream",
     "text": [
      "Starting iterative measurement...\n",
      "100% completed  elapsed time:   2522s  time left:      0s  \n",
      "100% completed  elapsed time:   2522s  time left:      0s  "
     ]
    }
   ],
   "source": [
    "LO_qcm.on()\n",
    "LO_qrm.on()\n",
    "\n",
    "lowres_width = 1500\n",
    "lowres_step = 5\n",
    "highres_width = 0\n",
    "highres_step = 1\n",
    "scanrange = np.concatenate((np.arange(-lowres_width,-highres_width,lowres_step),np.arange(-highres_width,highres_width,highres_step),np.arange(highres_width,lowres_width,lowres_step)))\n",
    "#settings['qc_pulse']['length']=100\n",
    "LO_qrm.frequency(7.79805e9-settings['ro_pulse']['freq_if'])\n",
    "LO_qcm.frequency(8.72400e9+settings[\"qc_pulse\"][\"freq_if\"])\n",
    "\n",
    "MC.settables(settable_parameter())\n",
    "MC.setpoints(scanrange + lowres_width +10)\n",
    "MC.gettables(Gettable(gettable_qrm_controller(qrm,settings)))\n",
    "\n",
    "dataset = MC.run('Rabi Pulse Length', soft_avg = soft_avg_numnber)\n",
    "\n",
    "LO_qcm.off()\n",
    "LO_qrm.off()"
   ]
  },
  {
   "cell_type": "code",
   "execution_count": 13,
   "id": "46c7c258-66f0-43fa-b05b-8d084532ca7b",
   "metadata": {},
   "outputs": [],
   "source": [
    "LO_qcm.off()\n",
    "LO_qrm.off()"
   ]
  },
  {
   "cell_type": "code",
   "execution_count": null,
   "id": "5ebf876e-7869-4018-9fea-6b74534614db",
   "metadata": {},
   "outputs": [],
   "source": []
  },
  {
   "cell_type": "code",
   "execution_count": null,
   "id": "e86c8777-b96f-4e6a-b58b-e01aa8c7d26d",
   "metadata": {},
   "outputs": [],
   "source": []
  },
  {
   "cell_type": "code",
   "execution_count": null,
   "id": "ebb29b3a-80d1-4d7a-8b38-71f75ae2a9ff",
   "metadata": {},
   "outputs": [],
   "source": []
  },
  {
   "cell_type": "code",
   "execution_count": null,
   "id": "60f2b0f0-7cec-4531-b24b-c1215e01e461",
   "metadata": {},
   "outputs": [],
   "source": []
  },
  {
   "cell_type": "code",
   "execution_count": null,
   "id": "308d6098-45a2-40eb-921a-ebd0d926dc9b",
   "metadata": {},
   "outputs": [],
   "source": []
  },
  {
   "cell_type": "code",
   "execution_count": null,
   "id": "635fbf9a-1110-4bce-9e43-0cb8460b03a6",
   "metadata": {},
   "outputs": [],
   "source": [
    "qrm.stop()\n",
    "qcm.stop()\n",
    "LO_qcm.off()\n",
    "LO_qrm.off()\n",
    "LO_qrm.close()\n",
    "LO_qcm.close()"
   ]
  }
 ],
 "metadata": {
  "kernelspec": {
   "display_name": "Python 3 (ipykernel)",
   "language": "python",
   "name": "python3"
  },
  "language_info": {
   "codemirror_mode": {
    "name": "ipython",
    "version": 3
   },
   "file_extension": ".py",
   "mimetype": "text/x-python",
   "name": "python",
   "nbconvert_exporter": "python",
   "pygments_lexer": "ipython3",
   "version": "3.8.12"
  }
 },
 "nbformat": 4,
 "nbformat_minor": 5
}
