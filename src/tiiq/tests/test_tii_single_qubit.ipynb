{
 "cells": [
  {
   "cell_type": "markdown",
   "source": [
    "## TIISingleQubit"
   ],
   "metadata": {}
  },
  {
   "cell_type": "code",
   "execution_count": 1,
   "source": [
    "# from tiiq.platforms.tii_single_qubit import TIISingleQubit\r\n",
    "from tii_single_qubit import TIISingleQubit"
   ],
   "outputs": [],
   "metadata": {}
  },
  {
   "cell_type": "code",
   "execution_count": 2,
   "source": [
    "tiisq = TIISingleQubit()"
   ],
   "outputs": [
    {
     "output_type": "stream",
     "name": "stdout",
     "text": [
      "Connected to: Rohde&Schwarz SGS100A (serial:1416.0505k02/113301, firmware:4.2.76.0-4.30.046.295) in 0.05s\n",
      "Connected to: Rohde&Schwarz SGS100A (serial:1416.0505k02/113300, firmware:4.2.76.0-4.30.046.295) in 0.03s\n"
     ]
    }
   ],
   "metadata": {}
  },
  {
   "cell_type": "code",
   "execution_count": null,
   "source": [
    "tiisq.run_resonator_spectroscopy()\r\n"
   ],
   "outputs": [],
   "metadata": {}
  },
  {
   "cell_type": "code",
   "execution_count": null,
   "source": [
    "tiisq.run_qubit_spectroscopy()\r\n"
   ],
   "outputs": [],
   "metadata": {}
  },
  {
   "cell_type": "code",
   "execution_count": null,
   "source": [
    "tiisq.run_Rabi_pulse_length()"
   ],
   "outputs": [],
   "metadata": {}
  },
  {
   "cell_type": "markdown",
   "source": [
    "## TIISingleQubitSinglePulsar"
   ],
   "metadata": {}
  },
  {
   "cell_type": "code",
   "execution_count": 1,
   "source": [
    "from tii_single_qubit_single_pulsar import TIISingleQubitSinglePulsar"
   ],
   "outputs": [],
   "metadata": {}
  },
  {
   "cell_type": "code",
   "execution_count": 2,
   "source": [
    "tiisqps = TIISingleQubitSinglePulsar()\r\n"
   ],
   "outputs": [
    {
     "output_type": "stream",
     "name": "stdout",
     "text": [
      "Connected to: Rohde&Schwarz SGS100A (serial:1416.0505k02/113301, firmware:4.2.76.0-4.30.046.295) in 0.06s\n",
      "Connected to: Rohde&Schwarz SGS100A (serial:1416.0505k02/113300, firmware:4.2.76.0-4.30.046.295) in 0.02s\n"
     ]
    }
   ],
   "metadata": {}
  },
  {
   "cell_type": "code",
   "execution_count": 3,
   "source": [
    "tiisqps.run_resonator_spectroscopy()"
   ],
   "outputs": [
    {
     "output_type": "stream",
     "name": "stdout",
     "text": [
      "Starting iterative measurement...\n"
     ]
    },
    {
     "output_type": "stream",
     "name": "stderr",
     "text": [
      "C:\\Users\\Alvaro\\.conda\\envs\\Quantum\\lib\\site-packages\\pyqtgraph\\graphicsItems\\ScatterPlotItem.py:974: RuntimeWarning: All-NaN slice encountered\n",
      "  self.bounds[ax] = (np.nanmin(d) - self._maxSpotWidth*0.7072, np.nanmax(d) + self._maxSpotWidth*0.7072)\n",
      "C:\\Users\\Alvaro\\.conda\\envs\\Quantum\\lib\\site-packages\\pyqtgraph\\graphicsItems\\ScatterPlotItem.py:974: RuntimeWarning: All-NaN slice encountered\n",
      "  self.bounds[ax] = (np.nanmin(d) - self._maxSpotWidth*0.7072, np.nanmax(d) + self._maxSpotWidth*0.7072)\n",
      "C:\\Users\\Alvaro\\.conda\\envs\\Quantum\\lib\\site-packages\\pyqtgraph\\graphicsItems\\ScatterPlotItem.py:974: RuntimeWarning: All-NaN slice encountered\n",
      "  self.bounds[ax] = (np.nanmin(d) - self._maxSpotWidth*0.7072, np.nanmax(d) + self._maxSpotWidth*0.7072)\n",
      "C:\\Users\\Alvaro\\.conda\\envs\\Quantum\\lib\\site-packages\\pyqtgraph\\graphicsItems\\ScatterPlotItem.py:974: RuntimeWarning: All-NaN slice encountered\n",
      "  self.bounds[ax] = (np.nanmin(d) - self._maxSpotWidth*0.7072, np.nanmax(d) + self._maxSpotWidth*0.7072)\n",
      "C:\\Users\\Alvaro\\.conda\\envs\\Quantum\\lib\\site-packages\\pyqtgraph\\graphicsItems\\ScatterPlotItem.py:974: RuntimeWarning: All-NaN slice encountered\n",
      "  self.bounds[ax] = (np.nanmin(d) - self._maxSpotWidth*0.7072, np.nanmax(d) + self._maxSpotWidth*0.7072)\n"
     ]
    },
    {
     "output_type": "stream",
     "name": "stdout",
     "text": [
      "100% completed | elapsed time:     20s | time left:      0s  \n",
      "100% completed | elapsed time:     20s | time left:      0s  "
     ]
    }
   ],
   "metadata": {}
  },
  {
   "cell_type": "code",
   "execution_count": 4,
   "source": [
    "tiisqps.run_qubit_spectroscopy()"
   ],
   "outputs": [
    {
     "output_type": "stream",
     "name": "stdout",
     "text": [
      "Starting iterative measurement...\n"
     ]
    },
    {
     "output_type": "stream",
     "name": "stderr",
     "text": [
      "C:\\Users\\Alvaro\\.conda\\envs\\Quantum\\lib\\site-packages\\pyqtgraph\\graphicsItems\\ScatterPlotItem.py:974: RuntimeWarning: All-NaN slice encountered\n",
      "  self.bounds[ax] = (np.nanmin(d) - self._maxSpotWidth*0.7072, np.nanmax(d) + self._maxSpotWidth*0.7072)\n",
      "C:\\Users\\Alvaro\\.conda\\envs\\Quantum\\lib\\site-packages\\pyqtgraph\\graphicsItems\\ScatterPlotItem.py:974: RuntimeWarning: All-NaN slice encountered\n",
      "  self.bounds[ax] = (np.nanmin(d) - self._maxSpotWidth*0.7072, np.nanmax(d) + self._maxSpotWidth*0.7072)\n",
      "C:\\Users\\Alvaro\\.conda\\envs\\Quantum\\lib\\site-packages\\pyqtgraph\\graphicsItems\\ScatterPlotItem.py:974: RuntimeWarning: All-NaN slice encountered\n",
      "  self.bounds[ax] = (np.nanmin(d) - self._maxSpotWidth*0.7072, np.nanmax(d) + self._maxSpotWidth*0.7072)\n",
      "C:\\Users\\Alvaro\\.conda\\envs\\Quantum\\lib\\site-packages\\pyqtgraph\\graphicsItems\\ScatterPlotItem.py:974: RuntimeWarning: All-NaN slice encountered\n",
      "  self.bounds[ax] = (np.nanmin(d) - self._maxSpotWidth*0.7072, np.nanmax(d) + self._maxSpotWidth*0.7072)\n",
      "C:\\Users\\Alvaro\\.conda\\envs\\Quantum\\lib\\site-packages\\pyqtgraph\\graphicsItems\\ScatterPlotItem.py:974: RuntimeWarning: All-NaN slice encountered\n",
      "  self.bounds[ax] = (np.nanmin(d) - self._maxSpotWidth*0.7072, np.nanmax(d) + self._maxSpotWidth*0.7072)\n"
     ]
    },
    {
     "output_type": "stream",
     "name": "stdout",
     "text": [
      "100% completed | elapsed time:     30s | time left:      0s  \n",
      "100% completed | elapsed time:     30s | time left:      0s  "
     ]
    }
   ],
   "metadata": {}
  },
  {
   "cell_type": "code",
   "execution_count": null,
   "source": [
    "tiisqps.run_Rabi_pulse_length()"
   ],
   "outputs": [],
   "metadata": {}
  },
  {
   "cell_type": "code",
   "execution_count": null,
   "source": [],
   "outputs": [],
   "metadata": {}
  }
 ],
 "metadata": {
  "interpreter": {
   "hash": "c0bbd4dcf4796bcb153fef3712d2b6eb2f28482e5bfbaff061534c6f60094e23"
  },
  "kernelspec": {
   "name": "python3",
   "display_name": "Python 3.8.12 64-bit ('Quantum': conda)"
  },
  "language_info": {
   "codemirror_mode": {
    "name": "ipython",
    "version": 3
   },
   "file_extension": ".py",
   "mimetype": "text/x-python",
   "name": "python",
   "nbconvert_exporter": "python",
   "pygments_lexer": "ipython3",
   "version": "3.8.12"
  }
 },
 "nbformat": 4,
 "nbformat_minor": 5
}