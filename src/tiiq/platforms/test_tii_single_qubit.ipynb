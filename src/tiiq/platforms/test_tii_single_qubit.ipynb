{
 "cells": [
  {
   "cell_type": "markdown",
   "source": [
    "## Test TII Single Qubit Platform"
   ],
   "metadata": {}
  },
  {
   "cell_type": "code",
   "execution_count": null,
   "source": [
    "from tiiq.platforms.tii_single_qubit import TIISingleQubit"
   ],
   "outputs": [],
   "metadata": {}
  },
  {
   "cell_type": "code",
   "execution_count": null,
   "source": [
    "tiisq = TIISingleQubit()"
   ],
   "outputs": [],
   "metadata": {}
  },
  {
   "cell_type": "code",
   "execution_count": null,
   "source": [
    "tiisq.run_resonator_spectroscopy()\r\n",
    "tiisq.run_qubit_spectroscopy()\r\n",
    "tiisq.run_Rabi_pulse_length()"
   ],
   "outputs": [],
   "metadata": {}
  }
 ],
 "metadata": {
  "interpreter": {
   "hash": "18210219010fb2d7a5968abc54b76ef71852d47760608a0340d7441ae0333f5d"
  },
  "kernelspec": {
   "display_name": "Python 3",
   "language": "python",
   "name": "python3"
  },
  "language_info": {
   "codemirror_mode": {
    "name": "ipython",
    "version": 3
   },
   "file_extension": ".py",
   "mimetype": "text/x-python",
   "name": "python",
   "nbconvert_exporter": "python",
   "pygments_lexer": "ipython3",
   "version": "3.8.8"
  }
 },
 "nbformat": 4,
 "nbformat_minor": 5
}