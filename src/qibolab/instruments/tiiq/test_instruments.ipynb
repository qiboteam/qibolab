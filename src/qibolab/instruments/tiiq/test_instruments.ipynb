{
 "cells": [
  {
   "cell_type": "markdown",
   "metadata": {},
   "source": [
    "\n",
    "## Test Experiment to Test Instruments"
   ]
  },
  {
   "cell_type": "code",
   "execution_count": 1,
   "metadata": {},
   "outputs": [],
   "source": [
    "import numpy as np\n",
    "\n",
    "from qibolab.instruments.rohde_schwarz import SGS100A\n",
    "from qibolab.instruments.qblox import Pulsar_QCM\n",
    "from qibolab.instruments.qblox import Pulsar_QRM\n",
    "\n",
    "from quantify_core.data.handling import get_datadir, set_datadir\n",
    "from quantify_core.measurement import MeasurementControl\n",
    "from quantify_core.measurement.control import Settable, Gettable\n",
    "import quantify_core.visualization.pyqt_plotmon as pqm\n",
    "from quantify_core.visualization.instrument_monitor import InstrumentMonitor"
   ]
  },
  {
   "cell_type": "code",
   "execution_count": 2,
   "metadata": {},
   "outputs": [],
   "source": [
    "QRM_settings = {\n",
    "\t\t'ref_clock': 'external',\n",
    "        'gain': 0.5,\n",
    "        'hardware_avg_en': True,\n",
    "        'hardware_avg': 1024,\n",
    "        'sequencer': 0,\n",
    "        'acq_trigger_mode': 'sequencer',\n",
    "        'sync_en': True,\n",
    "\n",
    "        'data_dictionary': 'quantify-data/',\n",
    "        \n",
    "        'ro_pulse': {\t\"freq_if\": 20e6,\n",
    "\t\t\t\t\t\t\"amplitude\": 0.5, \n",
    "\t\t\t\t\t\t\"length\": 6000,\n",
    "\t\t\t\t\t\t\"offset_i\": 0,\n",
    "\t\t\t\t\t\t\"offset_q\": 0,\n",
    "\t\t\t\t\t\t\"shape\": \"Block\",\n",
    "\t\t\t\t\t\t\"delay_before\": 341,\n",
    "\t\t\t\t\t\t\"repetition_duration\": 200000,\n",
    "                                      },\n",
    "\n",
    "        'start_sample': 130,\n",
    "        'integration_length': 600,\n",
    "        'sampling_rate': 1e9,\n",
    "        'mode': 'ssb',\n",
    "}\n",
    "QCM_settings = {\n",
    "\t'ref_clock': 'external',\n",
    "        'gain': 0.5,\n",
    "        'hardware_avg': 1024,\n",
    "        'sequencer': 0,\n",
    "        'sync_en': True,\n",
    "        'pulse': {\t\"freq_if\": 100e6,\n",
    "\t\t\t\t\t\"amplitude\": 0.25, \n",
    "\t\t\t\t\t\"length\": 300,\n",
    "\t\t\t\t\t\"offset_i\": 0,\n",
    "\t\t\t\t\t\"offset_q\": 0,\n",
    "\t\t\t\t\t\"shape\": \"Gaussian\",\n",
    "\t\t\t\t\t\"delay_before\": 1, # cannot be 0\n",
    "\t\t\t\t\t\"repetition_duration\": 200000,\n",
    "                                      },\n",
    "}\n",
    "QRM_LO_settings = { \"power\": 10,\n",
    "\t\t\t\t\t\"frequency\":7.79813e9 - QRM_settings['ro_pulse']['freq_if'],\n",
    "}\n",
    "QCM_LO_settings = { \"power\": 12,\n",
    "\t\t\t\t\t\"frequency\":8.72e9 + QCM_settings['pulse']['freq_if'],\n",
    "}"
   ]
  },
  {
   "cell_type": "code",
   "execution_count": 3,
   "metadata": {},
   "outputs": [
    {
     "name": "stdout",
     "output_type": "stream",
     "text": [
      "Connected to: Rohde&Schwarz SGS100A (serial:1416.0505k02/113301, firmware:4.2.76.0-4.30.046.295) in 0.06s\n"
     ]
    }
   ],
   "source": [
    "LO_qrm = SGS100A(\"LO_qrm\", '192.168.0.7')"
   ]
  },
  {
   "cell_type": "code",
   "execution_count": 4,
   "metadata": {},
   "outputs": [
    {
     "name": "stdout",
     "output_type": "stream",
     "text": [
      "Connected to: Rohde&Schwarz SGS100A (serial:1416.0505k02/113300, firmware:4.2.76.0-4.30.046.295) in 0.04s\n"
     ]
    }
   ],
   "source": [
    "LO_qcm = SGS100A(\"LO_qcm\", '192.168.0.101')"
   ]
  },
  {
   "cell_type": "code",
   "execution_count": 5,
   "metadata": {},
   "outputs": [],
   "source": [
    "qrm = Pulsar_QRM(\"qrm\", '192.168.0.2')\n"
   ]
  },
  {
   "cell_type": "code",
   "execution_count": 6,
   "metadata": {},
   "outputs": [],
   "source": [
    "qcm = Pulsar_QCM(\"qcm\", '192.168.0.3')"
   ]
  },
  {
   "cell_type": "code",
   "execution_count": 7,
   "metadata": {},
   "outputs": [],
   "source": [
    "LO_qrm.set_power(QRM_LO_settings['power'])\n",
    "LO_qrm.set_frequency(QRM_LO_settings['frequency'])\n",
    "LO_qcm.set_power(QCM_LO_settings['power'])\n",
    "LO_qcm.set_frequency(QCM_LO_settings['frequency'])\n",
    "\n",
    "qrm.setup(QRM_settings)\n",
    "qcm.setup(QCM_settings)"
   ]
  },
  {
   "cell_type": "code",
   "execution_count": 8,
   "metadata": {},
   "outputs": [],
   "source": [
    "MC = MeasurementControl('MC')\n",
    "plotmon = pqm.PlotMonitor_pyqt('plotmon')\n",
    "insmon = InstrumentMonitor(\"Instruments Monitor\")\n",
    "\n",
    "MC.instr_plotmon(plotmon.name)\n",
    "MC.instrument_monitor(insmon.name)"
   ]
  },
  {
   "cell_type": "code",
   "execution_count": 9,
   "metadata": {},
   "outputs": [
    {
     "name": "stdout",
     "output_type": "stream",
     "text": [
      "Data will be saved in:\n",
      "quantify-data/\n"
     ]
    }
   ],
   "source": [
    "set_datadir(QRM_settings['data_dictionary'])\n",
    "print(f\"Data will be saved in:\\n{get_datadir()}\")"
   ]
  },
  {
   "cell_type": "code",
   "execution_count": 10,
   "metadata": {},
   "outputs": [],
   "source": [
    "LO_qcm.on()\n",
    "LO_qrm.on()"
   ]
  },
  {
   "cell_type": "markdown",
   "metadata": {},
   "source": [
    "### Run qubit frequency spectroscopy"
   ]
  },
  {
   "cell_type": "code",
   "execution_count": 11,
   "metadata": {},
   "outputs": [],
   "source": [
    "soft_avg_numnber = 3\n",
    "\n",
    "MC.settables(LO_qrm.LO.frequency)\n",
    "MC.setpoints(np.arange(-20e6,+20e6,0.5e6) + QRM_LO_settings['frequency'])\n",
    "MC.gettables(Gettable(qrm))"
   ]
  },
  {
   "cell_type": "code",
   "execution_count": 12,
   "metadata": {},
   "outputs": [
    {
     "name": "stdout",
     "output_type": "stream",
     "text": [
      "Starting iterative measurement...\n",
      "  0% completed | elapsed time:      0s | time left:     92s  "
     ]
    },
    {
     "name": "stderr",
     "output_type": "stream",
     "text": [
      "C:\\Users\\Alvaro\\.conda\\envs\\Quantum\\lib\\site-packages\\pyqtgraph\\graphicsItems\\ScatterPlotItem.py:974: RuntimeWarning: All-NaN slice encountered\n",
      "  self.bounds[ax] = (np.nanmin(d) - self._maxSpotWidth*0.7072, np.nanmax(d) + self._maxSpotWidth*0.7072)\n",
      "C:\\Users\\Alvaro\\.conda\\envs\\Quantum\\lib\\site-packages\\pyqtgraph\\graphicsItems\\ScatterPlotItem.py:974: RuntimeWarning: All-NaN slice encountered\n",
      "  self.bounds[ax] = (np.nanmin(d) - self._maxSpotWidth*0.7072, np.nanmax(d) + self._maxSpotWidth*0.7072)\n",
      "C:\\Users\\Alvaro\\.conda\\envs\\Quantum\\lib\\site-packages\\pyqtgraph\\graphicsItems\\ScatterPlotItem.py:974: RuntimeWarning: All-NaN slice encountered\n",
      "  self.bounds[ax] = (np.nanmin(d) - self._maxSpotWidth*0.7072, np.nanmax(d) + self._maxSpotWidth*0.7072)\n",
      "C:\\Users\\Alvaro\\.conda\\envs\\Quantum\\lib\\site-packages\\pyqtgraph\\graphicsItems\\ScatterPlotItem.py:974: RuntimeWarning: All-NaN slice encountered\n",
      "  self.bounds[ax] = (np.nanmin(d) - self._maxSpotWidth*0.7072, np.nanmax(d) + self._maxSpotWidth*0.7072)\n",
      "C:\\Users\\Alvaro\\.conda\\envs\\Quantum\\lib\\site-packages\\pyqtgraph\\graphicsItems\\ScatterPlotItem.py:974: RuntimeWarning: All-NaN slice encountered\n",
      "  self.bounds[ax] = (np.nanmin(d) - self._maxSpotWidth*0.7072, np.nanmax(d) + self._maxSpotWidth*0.7072)\n"
     ]
    },
    {
     "name": "stdout",
     "output_type": "stream",
     "text": [
      "100% completed | elapsed time:     73s | time left:      0s  \n",
      "100% completed | elapsed time:     73s | time left:      0s  "
     ]
    }
   ],
   "source": [
    "dataset = MC.run('QubitSpec', soft_avg = soft_avg_numnber)"
   ]
  },
  {
   "cell_type": "code",
   "execution_count": 13,
   "metadata": {},
   "outputs": [],
   "source": [
    "qrm.stop()\n",
    "qcm.stop()\n",
    "LO_qcm.off()\n",
    "LO_qrm.off()\n",
    "LO_qrm.close()\n",
    "LO_qcm.close()\n"
   ]
  },
  {
   "cell_type": "code",
   "execution_count": null,
   "metadata": {},
   "outputs": [],
   "source": []
  },
  {
   "cell_type": "code",
   "execution_count": null,
   "metadata": {},
   "outputs": [],
   "source": []
  }
 ],
 "metadata": {
  "interpreter": {
   "hash": "c0bbd4dcf4796bcb153fef3712d2b6eb2f28482e5bfbaff061534c6f60094e23"
  },
  "kernelspec": {
   "display_name": "Python 3.8.12 64-bit ('Quantum': conda)",
   "name": "python3"
  },
  "language_info": {
   "codemirror_mode": {
    "name": "ipython",
    "version": 3
   },
   "file_extension": ".py",
   "mimetype": "text/x-python",
   "name": "python",
   "nbconvert_exporter": "python",
   "pygments_lexer": "ipython3",
   "version": "3.8.12"
  }
 },
 "nbformat": 4,
 "nbformat_minor": 5
}
