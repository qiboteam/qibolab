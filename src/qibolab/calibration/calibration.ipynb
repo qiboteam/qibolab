{
 "cells": [
  {
   "cell_type": "code",
   "execution_count": null,
   "metadata": {},
   "outputs": [],
   "source": [
    "from qibolab import Platform"
   ]
  },
  {
   "cell_type": "code",
   "execution_count": null,
   "metadata": {},
   "outputs": [],
   "source": [
    "# Create a platform; connect and configure it\n",
    "platform = Platform('tiiq')\n",
    "platform.connect()\n",
    "platform.setup()"
   ]
  },
  {
   "cell_type": "code",
   "execution_count": null,
   "metadata": {},
   "outputs": [],
   "source": [
    "#Run auto calibration and update runcard with cavity spec, qubit spec and pi pulse definition\n",
    "platform.run_calibration()"
   ]
  }
 ],
 "metadata": {
  "kernelspec": {
   "display_name": "Python 3.9.7 ('Quantum_cluster_upgrade')",
   "language": "python",
   "name": "python3"
  },
  "language_info": {
   "codemirror_mode": {
    "name": "ipython",
    "version": 3
   },
   "file_extension": ".py",
   "mimetype": "text/x-python",
   "name": "python",
   "nbconvert_exporter": "python",
   "pygments_lexer": "ipython3",
   "version": "3.9.7"
  },
  "orig_nbformat": 4,
  "vscode": {
   "interpreter": {
    "hash": "31898daf08cf1cdc256d9e2e5bb1f0ec91461639f926feac7e6a6f27c6342636"
   }
  }
 },
 "nbformat": 4,
 "nbformat_minor": 2
}
