{
 "cells": [
  {
   "cell_type": "markdown",
   "id": "fa4161a1",
   "metadata": {},
   "source": [
    "\n",
    "## Test Experiment to Test Instruments"
   ]
  },
  {
   "cell_type": "markdown",
   "id": "1a3a5f77",
   "metadata": {},
   "source": [
    "experimento.py (Rabi, T1...)\n",
    "- Defines variable (settings HW, parametros de waveforms para QRM, QCM)\n",
    "- Defines secuencia QRM y QCM --> Rabi_seq (Joel trabajando)\n",
    "- Instancias instrument controller(params)\n",
    "- ic.setup(parametros)\n",
    "- ic.upload_waveforms_sequence(params)\n",
    "- ic.play()\n",
    "\t- ejecutar waves en HW\n",
    "\t- plotting en tiempo real \n",
    " \n",
    "ic.stop\n",
    "ic.exit\n",
    "\n",
    "plot resultados\n"
   ]
  },
  {
   "cell_type": "code",
   "execution_count": 9,
   "id": "41e9abf3",
   "metadata": {},
   "outputs": [
    {
     "ename": "ModuleNotFoundError",
     "evalue": "No module named 'tiiq'",
     "output_type": "error",
     "traceback": [
      "\u001b[1;31m---------------------------------------------------------------------------\u001b[0m",
      "\u001b[1;31mModuleNotFoundError\u001b[0m                       Traceback (most recent call last)",
      "\u001b[1;32m<ipython-input-9-bea448a09552>\u001b[0m in \u001b[0;36m<module>\u001b[1;34m\u001b[0m\n\u001b[0;32m      1\u001b[0m \u001b[1;31m#from instrument_controller import InstrumentController\u001b[0m\u001b[1;33m\u001b[0m\u001b[1;33m\u001b[0m\u001b[1;33m\u001b[0m\u001b[0m\n\u001b[0;32m      2\u001b[0m \u001b[1;31m#import instruments\u001b[0m\u001b[1;33m\u001b[0m\u001b[1;33m\u001b[0m\u001b[1;33m\u001b[0m\u001b[0m\n\u001b[1;32m----> 3\u001b[1;33m \u001b[1;32mfrom\u001b[0m \u001b[0mtiiq\u001b[0m\u001b[1;33m.\u001b[0m\u001b[0minstruments\u001b[0m\u001b[1;33m.\u001b[0m\u001b[0minstrument_controller\u001b[0m \u001b[1;32mimport\u001b[0m \u001b[0mInstrumentController\u001b[0m\u001b[1;33m\u001b[0m\u001b[1;33m\u001b[0m\u001b[0m\n\u001b[0m",
      "\u001b[1;31mModuleNotFoundError\u001b[0m: No module named 'tiiq'"
     ]
    }
   ],
   "source": [
    "from qibolab.instruments.instrument_controller import InstrumentController"
   ]
  },
  {
   "cell_type": "code",
   "execution_count": 3,
   "id": "164035fc",
   "metadata": {},
   "outputs": [
    {
     "ename": "NameError",
     "evalue": "name 'InstrumentController' is not defined",
     "output_type": "error",
     "traceback": [
      "\u001b[1;31m---------------------------------------------------------------------------\u001b[0m",
      "\u001b[1;31mNameError\u001b[0m                                 Traceback (most recent call last)",
      "\u001b[1;32m<ipython-input-3-a430ce003a08>\u001b[0m in \u001b[0;36m<module>\u001b[1;34m\u001b[0m\n\u001b[1;32m----> 1\u001b[1;33m \u001b[0mic\u001b[0m \u001b[1;33m=\u001b[0m \u001b[0mInstrumentController\u001b[0m\u001b[1;33m(\u001b[0m\u001b[1;33m)\u001b[0m\u001b[1;33m\u001b[0m\u001b[1;33m\u001b[0m\u001b[0m\n\u001b[0m",
      "\u001b[1;31mNameError\u001b[0m: name 'InstrumentController' is not defined"
     ]
    }
   ],
   "source": [
    "ic = InstrumentController()"
   ]
  },
  {
   "cell_type": "code",
   "execution_count": null,
   "id": "48150a74",
   "metadata": {},
   "outputs": [],
   "source": [
    "QRM_settings = {\n",
    "\t\"data_dictionary\": \"quantify-data/\",\n",
    "\t\"ref_clock\": \"external\",\n",
    "\t\"start_sample\": 130,\n",
    "\t\"hardware_avg\": 1024,\n",
    "\t\"integration_length\": 600,\n",
    "\t\"sampling_rate\": 1e9,\n",
    "\t\"mode\": \"ssb\"\n",
    "        }"
   ]
  },
  {
   "cell_type": "code",
   "execution_count": null,
   "id": "50a20435",
   "metadata": {},
   "outputs": [],
   "source": [
    "ic.setup(LO_qcm_freq= 8.3e9, LO_qcm_power= 10, LO_qrm_freq= 7.778e9, LO_qrm_power=13, QRM_settings= QRM_settings)"
   ]
  },
  {
   "cell_type": "code",
   "execution_count": 2,
   "id": "7876c4b7",
   "metadata": {},
   "outputs": [],
   "source": [
    "from qibolab.instruments.rohde_schwarz import SGS100A"
   ]
  },
  {
   "cell_type": "code",
   "execution_count": 4,
   "id": "0a5c079e",
   "metadata": {},
   "outputs": [
    {
     "name": "stdout",
     "output_type": "stream",
     "text": [
      "Connected to: Rohde&Schwarz SGS100A (serial:1416.0505k02/113301, firmware:4.2.76.0-4.30.046.295) in 0.03s\n",
      "Connected to: Rohde&Schwarz SGS100A (serial:1416.0505k02/113300, firmware:4.2.76.0-4.30.046.295) in 0.02s\n"
     ]
    }
   ],
   "source": [
    "LO_qrm = SGS100A(\"LO_qrm\", '192.168.0.7')\n",
    "LO_qcm = SGS100A(\"LO_qcm\", '192.168.0.8')\n"
   ]
  },
  {
   "cell_type": "code",
   "execution_count": 5,
   "id": "b114361b",
   "metadata": {},
   "outputs": [
    {
     "name": "stdout",
     "output_type": "stream",
     "text": [
      "LO_qrm\n",
      "192.168.0.7\n",
      "15\n",
      "7789000000.0\n",
      "LO_qcm\n",
      "192.168.0.8\n",
      "12\n",
      "8900000000.0\n"
     ]
    }
   ],
   "source": [
    "LO_qrm.set_power(15)\n",
    "LO_qrm.set_frequency(7.789e9)\n",
    "LO_qrm.on()\n",
    "\n",
    "print (LO_qrm.getName())\n",
    "print (LO_qrm.getIP())\n",
    "print (LO_qrm.getPower())\n",
    "print (LO_qrm.getFrequency())\n",
    "\n",
    "\n",
    "LO_qcm.set_power(12)\n",
    "LO_qcm.set_frequency(8.9e9)\n",
    "LO_qcm.on()\n",
    "\n",
    "print (LO_qcm.getName())\n",
    "print (LO_qcm.getIP())\n",
    "print (LO_qcm.getPower())\n",
    "print (LO_qcm.getFrequency())\n"
   ]
  },
  {
   "cell_type": "code",
   "execution_count": null,
   "id": "59cdb9fb",
   "metadata": {},
   "outputs": [],
   "source": []
  }
 ],
 "metadata": {
  "interpreter": {
   "hash": "18210219010fb2d7a5968abc54b76ef71852d47760608a0340d7441ae0333f5d"
  },
  "kernelspec": {
   "display_name": "Python 3",
   "language": "python",
   "name": "python3"
  },
  "language_info": {
   "codemirror_mode": {
    "name": "ipython",
    "version": 3
   },
   "file_extension": ".py",
   "mimetype": "text/x-python",
   "name": "python",
   "nbconvert_exporter": "python",
   "pygments_lexer": "ipython3",
   "version": "3.8.8"
  }
 },
 "nbformat": 4,
 "nbformat_minor": 5
}
