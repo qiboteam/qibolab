{
 "cells": [
  {
   "cell_type": "markdown",
   "source": [
    "## TIISingleQubit Manual Characterisation and Calibration\r\n"
   ],
   "metadata": {}
  },
  {
   "cell_type": "code",
   "execution_count": null,
   "source": [
    "import tii_single_qubit_diagnosis as tiisq\r\n",
    "# tiisq.tiisq.resonator_freq =7.79813e9 \r\n",
    "# tiisq.tiisq.qubit_freq=8.724e9 \r\n",
    "# tiisq.tiisq.pi_pulse_length = 50\r\n",
    "# tiisq.tiisq.pi_pulse_gain = 0.5"
   ],
   "outputs": [],
   "metadata": {}
  },
  {
   "cell_type": "code",
   "execution_count": null,
   "source": [
    "tiisq.run_resonator_spectroscopy()\r\n"
   ],
   "outputs": [],
   "metadata": {}
  },
  {
   "cell_type": "code",
   "execution_count": null,
   "source": [
    "tiisq.run_qubit_spectroscopy()\r\n"
   ],
   "outputs": [],
   "metadata": {}
  },
  {
   "cell_type": "code",
   "execution_count": null,
   "source": [
    "tiisq.run_Rabi_pulse_length()\r\n"
   ],
   "outputs": [],
   "metadata": {}
  },
  {
   "cell_type": "code",
   "execution_count": null,
   "source": [
    "tiisq.run_Rabi_pulse_gain()\r\n"
   ],
   "outputs": [],
   "metadata": {}
  },
  {
   "cell_type": "code",
   "execution_count": null,
   "source": [
    "tiisq.run_Rabi_pulse_length_and_gain()\r\n"
   ],
   "outputs": [],
   "metadata": {}
  },
  {
   "cell_type": "code",
   "execution_count": null,
   "source": [
    "tiisq.run_Rabi_pulse_length_and_amplitude()"
   ],
   "outputs": [],
   "metadata": {}
  },
  {
   "cell_type": "code",
   "execution_count": null,
   "source": [
    "tiisq.run_t1()\r\n"
   ],
   "outputs": [],
   "metadata": {}
  },
  {
   "cell_type": "code",
   "execution_count": null,
   "source": [
    "tiisq.run_ramsey()\r\n"
   ],
   "outputs": [],
   "metadata": {}
  },
  {
   "cell_type": "code",
   "execution_count": null,
   "source": [
    "tiisq.run_spin_echo()"
   ],
   "outputs": [],
   "metadata": {}
  },
  {
   "cell_type": "markdown",
   "source": [
    "## TIISingleQubit Pulse Sequence Execution"
   ],
   "metadata": {}
  },
  {
   "cell_type": "code",
   "execution_count": null,
   "source": [
    "from qibolab.platforms.tii_single_qubit import TIISingleQubit\r\n",
    "from qibolab.circuit import PulseSequence\r\n",
    "from qibolab.pulses import BasicPulse, Gaussian, IQReadoutPulse\r\n",
    "platform = TIISingleQubit()\r\n",
    "\r\n",
    "calibration_settings = platform.calibration_settings()\r\n",
    "qc_pulse = BasicPulse(\r\n",
    "    channel = 0,\r\n",
    "    start = 0,\r\n",
    "    duration = calibration_settings['pi_pulse_duration'],\r\n",
    "    amplitude = calibration_settings['pi_pulse_amplitude'],\r\n",
    "    frequency = calibration_settings['qc_frequency'],\r\n",
    "    phase = 0,\r\n",
    "    shape = Gaussian(calibration_settings['pi_pulse_duration']/5)\r\n",
    "    )\r\n",
    "ro_pulse = IQReadoutPulse(\r\n",
    "    channel = 1,\r\n",
    "    start = calibration_settings['pi_pulse_duration'] + 4,\r\n",
    "    duration = calibration_settings['ro_pulse_duration'],\r\n",
    "    amplitude = calibration_settings['ro_pulse_amplitude'],\r\n",
    "    frequency = calibration_settings['ro_frequency'],\r\n",
    "    phases = 0)\r\n",
    "pulse_sequence = PulseSequence([qc_pulse, ro_pulse],) # pulses, duration=experiment.default_pulse_duration, sample_size=experiment.default_sample_size, fixed_readout=True, time_offset=experiment.readout_pulse_duration() + 1e-6):\r\n",
    "\r\n",
    "result = platform.execute(pulse_sequence, nshots = 1000)"
   ],
   "outputs": [],
   "metadata": {}
  },
  {
   "cell_type": "code",
   "execution_count": null,
   "source": [],
   "outputs": [],
   "metadata": {}
  }
 ],
 "metadata": {
  "interpreter": {
   "hash": "3ed8517a3fafa90d8e5b91c4b0394246af80155298af9868525e32f2032eb6de"
  },
  "kernelspec": {
   "name": "python3",
   "display_name": "Python 3.8.12 64-bit ('qibolab': conda)"
  },
  "language_info": {
   "codemirror_mode": {
    "name": "ipython",
    "version": 3
   },
   "file_extension": ".py",
   "mimetype": "text/x-python",
   "name": "python",
   "nbconvert_exporter": "python",
   "pygments_lexer": "ipython3",
   "version": "3.8.12"
  }
 },
 "nbformat": 4,
 "nbformat_minor": 5
}