{
 "cells": [
  {
   "cell_type": "markdown",
   "id": "9b2ae297",
   "metadata": {},
   "source": [
    "## TIISingleQubit Manual Characterisation and Calibration\n"
   ]
  },
  {
   "cell_type": "code",
   "execution_count": 2,
   "id": "f3823bb0",
   "metadata": {},
   "outputs": [
    {
     "name": "stderr",
     "output_type": "stream",
     "text": [
      "[Qibo 0.1.6|INFO|2021-12-14 13:30:56]: Using numpy backend on /CPU:0\n",
      "[Qibo 0.1.6|WARNING|2021-12-14 13:30:56]: numpy backend uses `np.einsum` and supports CPU only. Consider installing the qibojit or qibotf backends for increased performance and to enable GPU acceleration.\n"
     ]
    },
    {
     "name": "stdout",
     "output_type": "stream",
     "text": [
      "Connected to: Rohde&Schwarz SGS100A (serial:1416.0505k02/113301, firmware:4.2.76.0-4.30.046.295) in 0.03s\n",
      "Connected to: Rohde&Schwarz SGS100A (serial:1416.0505k02/113300, firmware:4.2.76.0-4.30.046.295) in 1.05s\n"
     ]
    },
    {
     "name": "stderr",
     "output_type": "stream",
     "text": [
      "[Qibo 0.1.6|INFO|2021-12-14 13:31:00]: Using numpy backend on /CPU:0\n",
      "[Qibo 0.1.6|WARNING|2021-12-14 13:31:00]: numpy backend uses `np.einsum` and supports CPU only. Consider installing the qibojit or qibotf backends for increased performance and to enable GPU acceleration.\n"
     ]
    }
   ],
   "source": [
    "import tii_single_qubit_diagnosis as diagnostics\n",
    "\n",
    "# diagnostics.tiisq.pi_pulse_length = 50\n",
    "# diagnostics.tiisq.pi_pulse_gain = 0.5"
   ]
  },
  {
   "cell_type": "code",
   "execution_count": null,
   "id": "11534bcf",
   "metadata": {},
   "outputs": [],
   "source": [
    "dataset = diagnostics.run_resonator_spectroscopy()\n"
   ]
  },
  {
   "cell_type": "code",
   "execution_count": null,
   "id": "a4668f0e",
   "metadata": {},
   "outputs": [],
   "source": [
    "dataset = diagnostics.run_qubit_spectroscopy()\n"
   ]
  },
  {
   "cell_type": "code",
   "execution_count": 5,
   "id": "9c461205",
   "metadata": {},
   "outputs": [
    {
     "name": "stdout",
     "output_type": "stream",
     "text": [
      "Starting iterative measurement...\n"
     ]
    },
    {
     "name": "stderr",
     "output_type": "stream",
     "text": [
      "C:\\Anaconda\\envs\\Quantum\\lib\\site-packages\\pyqtgraph\\graphicsItems\\ScatterPlotItem.py:974: RuntimeWarning: All-NaN slice encountered\n",
      "  self.bounds[ax] = (np.nanmin(d) - self._maxSpotWidth*0.7072, np.nanmax(d) + self._maxSpotWidth*0.7072)\n",
      "C:\\Anaconda\\envs\\Quantum\\lib\\site-packages\\pyqtgraph\\graphicsItems\\ScatterPlotItem.py:974: RuntimeWarning: All-NaN slice encountered\n",
      "  self.bounds[ax] = (np.nanmin(d) - self._maxSpotWidth*0.7072, np.nanmax(d) + self._maxSpotWidth*0.7072)\n",
      "C:\\Anaconda\\envs\\Quantum\\lib\\site-packages\\pyqtgraph\\graphicsItems\\ScatterPlotItem.py:974: RuntimeWarning: All-NaN slice encountered\n",
      "  self.bounds[ax] = (np.nanmin(d) - self._maxSpotWidth*0.7072, np.nanmax(d) + self._maxSpotWidth*0.7072)\n",
      "C:\\Anaconda\\envs\\Quantum\\lib\\site-packages\\pyqtgraph\\graphicsItems\\ScatterPlotItem.py:974: RuntimeWarning: All-NaN slice encountered\n",
      "  self.bounds[ax] = (np.nanmin(d) - self._maxSpotWidth*0.7072, np.nanmax(d) + self._maxSpotWidth*0.7072)\n",
      "C:\\Anaconda\\envs\\Quantum\\lib\\site-packages\\pyqtgraph\\graphicsItems\\ScatterPlotItem.py:974: RuntimeWarning: All-NaN slice encountered\n",
      "  self.bounds[ax] = (np.nanmin(d) - self._maxSpotWidth*0.7072, np.nanmax(d) + self._maxSpotWidth*0.7072)\n"
     ]
    },
    {
     "name": "stdout",
     "output_type": "stream",
     "text": [
      "100% completed | elapsed time:    304s | time left:      0s  \n",
      "100% completed | elapsed time:    304s | time left:      0s  Closing\n",
      "(1.75e-08, array([4.12170327e-04, 3.71135487e-04, 3.50000000e-08, 1.57079633e+00,\n",
      "       1.00000000e-07]), array([[inf, inf, inf, inf, inf],\n",
      "       [inf, inf, inf, inf, inf],\n",
      "       [inf, inf, inf, inf, inf],\n",
      "       [inf, inf, inf, inf, inf],\n",
      "       [inf, inf, inf, inf, inf]]))\n"
     ]
    },
    {
     "name": "stderr",
     "output_type": "stream",
     "text": [
      "C:\\Anaconda\\envs\\Quantum\\lib\\site-packages\\scipy\\optimize\\minpack.py:833: OptimizeWarning: Covariance of the parameters could not be estimated\n",
      "  warnings.warn('Covariance of the parameters could not be estimated',\n"
     ]
    }
   ],
   "source": [
    "diagnostics.run_Rabi_pulse_length()\n"
   ]
  },
  {
   "cell_type": "code",
   "execution_count": 2,
   "id": "8765324e",
   "metadata": {},
   "outputs": [
    {
     "name": "stdout",
     "output_type": "stream",
     "text": [
      "Starting iterative measurement...\n"
     ]
    },
    {
     "name": "stderr",
     "output_type": "stream",
     "text": [
      "C:\\Anaconda\\envs\\Quantum\\lib\\site-packages\\pyqtgraph\\graphicsItems\\ScatterPlotItem.py:974: RuntimeWarning: All-NaN slice encountered\n",
      "  self.bounds[ax] = (np.nanmin(d) - self._maxSpotWidth*0.7072, np.nanmax(d) + self._maxSpotWidth*0.7072)\n"
     ]
    },
    {
     "name": "stdout",
     "output_type": "stream",
     "text": [
      " 56% completed | elapsed time:     44s | time left:     33s  "
     ]
    }
   ],
   "source": [
    "diagnostics.run_Rabi_pulse_gain()\n"
   ]
  },
  {
   "cell_type": "code",
   "execution_count": null,
   "id": "8df19eee",
   "metadata": {},
   "outputs": [],
   "source": [
    "diagnostics.run_Rabi_pulse_length_and_gain()\n"
   ]
  },
  {
   "cell_type": "code",
   "execution_count": null,
   "id": "42762713",
   "metadata": {},
   "outputs": [],
   "source": [
    "diagnostics.run_Rabi_pulse_length_and_amplitude()"
   ]
  },
  {
   "cell_type": "code",
   "execution_count": null,
   "id": "9198081a",
   "metadata": {},
   "outputs": [],
   "source": [
    "diagnostics.run_t1()\n"
   ]
  },
  {
   "cell_type": "code",
   "execution_count": 2,
   "id": "a0088d07",
   "metadata": {},
   "outputs": [
    {
     "name": "stdout",
     "output_type": "stream",
     "text": [
      "22\n",
      "Starting iterative measurement...\n"
     ]
    },
    {
     "name": "stderr",
     "output_type": "stream",
     "text": [
      "C:\\Anaconda\\envs\\Quantum\\lib\\site-packages\\pyqtgraph\\graphicsItems\\ScatterPlotItem.py:974: RuntimeWarning: All-NaN slice encountered\n",
      "  self.bounds[ax] = (np.nanmin(d) - self._maxSpotWidth*0.7072, np.nanmax(d) + self._maxSpotWidth*0.7072)\n"
     ]
    },
    {
     "name": "stdout",
     "output_type": "stream",
     "text": [
      "100% completed | elapsed time:    380s | time left:      0s  \n",
      "100% completed | elapsed time:    380s | time left:      0s  Closing\n"
     ]
    }
   ],
   "source": [
    "diagnostics.run_ramsey()\n"
   ]
  },
  {
   "cell_type": "code",
   "execution_count": null,
   "id": "e61659a1",
   "metadata": {},
   "outputs": [],
   "source": [
    "diagnostics.run_spin_echo()"
   ]
  },
  {
   "cell_type": "markdown",
   "id": "d186a35c",
   "metadata": {},
   "source": [
    "## TIISingleQubit Pulse Sequence Execution"
   ]
  },
  {
   "cell_type": "code",
   "execution_count": null,
   "id": "ef4e730c",
   "metadata": {},
   "outputs": [],
   "source": [
    "from qibolab.platforms.tii_single_qubit import TIISingleQubit\n",
    "from qibolab.circuit import PulseSequence\n",
    "from qibolab.pulses import BasicPulse, Gaussian, IQReadoutPulse\n",
    "platform = TIISingleQubit()\n",
    "\n",
    "calibration_settings = platform.calibration_settings()\n",
    "qc_pulse = BasicPulse(\n",
    "    channel = 0,\n",
    "    start = 0,\n",
    "    duration = calibration_settings['pi_pulse_duration'],\n",
    "    amplitude = calibration_settings['pi_pulse_amplitude'],\n",
    "    frequency = calibration_settings['qc_frequency'],\n",
    "    phase = 0,\n",
    "    shape = Gaussian(calibration_settings['pi_pulse_duration']/5)\n",
    "    )\n",
    "ro_pulse = IQReadoutPulse(\n",
    "    channel = 1,\n",
    "    start = calibration_settings['pi_pulse_duration'] + 4,\n",
    "    duration = calibration_settings['ro_pulse_duration'],\n",
    "    amplitude = calibration_settings['ro_pulse_amplitude'],\n",
    "    frequency = calibration_settings['ro_frequency'],\n",
    "    phases = 0)\n",
    "pulse_sequence = PulseSequence([qc_pulse, ro_pulse],) # pulses, duration=experiment.default_pulse_duration, sample_size=experiment.default_sample_size, fixed_readout=True, time_offset=experiment.readout_pulse_duration() + 1e-6):\n",
    "\n",
    "result = platform.execute(pulse_sequence, nshots = 1000)"
   ]
  },
  {
   "cell_type": "code",
   "execution_count": null,
   "id": "2190d9ae",
   "metadata": {},
   "outputs": [],
   "source": [
    "import tii_single_qubit_diagnosis as diagnostics\n",
    "diagnostics.tiisq.load_default_settings()\n",
    "diagnostics.tiisq.save_settings_to_file()\n",
    "diagnostics.tiisq.load_settings_from_file()"
   ]
  },
  {
   "cell_type": "code",
   "execution_count": null,
   "id": "566b4130",
   "metadata": {},
   "outputs": [],
   "source": [
    "diagnostics.tiisq.load_settings_from_file()"
   ]
  },
  {
   "cell_type": "code",
   "execution_count": null,
   "id": "94f5a0ed",
   "metadata": {},
   "outputs": [],
   "source": [
    "diagnostics.tiisq.save_settings_to_file()"
   ]
  },
  {
   "cell_type": "code",
   "execution_count": null,
   "id": "9c0fb132",
   "metadata": {},
   "outputs": [],
   "source": []
  }
 ],
 "metadata": {
  "interpreter": {
   "hash": "3ed8517a3fafa90d8e5b91c4b0394246af80155298af9868525e32f2032eb6de"
  },
  "kernelspec": {
   "display_name": "Python 3.8.12 64-bit ('qibolab': conda)",
   "name": "python3"
  },
  "language_info": {
   "codemirror_mode": {
    "name": "ipython",
    "version": 3
   },
   "file_extension": ".py",
   "mimetype": "text/x-python",
   "name": "python",
   "nbconvert_exporter": "python",
   "pygments_lexer": "ipython3",
   "version": "3.9.7"
  }
 },
 "nbformat": 4,
 "nbformat_minor": 5
}
