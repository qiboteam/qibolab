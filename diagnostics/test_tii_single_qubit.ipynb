{
 "cells": [
  {
   "cell_type": "markdown",
   "id": "71f5f0cf",
   "metadata": {},
   "source": [
    "## TIISingleQubit"
   ]
  },
  {
   "cell_type": "code",
   "execution_count": 1,
   "id": "482e36f4",
   "metadata": {},
   "outputs": [],
   "source": [
    "from qibolab.platforms.tii_single_qubit import TIISingleQubit\n",
    "# from tii_single_qubit import TIISingleQubit"
   ]
  },
  {
   "cell_type": "code",
   "execution_count": 2,
   "id": "739e6f48",
   "metadata": {},
   "outputs": [
    {
     "name": "stdout",
     "output_type": "stream",
     "text": [
      "Connected to: Rohde&Schwarz SGS100A (serial:1416.0505k02/113301, firmware:4.2.76.0-4.30.046.295) in 0.18s\n",
      "Connected to: Rohde&Schwarz SGS100A (serial:1416.0505k02/113300, firmware:4.2.76.0-4.30.046.295) in 0.05s\n"
     ]
    }
   ],
   "source": [
    "tiisq = TIISingleQubit()"
   ]
  },
  {
   "cell_type": "code",
   "execution_count": 3,
   "id": "80ef485f",
   "metadata": {},
   "outputs": [
    {
     "name": "stdout",
     "output_type": "stream",
     "text": [
      "Starting iterative measurement...\n",
      "100% completed | elapsed time:     20s | time left:      0s  \n",
      "100% completed | elapsed time:     20s | time left:      0s  "
     ]
    }
   ],
   "source": [
    "tiisq.run_resonator_spectroscopy()\n"
   ]
  },
  {
   "cell_type": "code",
   "execution_count": null,
   "id": "a43b6c65",
   "metadata": {},
   "outputs": [],
   "source": [
    "tiisq.run_qubit_spectroscopy()\n"
   ]
  },
  {
   "cell_type": "code",
   "execution_count": null,
   "id": "810de9bc",
   "metadata": {},
   "outputs": [],
   "source": [
    "tiisq.run_Rabi_pulse_length()"
   ]
  },
  {
   "cell_type": "markdown",
   "id": "552020bc",
   "metadata": {},
   "source": [
    "## TIISingleQubitSinglePulsar"
   ]
  },
  {
   "cell_type": "code",
   "execution_count": 1,
   "id": "ca69c874",
   "metadata": {},
   "outputs": [],
   "source": [
    "from qibolab.platforms.tii_single_qubit_single_pulsar import TIISingleQubitSinglePulsar"
   ]
  },
  {
   "cell_type": "code",
   "execution_count": 2,
   "id": "96794ee4",
   "metadata": {},
   "outputs": [
    {
     "name": "stdout",
     "output_type": "stream",
     "text": [
      "Connected to: Rohde&Schwarz SGS100A (serial:1416.0505k02/113301, firmware:4.2.76.0-4.30.046.295) in 0.05s\n",
      "Connected to: Rohde&Schwarz SGS100A (serial:1416.0505k02/113300, firmware:4.2.76.0-4.30.046.295) in 0.03s\n"
     ]
    }
   ],
   "source": [
    "tiisqps = TIISingleQubitSinglePulsar()\n"
   ]
  },
  {
   "cell_type": "code",
   "execution_count": 3,
   "id": "3a3b102f",
   "metadata": {},
   "outputs": [
    {
     "name": "stdout",
     "output_type": "stream",
     "text": [
      "Starting iterative measurement...\n",
      "100% completed | elapsed time:     19s | time left:      0s  \n",
      "100% completed | elapsed time:     19s | time left:      0s  "
     ]
    }
   ],
   "source": [
    "tiisqps.run_resonator_spectroscopy()"
   ]
  },
  {
   "cell_type": "code",
   "execution_count": 4,
   "id": "dfb35a2c",
   "metadata": {},
   "outputs": [
    {
     "name": "stdout",
     "output_type": "stream",
     "text": [
      "Starting iterative measurement...\n",
      "100% completed | elapsed time:     29s | time left:      0s  \n",
      "100% completed | elapsed time:     29s | time left:      0s  "
     ]
    }
   ],
   "source": [
    "tiisqps.run_qubit_spectroscopy()"
   ]
  },
  {
   "cell_type": "code",
   "execution_count": null,
   "id": "cdbeddb5",
   "metadata": {},
   "outputs": [
    {
     "name": "stderr",
     "output_type": "stream",
     "text": [
      "C:\\Users\\Alvaro\\.conda\\envs\\test6\\lib\\site-packages\\pyqtgraph\\graphicsItems\\ScatterPlotItem.py:974: RuntimeWarning: All-NaN slice encountered\n",
      "  self.bounds[ax] = (np.nanmin(d) - self._maxSpotWidth*0.7072, np.nanmax(d) + self._maxSpotWidth*0.7072)\n",
      "C:\\Users\\Alvaro\\.conda\\envs\\test6\\lib\\site-packages\\pyqtgraph\\graphicsItems\\ScatterPlotItem.py:974: RuntimeWarning: All-NaN slice encountered\n",
      "  self.bounds[ax] = (np.nanmin(d) - self._maxSpotWidth*0.7072, np.nanmax(d) + self._maxSpotWidth*0.7072)\n",
      "C:\\Users\\Alvaro\\.conda\\envs\\test6\\lib\\site-packages\\pyqtgraph\\graphicsItems\\ScatterPlotItem.py:974: RuntimeWarning: All-NaN slice encountered\n",
      "  self.bounds[ax] = (np.nanmin(d) - self._maxSpotWidth*0.7072, np.nanmax(d) + self._maxSpotWidth*0.7072)\n",
      "C:\\Users\\Alvaro\\.conda\\envs\\test6\\lib\\site-packages\\pyqtgraph\\graphicsItems\\ScatterPlotItem.py:974: RuntimeWarning: All-NaN slice encountered\n",
      "  self.bounds[ax] = (np.nanmin(d) - self._maxSpotWidth*0.7072, np.nanmax(d) + self._maxSpotWidth*0.7072)\n",
      "C:\\Users\\Alvaro\\.conda\\envs\\test6\\lib\\site-packages\\pyqtgraph\\graphicsItems\\ScatterPlotItem.py:974: RuntimeWarning: All-NaN slice encountered\n",
      "  self.bounds[ax] = (np.nanmin(d) - self._maxSpotWidth*0.7072, np.nanmax(d) + self._maxSpotWidth*0.7072)\n",
      "C:\\Users\\Alvaro\\.conda\\envs\\test6\\lib\\site-packages\\pyqtgraph\\graphicsItems\\ScatterPlotItem.py:974: RuntimeWarning: All-NaN slice encountered\n",
      "  self.bounds[ax] = (np.nanmin(d) - self._maxSpotWidth*0.7072, np.nanmax(d) + self._maxSpotWidth*0.7072)\n",
      "C:\\Users\\Alvaro\\.conda\\envs\\test6\\lib\\site-packages\\pyqtgraph\\graphicsItems\\ScatterPlotItem.py:974: RuntimeWarning: All-NaN slice encountered\n",
      "  self.bounds[ax] = (np.nanmin(d) - self._maxSpotWidth*0.7072, np.nanmax(d) + self._maxSpotWidth*0.7072)\n",
      "C:\\Users\\Alvaro\\.conda\\envs\\test6\\lib\\site-packages\\pyqtgraph\\graphicsItems\\ScatterPlotItem.py:974: RuntimeWarning: All-NaN slice encountered\n",
      "  self.bounds[ax] = (np.nanmin(d) - self._maxSpotWidth*0.7072, np.nanmax(d) + self._maxSpotWidth*0.7072)\n",
      "C:\\Users\\Alvaro\\.conda\\envs\\test6\\lib\\site-packages\\pyqtgraph\\graphicsItems\\ScatterPlotItem.py:974: RuntimeWarning: All-NaN slice encountered\n",
      "  self.bounds[ax] = (np.nanmin(d) - self._maxSpotWidth*0.7072, np.nanmax(d) + self._maxSpotWidth*0.7072)\n",
      "C:\\Users\\Alvaro\\.conda\\envs\\test6\\lib\\site-packages\\pyqtgraph\\graphicsItems\\ScatterPlotItem.py:974: RuntimeWarning: All-NaN slice encountered\n",
      "  self.bounds[ax] = (np.nanmin(d) - self._maxSpotWidth*0.7072, np.nanmax(d) + self._maxSpotWidth*0.7072)\n",
      "C:\\Users\\Alvaro\\.conda\\envs\\test6\\lib\\site-packages\\pyqtgraph\\graphicsItems\\ScatterPlotItem.py:974: RuntimeWarning: All-NaN slice encountered\n",
      "  self.bounds[ax] = (np.nanmin(d) - self._maxSpotWidth*0.7072, np.nanmax(d) + self._maxSpotWidth*0.7072)\n",
      "Traceback (most recent call last):\n",
      "  File \"C:\\Users\\Alvaro\\.conda\\envs\\test6\\lib\\site-packages\\quantify_core\\visualization\\pyqt_plotmon_remote.py\", line 149, in _exec_queue\n",
      "    getattr(self, attr_name)(*args)\n",
      "  File \"C:\\Users\\Alvaro\\.conda\\envs\\test6\\lib\\site-packages\\quantify_core\\visualization\\pyqt_plotmon_remote.py\", line 530, in update\n",
      "    self._last_modified[tuid] = _last_modified(tuid)\n",
      "  File \"C:\\Users\\Alvaro\\.conda\\envs\\test6\\lib\\site-packages\\quantify_core\\visualization\\pyqt_plotmon_remote.py\", line 643, in _last_modified\n",
      "    return last_modified(_locate_experiment_file(tuid))\n",
      "  File \"C:\\Users\\Alvaro\\.conda\\envs\\test6\\lib\\site-packages\\quantify_core\\utilities\\general.py\", line 200, in last_modified\n",
      "    return path.stat().st_mtime\n",
      "  File \"C:\\Users\\Alvaro\\.conda\\envs\\test6\\lib\\pathlib.py\", line 1198, in stat\n",
      "    return self._accessor.stat(self)\n",
      "FileNotFoundError: [WinError 2] The system cannot find the file specified: '.data\\\\20211117\\\\20211117-133235-210-96439f-Rabi Pulse Length\\\\dataset.hdf5'\n"
     ]
    }
   ],
   "source": [
    "tiisqps.run_Rabi_pulse_length()"
   ]
  },
  {
   "cell_type": "code",
   "execution_count": null,
   "id": "7a9bf761",
   "metadata": {},
   "outputs": [],
   "source": []
  }
 ],
 "metadata": {
  "interpreter": {
   "hash": "c0bbd4dcf4796bcb153fef3712d2b6eb2f28482e5bfbaff061534c6f60094e23"
  },
  "kernelspec": {
   "display_name": "Python 3 (ipykernel)",
   "language": "python",
   "name": "python3"
  },
  "language_info": {
   "codemirror_mode": {
    "name": "ipython",
    "version": 3
   },
   "file_extension": ".py",
   "mimetype": "text/x-python",
   "name": "python",
   "nbconvert_exporter": "python",
   "pygments_lexer": "ipython3",
   "version": "3.8.12"
  }
 },
 "nbformat": 4,
 "nbformat_minor": 5
}
