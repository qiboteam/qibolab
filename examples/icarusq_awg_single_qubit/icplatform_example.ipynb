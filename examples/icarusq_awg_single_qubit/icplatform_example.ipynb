{
 "cells": [
  {
   "cell_type": "code",
   "execution_count": 1,
   "id": "e10c48c4",
   "metadata": {},
   "outputs": [
    {
     "name": "stderr",
     "output_type": "stream",
     "text": [
      "[Qibo 0.1.7|INFO|2022-02-25 10:15:21]: Using tensorflow backend on /device:GPU:0\n",
      "[Qibo 0.1.7|WARNING|2022-02-25 10:15:21]: qibotf library was not found. `tf.einsum` will be used to apply gates. In order to install Qibo's high performance custom operators for TensorFlow please use `pip install qibotf`. Alternatively, consider installing the qibojit backend.\n"
     ]
    }
   ],
   "source": [
    "from qibolab import Platform\n",
    "from qibolab.pulses import ReadoutPulse, Pulse\n",
    "from qibolab.pulses import PulseSequence, Pulse, ReadoutPulse, Rectangular, Gaussian, Drag\n",
    "import matplotlib.pyplot as plt\n",
    "import numpy as np"
   ]
  },
  {
   "cell_type": "markdown",
   "id": "2c8cb9c6",
   "metadata": {},
   "source": [
    "### Constants"
   ]
  },
  {
   "cell_type": "code",
   "execution_count": 2,
   "id": "33963001",
   "metadata": {},
   "outputs": [],
   "source": [
    "qubit = 0\n",
    "readout_channels = (0, 1)\n",
    "qubit_channels = (2, 3)\n",
    "pulse_amplitude = 0.75 / 2\n",
    "readout_phase = (-6.2, 0.2)\n",
    "qubit_phase = (0, 0)\n",
    "shots = 2000\n",
    "readout_duration_ns = 5000\n",
    "qubit_duration_ns = 40000"
   ]
  },
  {
   "cell_type": "code",
   "execution_count": 3,
   "id": "8d6d5d35",
   "metadata": {},
   "outputs": [
    {
     "name": "stderr",
     "output_type": "stream",
     "text": [
      "[Qibo 0.1.7|INFO|2022-02-25 10:15:26]: Loading platform icarusq\n",
      "[Qibo 0.1.7|INFO|2022-02-25 10:15:26]: Loading runcard c:\\users\\atomicguest\\documents\\github\\qibolab\\src\\qibolab\\runcards\\icarusq.yml\n",
      "[Qibo 0.1.7|INFO|2022-02-25 10:15:26]: Connecting to icarusq instruments.\n"
     ]
    }
   ],
   "source": [
    "icarusq = Platform(\"icarusq\")\n",
    "icarusq.connect()\n",
    "icarusq.start()"
   ]
  },
  {
   "cell_type": "markdown",
   "id": "159b5e87",
   "metadata": {},
   "source": [
    "## Resonator Spectroscopy"
   ]
  },
  {
   "cell_type": "code",
   "execution_count": 16,
   "id": "cbde230d",
   "metadata": {},
   "outputs": [],
   "source": [
    "readout_if = 100e6\n",
    "ro_pulse = ReadoutPulse(start=0, duration=readout_duration_ns, amplitude=pulse_amplitude, frequency=readout_if,\n",
    "                        phase=readout_phase, shape=Rectangular(), channel=readout_channels, qubit=qubit)\n",
    "ps = PulseSequence()\n",
    "ps.add(ro_pulse)\n",
    "res = icarusq.execute(ps, shots)"
   ]
  },
  {
   "cell_type": "code",
   "execution_count": 17,
   "id": "acebc9eb",
   "metadata": {},
   "outputs": [
    {
     "name": "stdout",
     "output_type": "stream",
     "text": [
      "(0.00572662338856202, -71.9482788034712, 0.0017745396673074238, -0.005444742822537904)\n"
     ]
    }
   ],
   "source": [
    "print(res)"
   ]
  },
  {
   "cell_type": "code",
   "execution_count": 21,
   "id": "3e80902c",
   "metadata": {},
   "outputs": [],
   "source": [
    "qubit_if = 251e6\n",
    "pulse = Pulse(start=0, duration=qubit_duration_ns, amplitude=pulse_amplitude, frequency=qubit_if,\n",
    "                        phase=qubit_phase, shape=Rectangular(), channel=qubit_channels, qubit=0)\n",
    "ps = PulseSequence()\n",
    "ps.add(pulse)\n",
    "ps.add(ro_pulse)\n",
    "res = icarusq.execute(ps, shots)"
   ]
  },
  {
   "cell_type": "code",
   "execution_count": 22,
   "id": "09f809d0",
   "metadata": {},
   "outputs": [
    {
     "name": "stdout",
     "output_type": "stream",
     "text": [
      "(0.003425242623575966, -80.77757897535429, 0.0005489549430302634, -0.0033809666518444404)\n"
     ]
    }
   ],
   "source": [
    "print(res)"
   ]
  },
  {
   "cell_type": "code",
   "execution_count": 4,
   "id": "5eb0967f",
   "metadata": {},
   "outputs": [],
   "source": [
    "icarusq.stop()\n",
    "icarusq.disconnect()"
   ]
  },
  {
   "cell_type": "code",
   "execution_count": null,
   "id": "4ff5844a",
   "metadata": {},
   "outputs": [],
   "source": []
  }
 ],
 "metadata": {
  "kernelspec": {
   "display_name": "Python 3",
   "language": "python",
   "name": "python3"
  },
  "language_info": {
   "codemirror_mode": {
    "name": "ipython",
    "version": 3
   },
   "file_extension": ".py",
   "mimetype": "text/x-python",
   "name": "python",
   "nbconvert_exporter": "python",
   "pygments_lexer": "ipython3",
   "version": "3.8.5"
  }
 },
 "nbformat": 4,
 "nbformat_minor": 5
}
