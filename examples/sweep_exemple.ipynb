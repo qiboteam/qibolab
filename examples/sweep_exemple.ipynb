{
 "cells": [
  {
   "cell_type": "code",
   "execution_count": 1,
   "metadata": {},
   "outputs": [
    {
     "name": "stderr",
     "output_type": "stream",
     "text": [
      "[Qibo 0.1.11|INFO|2023-02-16 16:26:49]: Loading platform tii_rfsoc4x2 from runcard /home/javierserrano/fpgaQCRdrivers/drivers/RFSoC4x2/qibolab/src/qibolab/runcards/tii_rfsoc4x2.yml\n"
     ]
    }
   ],
   "source": [
    "import numpy as np\n",
    "from qibolab.platform import Platform\n",
    "from qibolab.sweeper import Parameter, Sweeper\n",
    "from qibolab.pulses import PulseSequence, PulseType\n",
    "\n",
    "\n",
    "qubit = 0\n",
    "platform =  Platform(\"tii_rfsoc4x2\")"
   ]
  },
  {
   "cell_type": "code",
   "execution_count": 3,
   "metadata": {},
   "outputs": [],
   "source": [
    "\n",
    "platform.connect()\n",
    "platform.setup()\n",
    "\n",
    "sequence = PulseSequence()\n",
    "qd_pulse = platform.create_qubit_drive_pulse(qubit, start=0, duration=5000)\n",
    "ro_pulse = platform.create_qubit_readout_pulse(qubit, start=5000)\n",
    "sequence.add(qd_pulse)\n",
    "sequence.add(ro_pulse)\n"
   ]
  },
  {
   "cell_type": "code",
   "execution_count": 4,
   "metadata": {},
   "outputs": [],
   "source": [
    "delta_frequency_range = np.arange(5500000000, 5600000000, 10000000)\n",
    "\n",
    "sweeper = Sweeper(\n",
    "    Parameter.frequency,\n",
    "    delta_frequency_range,\n",
    "    pulses=[qd_pulse],\n",
    ")\n"
   ]
  },
  {
   "cell_type": "code",
   "execution_count": 5,
   "metadata": {},
   "outputs": [
    {
     "name": "stdout",
     "output_type": "stream",
     "text": [
      "([0.0025740640260444926, -0.0009522517634291915, -0.0011622354856212697, -0.000572436245252306, 7.4877916440586e-05, -0.00027780792186652195, -0.0015387954422137818, -0.00046988605534454696, -0.0014514378730330982, -0.0015355398806294086], [0.017623982637004883, 0.01780737927292458, 0.016144329896907218, 0.015278893109061314, 0.017376017362995117, 0.017736299511665762, 0.015906673901247965, 0.017008138903960933, 0.017000542593597394, 0.014971785132935431])\n"
     ]
    }
   ],
   "source": [
    "results = platform.sweep(sequence, sweeper)\n",
    "print(results)"
   ]
  },
  {
   "cell_type": "code",
   "execution_count": null,
   "metadata": {},
   "outputs": [],
   "source": []
  }
 ],
 "metadata": {
  "kernelspec": {
   "display_name": "rfsoc",
   "language": "python",
   "name": "python3"
  },
  "language_info": {
   "codemirror_mode": {
    "name": "ipython",
    "version": 3
   },
   "file_extension": ".py",
   "mimetype": "text/x-python",
   "name": "python",
   "nbconvert_exporter": "python",
   "pygments_lexer": "ipython3",
   "version": "3.10.6"
  },
  "orig_nbformat": 4,
  "vscode": {
   "interpreter": {
    "hash": "cce07b2426f373382ddfa535310d8702b9e870bce953ab191ae6a22b136673aa"
   }
  }
 },
 "nbformat": 4,
 "nbformat_minor": 2
}
