{
 "cells": [
  {
   "cell_type": "code",
   "execution_count": 5,
   "metadata": {},
   "outputs": [
    {
     "name": "stderr",
     "output_type": "stream",
     "text": [
      "[Qibo 0.1.11|INFO|2023-02-21 15:27:21]: Loading platform tii_rfsoc4x2 from runcard /home/javierserrano/fpgaQCRdrivers/drivers/RFSoC4x2/qibolab/src/qibolab/runcards/tii_rfsoc4x2.yml\n"
     ]
    }
   ],
   "source": [
    "import numpy as np\n",
    "from qibolab.platform import Platform\n",
    "from qibolab.sweeper import Parameter, Sweeper\n",
    "from qibolab.pulses import PulseSequence, PulseType\n",
    "import matplotlib.pyplot as plt\n",
    "\n",
    "qubit = 0\n",
    "platform =  Platform(\"tii_rfsoc4x2\")"
   ]
  },
  {
   "cell_type": "code",
   "execution_count": 6,
   "metadata": {},
   "outputs": [
    {
     "name": "stderr",
     "output_type": "stream",
     "text": [
      "[Qibo 0.1.11|INFO|2023-02-21 15:27:22]: Connecting to instrument <qibolab.instruments.dummy_oscillator.DummyLocalOscillator object at 0x7fc6aff46c80>.\n"
     ]
    }
   ],
   "source": [
    "\n",
    "platform.connect()\n",
    "platform.setup()\n",
    "\n",
    "sequence = PulseSequence()\n",
    "qd_pulse = platform.create_qubit_drive_pulse(qubit, start=0, duration=5000)\n",
    "ro_pulse = platform.create_qubit_readout_pulse(qubit, start=5000)\n",
    "sequence.add(qd_pulse)\n",
    "sequence.add(ro_pulse)\n"
   ]
  },
  {
   "cell_type": "code",
   "execution_count": 7,
   "metadata": {},
   "outputs": [],
   "source": [
    "delta_frequency_range = np.arange(8100000000, 8400000000, 5000000)\n",
    "\n",
    "sweeper = Sweeper(\n",
    "    Parameter.frequency,\n",
    "    delta_frequency_range,\n",
    "    pulses=[qd_pulse],\n",
    ")\n"
   ]
  },
  {
   "cell_type": "code",
   "execution_count": 8,
   "metadata": {},
   "outputs": [
    {
     "ename": "AttributeError",
     "evalue": "'str' object has no attribute 'decode'",
     "output_type": "error",
     "traceback": [
      "\u001b[0;31m---------------------------------------------------------------------------\u001b[0m",
      "\u001b[0;31mAttributeError\u001b[0m                            Traceback (most recent call last)",
      "Cell \u001b[0;32mIn [8], line 1\u001b[0m\n\u001b[0;32m----> 1\u001b[0m results \u001b[39m=\u001b[39m platform\u001b[39m.\u001b[39;49msweep(sequence, sweeper)\n\u001b[1;32m      2\u001b[0m \u001b[39mprint\u001b[39m(results)\n",
      "File \u001b[0;32m~/fpgaQCRdrivers/drivers/RFSoC4x2/qibolab/src/qibolab/platforms/platform.py:41\u001b[0m, in \u001b[0;36mDesignPlatform.sweep\u001b[0;34m(self, sequence, nshots, relaxation_time, average, *sweepers)\u001b[0m\n\u001b[1;32m     39\u001b[0m \u001b[39mif\u001b[39;00m relaxation_time \u001b[39mis\u001b[39;00m \u001b[39mNone\u001b[39;00m:\n\u001b[1;32m     40\u001b[0m     relaxation_time \u001b[39m=\u001b[39m \u001b[39mself\u001b[39m\u001b[39m.\u001b[39mrelaxation_time\n\u001b[0;32m---> 41\u001b[0m \u001b[39mreturn\u001b[39;00m \u001b[39mself\u001b[39;49m\u001b[39m.\u001b[39;49mdesign\u001b[39m.\u001b[39;49msweep(\n\u001b[1;32m     42\u001b[0m     \u001b[39mself\u001b[39;49m\u001b[39m.\u001b[39;49mqubits, sequence, \u001b[39m*\u001b[39;49msweepers, nshots\u001b[39m=\u001b[39;49mnshots, relaxation_time\u001b[39m=\u001b[39;49mrelaxation_time, average\u001b[39m=\u001b[39;49maverage\n\u001b[1;32m     43\u001b[0m )\n",
      "File \u001b[0;32m~/fpgaQCRdrivers/drivers/RFSoC4x2/qibolab/src/qibolab/designs/basic.py:48\u001b[0m, in \u001b[0;36mBasicInstrumentDesign.sweep\u001b[0;34m(self, *args, **kwargs)\u001b[0m\n\u001b[1;32m     46\u001b[0m \u001b[39mdef\u001b[39;00m \u001b[39msweep\u001b[39m(\u001b[39mself\u001b[39m, \u001b[39m*\u001b[39margs, \u001b[39m*\u001b[39m\u001b[39m*\u001b[39mkwargs):\n\u001b[1;32m     47\u001b[0m     \u001b[39m\"\"\"Play a pulse sequence while sweeping one or more parameters.\"\"\"\u001b[39;00m\n\u001b[0;32m---> 48\u001b[0m     \u001b[39mreturn\u001b[39;00m \u001b[39mself\u001b[39;49m\u001b[39m.\u001b[39;49mcontroller\u001b[39m.\u001b[39;49msweep(\u001b[39m*\u001b[39;49margs, \u001b[39m*\u001b[39;49m\u001b[39m*\u001b[39;49mkwargs)\n",
      "File \u001b[0;32m~/fpgaQCRdrivers/drivers/RFSoC4x2/qibolab/src/qibolab/instruments/tii.py:225\u001b[0m, in \u001b[0;36mTII_RFSOC4x2.sweep\u001b[0;34m(self, qubits, sequence, nshots, relaxation_time, average, *sweepers)\u001b[0m\n\u001b[1;32m    223\u001b[0m \u001b[39m# receive data back from the server\u001b[39;00m\n\u001b[1;32m    224\u001b[0m received \u001b[39m=\u001b[39m \u001b[39mstr\u001b[39m(sock\u001b[39m.\u001b[39mrecv(\u001b[39m65536\u001b[39m))\n\u001b[0;32m--> 225\u001b[0m avg \u001b[39m=\u001b[39m json\u001b[39m.\u001b[39mloads(received\u001b[39m.\u001b[39;49mdecode(\u001b[39m\"\u001b[39m\u001b[39mutf-8\u001b[39m\u001b[39m\"\u001b[39m))\n\u001b[1;32m    226\u001b[0m avg_di \u001b[39m=\u001b[39m avg[\u001b[39m\"\u001b[39m\u001b[39mavg_di\u001b[39m\u001b[39m\"\u001b[39m]\n\u001b[1;32m    227\u001b[0m avg_dq \u001b[39m=\u001b[39m avg[\u001b[39m\"\u001b[39m\u001b[39mavg_dq\u001b[39m\u001b[39m\"\u001b[39m]\n",
      "\u001b[0;31mAttributeError\u001b[0m: 'str' object has no attribute 'decode'"
     ]
    }
   ],
   "source": [
    "results = platform.sweep(sequence, sweeper)\n",
    "print(results)"
   ]
  },
  {
   "cell_type": "code",
   "execution_count": null,
   "metadata": {},
   "outputs": [],
   "source": [
    "\n",
    "\n",
    "\n",
    "plt.subplot(111,title=\"Qubit Spectroscopy\", xlabel=\"Qubit Frequency (MHz)\", ylabel=\"Amp. (adc level)\")\n",
    "plt.plot(delta_frequency_range, results[0],'o-')\n",
    "plt.ylim([0, 10])\n",
    "#axvline(qubit_cfg[\"f_ge\"]);\n",
    "#max_faxvline(qubit_cfg[\"f_ge\"]);req=expt_pts[np.argmax(amps)]\n"
   ]
  },
  {
   "cell_type": "code",
   "execution_count": null,
   "metadata": {},
   "outputs": [],
   "source": [
    "160*np.size(float)"
   ]
  },
  {
   "cell_type": "code",
   "execution_count": null,
   "metadata": {},
   "outputs": [],
   "source": []
  }
 ],
 "metadata": {
  "kernelspec": {
   "display_name": "rfsoc",
   "language": "python",
   "name": "python3"
  },
  "language_info": {
   "codemirror_mode": {
    "name": "ipython",
    "version": 3
   },
   "file_extension": ".py",
   "mimetype": "text/x-python",
   "name": "python",
   "nbconvert_exporter": "python",
   "pygments_lexer": "ipython3",
   "version": "3.10.6"
  },
  "orig_nbformat": 4,
  "vscode": {
   "interpreter": {
    "hash": "cce07b2426f373382ddfa535310d8702b9e870bce953ab191ae6a22b136673aa"
   }
  }
 },
 "nbformat": 4,
 "nbformat_minor": 2
}
