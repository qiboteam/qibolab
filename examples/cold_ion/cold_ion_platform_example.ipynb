{
 "cells": [
  {
   "cell_type": "code",
   "execution_count": null,
   "id": "e10c48c4",
   "metadata": {},
   "outputs": [],
   "source": [
    "from qibolab import Platform\n"
   ]
  },
  {
   "cell_type": "markdown",
   "id": "159b5e87",
   "metadata": {},
   "source": [
    "## Connect to the platform"
   ]
  },
  {
   "cell_type": "code",
   "execution_count": null,
   "id": "8d6d5d35",
   "metadata": {},
   "outputs": [],
   "source": [
    "# currently its a dummy platform\n",
    "cold_ion = Platform(\"cold_ion\")\n",
    "cold_ion.connect()\n",
    "cold_ion.start()"
   ]
  },
  {
   "cell_type": "markdown",
   "id": "159b5e87",
   "metadata": {},
   "source": [
    "## Disconnect from the Platform"
   ]
  },
  {
   "cell_type": "code",
   "execution_count": null,
   "id": "5eb0967f",
   "metadata": {},
   "outputs": [],
   "source": [
    "cold_ion.stop()\n",
    "cold_ion.disconnect()"
   ]
  }
 ],
 "metadata": {
  "kernelspec": {
   "display_name": "Python 3.8.0 64-bit",
   "language": "python",
   "name": "python3"
  },
  "language_info": {
   "codemirror_mode": {
    "name": "ipython",
    "version": 3
   },
   "file_extension": ".py",
   "mimetype": "text/x-python",
   "name": "python",
   "nbconvert_exporter": "python",
   "pygments_lexer": "ipython3",
   "version": "3.8.0"
  },
  "vscode": {
   "interpreter": {
    "hash": "723d4b7bc280cd31fdada53ad6420192b9a3a8d60631096143cc718cb9440dc1"
   }
  }
 },
 "nbformat": 4,
 "nbformat_minor": 5
}
