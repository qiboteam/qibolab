{
 "cells": [
  {
   "cell_type": "markdown",
   "id": "1472864f-98c4-422a-99ec-d0fd67d4bf9e",
   "metadata": {},
   "source": [
    "# Qibolab v0.1.7 1Q emulator demo for QuTiP engine"
   ]
  },
  {
   "cell_type": "markdown",
   "id": "e2fcc40a",
   "metadata": {},
   "source": [
    "Results updated on: 18 June 2024"
   ]
  },
  {
   "cell_type": "markdown",
   "id": "c281a2bf-dc45-441a-8869-4a0a7d3c35bc",
   "metadata": {
    "tags": []
   },
   "source": [
    "## Setting up and using the emulator platform"
   ]
  },
  {
   "cell_type": "markdown",
   "id": "2720e9bb-ed10-46a9-bb46-cfc1f487ab77",
   "metadata": {},
   "source": [
    "The emulator is instantiated like any other device platform in Qibolab, by first adding the path to the emulator runcard to the `QIBOLAB_PLATFORMS` environment variable and then using `qibolab.create_platform`. In this tutorial, we will be using the test emulator `default_q0` that can be found in ``/qibolab/tests/emulators/``:"
   ]
  },
  {
   "cell_type": "code",
   "execution_count": 1,
   "id": "4406fccb-60aa-415b-b264-d27c8a5b4eb7",
   "metadata": {
    "tags": []
   },
   "outputs": [
    {
     "name": "stderr",
     "output_type": "stream",
     "text": [
      "[Qibo 0.2.6|INFO|2024-06-18 02:01:41]: Loading platform default_q0\n",
      "INFO:qibo.config:Loading platform default_q0\n"
     ]
    }
   ],
   "source": [
    "# add directory of emulator platform to QIBOLAB_PLATFORMS environment variable\n",
    "import pathlib, os\n",
    "emulator_path = pathlib.Path(os.path.abspath('')).parent/'tests/emulators/'\n",
    "os.environ[\"QIBOLAB_PLATFORMS\"] = emulator_path.as_posix() \n",
    "\n",
    "# create emulator platform as per any other device platform\n",
    "from qibolab import create_platform\n",
    "emulator_platform = create_platform(\"default_q0\")"
   ]
  },
  {
   "cell_type": "markdown",
   "id": "7f1c6458-1276-4250-b67a-87a7ff0a7ac4",
   "metadata": {},
   "source": [
    "Similarly, the emulator plays pulse sequences in the same way as any other device platforms. In this tutorial, we will play a simple RX pulse followed by a readout pulse as defined in the runcard on the 'default_q0' single-qubit emulator that we have just initialized:"
   ]
  },
  {
   "cell_type": "code",
   "execution_count": 2,
   "id": "02588224-329c-4466-8486-29b8752faddc",
   "metadata": {},
   "outputs": [
    {
     "name": "stderr",
     "output_type": "stream",
     "text": [
      "[Qibo 0.2.6|INFO|2024-06-18 02:01:41]: Minimal execution time (sequence): 0.30500777777777777\n",
      "INFO:qibo.config:Minimal execution time (sequence): 0.30500777777777777\n"
     ]
    },
    {
     "name": "stdout",
     "output_type": "stream",
     "text": [
      " Total run time:   1.19s*] Elapsed 1.19s / Remaining 00:00:00:00[*********72%*****      ] Elapsed 0.91s / Remaining 00:00:00:00\n"
     ]
    }
   ],
   "source": [
    "from qibolab.pulses import PulseSequence\n",
    "\n",
    "# Extract preset pulses from runcard\n",
    "pulse_x0 = emulator_platform.create_RX_pulse(qubit=0, start=0)\n",
    "pulse_r0 = emulator_platform.create_qubit_readout_pulse(qubit=0, start=int(pulse_x0.duration + 5))\n",
    "\n",
    "# Add pulses to PulseSequence\n",
    "sequence = PulseSequence()\n",
    "sequence.add(pulse_x0)\n",
    "sequence.add(pulse_r0)\n",
    "\n",
    "from qibolab.execution_parameters import ExecutionParameters\n",
    "\n",
    "# Execute the pulse sequence and save the output\n",
    "options = ExecutionParameters(nshots=1000)\n",
    "results = emulator_platform.execute([sequence], options=options)"
   ]
  },
  {
   "cell_type": "markdown",
   "id": "dfdf69bd-fd58-4eb7-a99a-764c22d18334",
   "metadata": {
    "tags": []
   },
   "source": [
    "## Pulse simulator and simulation engine"
   ]
  },
  {
   "cell_type": "markdown",
   "id": "af73d5f8-a126-4791-826b-a537c2610618",
   "metadata": {},
   "source": [
    "The only instrument used by the emulator is the :class:`qibolab.instruments.emulator.pulse_simulator.PulseSimulator`"
   ]
  },
  {
   "cell_type": "code",
   "execution_count": 3,
   "id": "ef46ee8e-c1a2-4fc1-bd1f-c0d75cb6959f",
   "metadata": {},
   "outputs": [],
   "source": [
    "pulse_simulator = emulator_platform.instruments['pulse_simulator']"
   ]
  },
  {
   "cell_type": "markdown",
   "id": "9c1da6a3-2738-43c0-bf97-dd7664249ad9",
   "metadata": {},
   "source": [
    "The information from the runcard used to initialized the `PulseSimulator` can be found under `'instruments'`, and is further grouped under `'model_params'` and `'simulations_config'`. "
   ]
  },
  {
   "cell_type": "code",
   "execution_count": 4,
   "id": "3b72c4ef-d03c-43ea-93b5-41846281b39e",
   "metadata": {},
   "outputs": [
    {
     "data": {
      "text/plain": [
       "{'pulse_simulator': {'model_params': {'model_name': 'general_no_coupler_model',\n",
       "   'topology': [],\n",
       "   'nqubits': 1,\n",
       "   'ncouplers': 0,\n",
       "   'qubits_list': ['0'],\n",
       "   'couplers_list': [],\n",
       "   'nlevels_q': [3],\n",
       "   'nlevels_c': [],\n",
       "   'readout_error': {'0': [0.01, 0.02]},\n",
       "   'drive_freq': {'0': 5.090167234445013},\n",
       "   'T1': {'0': 88578.48970762537},\n",
       "   'T2': {'0': 106797.94866226273},\n",
       "   'lo_freq': {'0': 5.090167234445013},\n",
       "   'rabi_freq': {'0': 0.333},\n",
       "   'anharmonicity': {'0': -0.3361230051821652},\n",
       "   'coupling_strength': {}},\n",
       "  'simulation_config': {'simulation_engine_name': 'Qutip',\n",
       "   'sampling_rate': 4.5,\n",
       "   'sim_sampling_boost': 10,\n",
       "   'runcard_duration_in_dt_units': False,\n",
       "   'instant_measurement': True,\n",
       "   'simulate_dissipation': True,\n",
       "   'output_state_history': True},\n",
       "  'sim_opts': None,\n",
       "  'bounds': {'waveforms': 1, 'readout': 1, 'instructions': 1}}}"
      ]
     },
     "execution_count": 4,
     "metadata": {},
     "output_type": "execute_result"
    }
   ],
   "source": [
    "from qibolab.serialize import load_runcard\n",
    "\n",
    "load_runcard(emulator_path/\"default_q0\")['instruments']"
   ]
  },
  {
   "cell_type": "markdown",
   "id": "290cc6ae-372a-4596-abb5-1d7313365385",
   "metadata": {},
   "source": [
    "As indicated from 'model_params', this emulator simulates a single qubit as a 3-level quantum system with no couplers. All frequencies given are in units of GHz and all times in ns."
   ]
  },
  {
   "cell_type": "markdown",
   "id": "8e089478-44b0-4ad2-9ab2-2162414e94b0",
   "metadata": {},
   "source": [
    "The PulseSimulator contains a `simulation_engine`, which in turn contains methods to simulate the dynamics of the pulse-device system, as well as process the results, using a specific quantum dynamics simulation library, which in this case is `QuTiP`:"
   ]
  },
  {
   "cell_type": "code",
   "execution_count": 5,
   "id": "f8b38586-d48f-4ca3-b76f-feac1f332904",
   "metadata": {},
   "outputs": [],
   "source": [
    "simulation_engine = pulse_simulator.simulation_engine"
   ]
  },
  {
   "cell_type": "markdown",
   "id": "a3692ac5-2e5c-4806-b674-ed2720a12ed3",
   "metadata": {},
   "source": [
    "To help visualize the model, we can use the `print_hamiltonian` function from `qibolab_visualization.emulator`:"
   ]
  },
  {
   "cell_type": "code",
   "execution_count": 6,
   "id": "d70d80ac-21de-40db-82aa-f669372e7c06",
   "metadata": {},
   "outputs": [
    {
     "name": "stdout",
     "output_type": "stream",
     "text": [
      "Dictionary\n"
     ]
    },
    {
     "data": {
      "text/latex": [
       "$O_i = b^{\\dagger}_i b_i$"
      ],
      "text/plain": [
       "<IPython.core.display.Latex object>"
      ]
     },
     "metadata": {},
     "output_type": "display_data"
    },
    {
     "data": {
      "text/latex": [
       "$X_i = b^{\\dagger}_i + b_i$"
      ],
      "text/plain": [
       "<IPython.core.display.Latex object>"
      ]
     },
     "metadata": {},
     "output_type": "display_data"
    },
    {
     "name": "stdout",
     "output_type": "stream",
     "text": [
      "\n",
      "\n",
      "---------------------\n",
      "One-body drift terms:\n",
      "---------------------\n"
     ]
    },
    {
     "data": {
      "text/latex": [
       "$O_0$"
      ],
      "text/plain": [
       "<IPython.core.display.Latex object>"
      ]
     },
     "metadata": {},
     "output_type": "display_data"
    },
    {
     "data": {
      "text/latex": [
       "$5.090167234445013~\\text{GHz}$"
      ],
      "text/plain": [
       "<IPython.core.display.Latex object>"
      ]
     },
     "metadata": {},
     "output_type": "display_data"
    },
    {
     "data": {
      "text/latex": [
       "$O_0O_0-O_0$"
      ],
      "text/plain": [
       "<IPython.core.display.Latex object>"
      ]
     },
     "metadata": {},
     "output_type": "display_data"
    },
    {
     "data": {
      "text/latex": [
       "$-0.1680615025910826~\\text{GHz}$"
      ],
      "text/plain": [
       "<IPython.core.display.Latex object>"
      ]
     },
     "metadata": {},
     "output_type": "display_data"
    },
    {
     "name": "stdout",
     "output_type": "stream",
     "text": [
      "---------------------\n",
      "Two-body drift terms:\n",
      "---------------------\n",
      "None\n",
      "---------------------\n",
      "One-body drive terms:\n",
      "---------------------\n"
     ]
    },
    {
     "data": {
      "text/latex": [
       "$X_0$"
      ],
      "text/plain": [
       "<IPython.core.display.Latex object>"
      ]
     },
     "metadata": {},
     "output_type": "display_data"
    },
    {
     "data": {
      "text/latex": [
       "$0.333~\\text{GHz}$"
      ],
      "text/plain": [
       "<IPython.core.display.Latex object>"
      ]
     },
     "metadata": {},
     "output_type": "display_data"
    },
    {
     "name": "stdout",
     "output_type": "stream",
     "text": [
      "---------------------\n",
      "Dissipative terms:\n",
      "---------------------\n",
      ">> t1 Linblad operators:\n"
     ]
    },
    {
     "data": {
      "text/latex": [
       "$\\sigma^+_0$"
      ],
      "text/plain": [
       "<IPython.core.display.Latex object>"
      ]
     },
     "metadata": {},
     "output_type": "display_data"
    },
    {
     "data": {
      "text/latex": [
       "$0.0023758601136844794~\\sqrt{{ \\text{GHz} }}$"
      ],
      "text/plain": [
       "<IPython.core.display.Latex object>"
      ]
     },
     "metadata": {},
     "output_type": "display_data"
    },
    {
     "name": "stdout",
     "output_type": "stream",
     "text": [
      ">> t2 Linblad operators:\n"
     ]
    },
    {
     "data": {
      "text/latex": [
       "$\\sigma^Z_0$"
      ],
      "text/plain": [
       "<IPython.core.display.Latex object>"
      ]
     },
     "metadata": {},
     "output_type": "display_data"
    },
    {
     "data": {
      "text/latex": [
       "$0.002163732391848669~\\sqrt{{ \\text{GHz} }}$"
      ],
      "text/plain": [
       "<IPython.core.display.Latex object>"
      ]
     },
     "metadata": {},
     "output_type": "display_data"
    },
    {
     "name": "stdout",
     "output_type": "stream",
     "text": [
      "---------------------\n"
     ]
    }
   ],
   "source": [
    "from qibolab_visualization.emulator import print_hamiltonian\n",
    "print_hamiltonian(simulation_engine.model_config)"
   ]
  },
  {
   "cell_type": "markdown",
   "id": "e779a202-96bd-4a40-a9a6-64c110fd51dd",
   "metadata": {
    "tags": []
   },
   "source": [
    "## Simulation results"
   ]
  },
  {
   "cell_type": "markdown",
   "id": "08e1c8ee-8076-47ee-a05a-bcc068d681d0",
   "metadata": {},
   "source": [
    "The simulation results generated by the simulation engine are returned together with the usual outputs of `execute` for device platforms and are grouped under 'simulation'. \n",
    "\n",
    "Let us retrieve the simulation results obtained previously:"
   ]
  },
  {
   "cell_type": "code",
   "execution_count": 7,
   "id": "9e45c3b1-1313-4fba-8dda-5810293369a7",
   "metadata": {},
   "outputs": [
    {
     "data": {
      "text/plain": [
       "dict_keys(['sequence_duration', 'simulation_dt', 'simulation_time', 'output_states'])"
      ]
     },
     "execution_count": 7,
     "metadata": {},
     "output_type": "execute_result"
    }
   ],
   "source": [
    "simulation_results = results['simulation']\n",
    "simulation_results.keys()"
   ]
  },
  {
   "cell_type": "markdown",
   "id": "d1a09410-20f2-4797-9540-636f427a76cb",
   "metadata": {},
   "source": [
    "The time taken to complete the simulation is:"
   ]
  },
  {
   "cell_type": "code",
   "execution_count": 8,
   "id": "abfff213-828e-434c-b4c5-2de8c07d8ae5",
   "metadata": {},
   "outputs": [
    {
     "data": {
      "text/plain": [
       "1.192088042"
      ]
     },
     "execution_count": 8,
     "metadata": {},
     "output_type": "execute_result"
    }
   ],
   "source": [
    "simulation_results['simulation_time']"
   ]
  },
  {
   "cell_type": "markdown",
   "id": "f499f704-f3da-4031-92c9-a9ef92d171ba",
   "metadata": {},
   "source": [
    "In addition, one can generate the list of discretized times used in the simulation:"
   ]
  },
  {
   "cell_type": "code",
   "execution_count": 9,
   "id": "b6a08d7f-bd83-44b1-868f-9346e8cd21e2",
   "metadata": {},
   "outputs": [],
   "source": [
    "import numpy as np\n",
    "sequence_duration = simulation_results['sequence_duration']\n",
    "simulation_dt = simulation_results['simulation_dt']\n",
    "sim_time_list = np.linspace(0,sequence_duration,num=int(sequence_duration/simulation_dt)+1)"
   ]
  },
  {
   "cell_type": "markdown",
   "id": "79574a8f-d831-48d5-a47c-848392773fda",
   "metadata": {},
   "source": [
    "When 'output_state_history' in `'simulation_config'` is set to 'True', the corresponding device quantum states obtained from simulation at each of these times are stored in 'output_states' as objects native to the simulation engine library. In this case, these are :class:`qutip.Qobj`. As an example, we see that the initial state is indeed the density matrix for a 3 level system corresponding to $\\ket{0}$:"
   ]
  },
  {
   "cell_type": "code",
   "execution_count": 10,
   "id": "757e3e62-86d4-46c5-8ff4-8d0b62d3ca85",
   "metadata": {},
   "outputs": [
    {
     "data": {
      "text/latex": [
       "Quantum object: dims = [[3], [3]], shape = (3, 3), type = oper, isherm = True $ \\\\ \\left(\\begin{matrix}1.0 & 0.0 & 0.0\\\\0.0 & 0.0 & 0.0\\\\0.0 & 0.0 & 0.0\\\\\\end{matrix}\\right)$"
      ],
      "text/plain": [
       "Quantum object: dims = [[3], [3]], shape = (3, 3), type = oper, isherm = True\n",
       "Qobj data =\n",
       "[[1. 0. 0.]\n",
       " [0. 0. 0.]\n",
       " [0. 0. 0.]]"
      ]
     },
     "execution_count": 10,
     "metadata": {},
     "output_type": "execute_result"
    }
   ],
   "source": [
    "simulated_states = simulation_results['output_states']\n",
    "simulated_states[0]"
   ]
  },
  {
   "cell_type": "markdown",
   "id": "d8df8936-bd2c-4794-a392-2ff6816391c7",
   "metadata": {},
   "source": [
    "One can call the `compute_overlaps` method in the simulation engine to compute the overlaps of the state with the different computational basis states for the entire simulation history. We can then visualize this with the plot_overlaps function from `qibolab_visualization.emulator`:"
   ]
  },
  {
   "cell_type": "code",
   "execution_count": 11,
   "id": "d912711f-4618-421b-92c7-f5b61c4b853b",
   "metadata": {
    "tags": []
   },
   "outputs": [
    {
     "name": "stdout",
     "output_type": "stream",
     "text": [
      "Overlap of final state with basis states:\n",
      "[0] 0.0016351326811553345\n",
      "[1] 0.9982829949142029\n",
      "[2] 8.187240463464329e-05\n"
     ]
    },
    {
     "data": {
      "image/png": "[encoded data removed]",
      "text/plain": [
       "<Figure size 640x480 with 1 Axes>"
      ]
     },
     "metadata": {},
     "output_type": "display_data"
    }
   ],
   "source": [
    "overlaps = simulation_engine.compute_overlaps(simulated_states)\n",
    "\n",
    "from qibolab_visualization.emulator import plot_overlaps\n",
    "plot_overlaps(overlaps,sim_time_list,time_label='Time / ns');"
   ]
  },
  {
   "cell_type": "markdown",
   "id": "8e369387-8913-4e8d-8a21-b8970f358407",
   "metadata": {
    "tags": []
   },
   "source": [
    "## Sampling and applying readout noise"
   ]
  },
  {
   "cell_type": "markdown",
   "id": "5688f522-e408-4759-b951-74fa003b6be3",
   "metadata": {},
   "source": [
    "By default, the 'readout_error' from the `'model_params'` dictionary is applied when generating the samples from simulation without noise:"
   ]
  },
  {
   "cell_type": "code",
   "execution_count": 12,
   "id": "bce5d664-de80-45cc-9611-71a138b3fbbf",
   "metadata": {},
   "outputs": [
    {
     "data": {
      "text/plain": [
       "([1, 1, 1, 1, 1, 1, 1, 1, 1, 1, 1, 1, 1, 1, 1, 1, 1, 1, 1, 1], 983)"
      ]
     },
     "execution_count": 12,
     "metadata": {},
     "output_type": "execute_result"
    }
   ],
   "source": [
    "samples = results[0].samples\n",
    "samples[:20].tolist(), np.sum(samples)"
   ]
  },
  {
   "cell_type": "markdown",
   "id": "24a8bb55-23ce-4c3d-a73c-bcced2ddaa6e",
   "metadata": {},
   "source": [
    "Samples can be obtained from the final state of the simulation without applying readout error manually by the `get_samples` function:"
   ]
  },
  {
   "cell_type": "code",
   "execution_count": 13,
   "id": "286e6c12-b87b-47cf-9d73-541194f5c185",
   "metadata": {
    "tags": []
   },
   "outputs": [
    {
     "data": {
      "text/plain": [
       "([1, 1, 1, 1, 1, 1, 1, 1, 1, 1, 1, 1, 1, 1, 1, 1, 1, 1, 1, 1], 999)"
      ]
     },
     "execution_count": 13,
     "metadata": {},
     "output_type": "execute_result"
    }
   ],
   "source": [
    "final_state = simulated_states[-1]\n",
    "\n",
    "from qibolab.instruments.emulator.pulse_simulator import get_samples\n",
    "ro_qubit_list = [pulse_r0.qubit]\n",
    "ro_reduced_dm, rdm_qubit_list = pulse_simulator.simulation_engine.qobj_to_reduced_dm(final_state, ro_qubit_list)\n",
    "noiseless_samples = get_samples(1000, ro_reduced_dm, rdm_qubit_list, pulse_simulator.simulation_engine.qid_nlevels_map)\n",
    "\n",
    "noiseless_samples[0][:20], np.sum(noiseless_samples[0])"
   ]
  },
  {
   "cell_type": "markdown",
   "id": "97b760c6-01d4-43a1-96af-37e810247fa2",
   "metadata": {},
   "source": [
    "The `readout_error` can be applied subsequently as well with the `apply_readout_noise` function:"
   ]
  },
  {
   "cell_type": "code",
   "execution_count": 14,
   "id": "4e6a91b6-3d27-4505-9f10-718b19fb6c0d",
   "metadata": {},
   "outputs": [
    {
     "data": {
      "text/plain": [
       "([1, 1, 1, 1, 0, 1, 1, 1, 1, 0, 1, 1, 1, 1, 1, 1, 1, 1, 1, 1], 905)"
      ]
     },
     "execution_count": 14,
     "metadata": {},
     "output_type": "execute_result"
    }
   ],
   "source": [
    "from qibolab.instruments.emulator.pulse_simulator import apply_readout_noise\n",
    "\n",
    "readout_error = {0: [0.1, 0.1], 1: [0.1, 0.1]}\n",
    "noisy_samples = apply_readout_noise(noiseless_samples, readout_error)\n",
    "noisy_samples[0][:20], np.sum(noisy_samples[0])"
   ]
  },
  {
   "cell_type": "markdown",
   "id": "24a9f3fe-93e3-4daa-87f7-272a8a016119",
   "metadata": {},
   "source": [
    "## Returning only the final state of simulations"
   ]
  },
  {
   "cell_type": "markdown",
   "id": "7a877c1f-e780-4289-9351-0821593997b5",
   "metadata": {},
   "source": [
    "In some cases, the entire history of the simulated states is not needed. One can save memory by setting `'output_state_history' = 'False'`in `'simulations_config'`. This is useful for instance when running sweepers:"
   ]
  },
  {
   "cell_type": "code",
   "execution_count": 15,
   "id": "e0690c99-11a0-45a0-87c2-f81ba39f3bf6",
   "metadata": {
    "tags": []
   },
   "outputs": [],
   "source": [
    "from qibolab.sweeper import Sweeper, Parameter\n",
    "\n",
    "parameter = Parameter.duration\n",
    "parameter2 = Parameter.amplitude\n",
    "parameter_range = np.linspace(pulse_x0.duration*.5, pulse_x0.duration*1.0, num=2)\n",
    "parameter2_range = np.linspace(pulse_x0.amplitude*.95, pulse_x0.amplitude*1.05, num=3)\n",
    "sweeper = Sweeper(parameter, parameter_range, [pulse_x0])\n",
    "sweeper2 = Sweeper(parameter2, parameter2_range, [pulse_x0])"
   ]
  },
  {
   "cell_type": "code",
   "execution_count": 16,
   "id": "9012c9b0-74a2-420f-8c4c-2c1addb16803",
   "metadata": {},
   "outputs": [
    {
     "name": "stderr",
     "output_type": "stream",
     "text": [
      "[Qibo 0.2.6|INFO|2024-06-18 02:01:43]: Minimal execution time (sweep): 7.4958711466666665\n",
      "INFO:qibo.config:Minimal execution time (sweep): 7.4958711466666665\n"
     ]
    },
    {
     "name": "stdout",
     "output_type": "stream",
     "text": [
      " Total run time:   0.89s*] Elapsed 0.89s / Remaining 00:00:00:00[******   26%           ] Elapsed 0.28s / Remaining 00:00:00:00\n",
      " Total run time:   0.99s*] Elapsed 0.99s / Remaining 00:00:00:00[*         6%           ] Elapsed 0.11s / Remaining 00:00:00:01\n",
      " [          1%           ] Elapsed 0.01s / Remaining 00:00:00:01"
     ]
    },
    {
     "name": "stderr",
     "output_type": "stream",
     "text": [
      "IOPub message rate exceeded.\n",
      "The Jupyter server will temporarily stop sending output\n",
      "to the client in order to avoid crashing it.\n",
      "To change this limit, set the config variable\n",
      "`--ServerApp.iopub_msg_rate_limit`.\n",
      "\n",
      "Current values:\n",
      "ServerApp.iopub_msg_rate_limit=1000.0 (msgs/sec)\n",
      "ServerApp.rate_limit_window=3.0 (secs)\n",
      "\n"
     ]
    },
    {
     "name": "stdout",
     "output_type": "stream",
     "text": [
      " Total run time:   1.10s*] Elapsed 1.10s / Remaining 00:00:00:00\n",
      " Total run time:   1.14s*] Elapsed 1.14s / Remaining 00:00:00:00[****     18%           ] Elapsed 0.25s / Remaining 00:00:00:01[*********75%*****      ] Elapsed 0.88s / Remaining 00:00:00:00[*********98%***********] Elapsed 1.08s / Remaining 00:00:00:00\n",
      " [*********48%           ] Elapsed 0.55s / Remaining 00:00:00:00[*         3%           ] Elapsed 0.05s / Remaining 00:00:00:01[*         4%           ] Elapsed 0.06s / Remaining 00:00:00:01"
     ]
    },
    {
     "name": "stderr",
     "output_type": "stream",
     "text": [
      "IOPub message rate exceeded.\n",
      "The Jupyter server will temporarily stop sending output\n",
      "to the client in order to avoid crashing it.\n",
      "To change this limit, set the config variable\n",
      "`--ServerApp.iopub_msg_rate_limit`.\n",
      "\n",
      "Current values:\n",
      "ServerApp.iopub_msg_rate_limit=1000.0 (msgs/sec)\n",
      "ServerApp.rate_limit_window=3.0 (secs)\n",
      "\n"
     ]
    }
   ],
   "source": [
    "# output only final state\n",
    "emulator_platform.instruments['pulse_simulator'].output_state_history = False\n",
    "sweep_results = emulator_platform.sweep(sequence, ExecutionParameters(), sweeper, sweeper2)"
   ]
  },
  {
   "cell_type": "markdown",
   "id": "a1fe5e3d-7619-480e-b3a8-e4b60e037092",
   "metadata": {},
   "source": [
    "To help visualize the simulation results, we can once again look at its overlap with the basis states of the system. We use `make_array_index_list` function to generate a list of all possible index combinations of an array with arbitrary shape, in this case corresponding to all possible combinations of different sweeper parameters:"
   ]
  },
  {
   "cell_type": "code",
   "execution_count": 17,
   "id": "37ac5613-2c25-4344-b5bf-4604ed2859d1",
   "metadata": {},
   "outputs": [
    {
     "data": {
      "image/png": "[encoded data removed]",
      "text/plain": [
       "<Figure size 640x480 with 2 Axes>"
      ]
     },
     "metadata": {},
     "output_type": "display_data"
    },
    {
     "data": {
      "image/png": "[encoded data removed]",
      "text/plain": [
       "<Figure size 640x480 with 2 Axes>"
      ]
     },
     "metadata": {},
     "output_type": "display_data"
    },
    {
     "data": {
      "image/png": "[encoded data removed]",
      "text/plain": [
       "<Figure size 640x480 with 2 Axes>"
      ]
     },
     "metadata": {},
     "output_type": "display_data"
    }
   ],
   "source": [
    "from qibolab.instruments.emulator.pulse_simulator import make_array_index_list\n",
    "\n",
    "final_states_array = sweep_results['simulation']['output_states']\n",
    "shape = final_states_array.shape\n",
    "index_list = make_array_index_list(shape)\n",
    "overlaps = {}\n",
    "for index in index_list:\n",
    "    pulse_simulator.merge_sweep_results(overlaps, simulation_engine.compute_overlaps(final_states_array[tuple(index)]))\n",
    "\n",
    "import matplotlib.pyplot as plt\n",
    "for label in overlaps.keys():\n",
    "    plt.figure()\n",
    "    plt.pcolormesh(np.array(overlaps[label]).reshape(shape))\n",
    "    plt.colorbar()\n",
    "    plt.title(f'Final state overlap with {label}')\n",
    "    plt.show()"
   ]
  },
  {
   "cell_type": "markdown",
   "id": "ed868b1f",
   "metadata": {},
   "source": [
    "## --- Version information for major packages used in the current Qibolab emulator example ---"
   ]
  },
  {
   "cell_type": "code",
   "execution_count": 18,
   "id": "f78416d6-33a7-4350-86c1-c64fb3fe80ab",
   "metadata": {},
   "outputs": [],
   "source": [
    "%load_ext watermark"
   ]
  },
  {
   "cell_type": "code",
   "execution_count": 19,
   "id": "38340640-9e0b-40b3-9952-d4cabef2e277",
   "metadata": {},
   "outputs": [
    {
     "name": "stdout",
     "output_type": "stream",
     "text": [
      "Python implementation: CPython\n",
      "Python version       : 3.9.18\n",
      "IPython version      : 8.15.0\n",
      "\n",
      "qibolab   : 0.1.7\n",
      "qibo      : 0.2.6\n",
      "qutip     : 4.7.5\n",
      "matplotlib: 3.8.0\n",
      "numpy     : 1.26.4\n",
      "scipy     : 1.12.0\n",
      "\n"
     ]
    }
   ],
   "source": [
    "%watermark -v -p qibolab,qibo,qutip,matplotlib,numpy,scipy"
   ]
  }
 ],
 "metadata": {
  "kernelspec": {
   "display_name": "Python 3 (ipykernel)",
   "language": "python",
   "name": "python3"
  },
  "language_info": {
   "codemirror_mode": {
    "name": "ipython",
    "version": 3
   },
   "file_extension": ".py",
   "mimetype": "text/x-python",
   "name": "python",
   "nbconvert_exporter": "python",
   "pygments_lexer": "ipython3",
   "version": "3.9.18"
  }
 },
 "nbformat": 4,
 "nbformat_minor": 5
}
