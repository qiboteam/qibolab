{
 "cells": [
  {
   "cell_type": "code",
   "execution_count": 1,
   "metadata": {},
   "outputs": [
    {
     "name": "stdout",
     "output_type": "stream",
     "text": [
      "0.1.9\n",
      "0.0.1.dev6\n"
     ]
    }
   ],
   "source": [
    "import numpy as np\n",
    "import matplotlib.pyplot as plt\n",
    "import qibo\n",
    "import qibolab\n",
    "from qibolab import Platform\n",
    "from qibolab.pulses import PulseSequence\n",
    "\n",
    "print(qibo.__version__)\n",
    "print(qibolab.__version__)"
   ]
  },
  {
   "cell_type": "code",
   "execution_count": 2,
   "metadata": {},
   "outputs": [
    {
     "name": "stderr",
     "output_type": "stream",
     "text": [
      "[Qibo 0.1.9|INFO|2022-12-09 10:02:50]: Loading platform tii_rfsoc4x2 from runcard /home/javierserrano/fpgaQCRdrivers/drivers/RFSoC4x2/qibolab/src/qibolab/runcards/tii_rfsoc4x2.yml\n"
     ]
    }
   ],
   "source": [
    "platform = Platform('tii_rfsoc4x2')"
   ]
  },
  {
   "cell_type": "code",
   "execution_count": 3,
   "metadata": {},
   "outputs": [
    {
     "name": "stdout",
     "output_type": "stream",
     "text": [
      "PulseSequence\n",
      "ReadoutPulse(0, 3000, 0.02, 7_295_238_290, 0, Rectangular(), 0, 0)\n",
      "Pulse(0, 114, 0.566, 5_236_300_000, 0, Drag(5, 0.05096), 1, PulseType.DRIVE, 0)\n"
     ]
    }
   ],
   "source": [
    "qd_pulse = platform.create_RX_pulse(0, start=0)\n",
    "ro_pulse = platform.create_MZ_pulse(0, start=qd_pulse.start)\n",
    "\n",
    "sequence = PulseSequence()\n",
    "sequence.add(qd_pulse)\n",
    "sequence.add(ro_pulse)\n",
    "\n",
    "print(sequence)"
   ]
  },
  {
   "cell_type": "code",
   "execution_count": 4,
   "metadata": {},
   "outputs": [
    {
     "ename": "TypeError",
     "evalue": "tii_rfsoc4x2.setup() takes 0 positional arguments but 1 was given",
     "output_type": "error",
     "traceback": [
      "\u001b[0;31m---------------------------------------------------------------------------\u001b[0m",
      "\u001b[0;31mTypeError\u001b[0m                                 Traceback (most recent call last)",
      "Cell \u001b[0;32mIn [4], line 2\u001b[0m\n\u001b[1;32m      1\u001b[0m \u001b[39m#platform.setup(1)\u001b[39;00m\n\u001b[0;32m----> 2\u001b[0m avgi, avgq \u001b[39m=\u001b[39m platform\u001b[39m.\u001b[39;49mexecute_pulse_sequence(sequence)\n\u001b[1;32m      3\u001b[0m \u001b[39mprint\u001b[39m((avgi, avgq))\n",
      "File \u001b[0;32m~/fpgaQCRdrivers/drivers/RFSoC4x2/qibolab/src/qibolab/platforms/rfsoc.py:102\u001b[0m, in \u001b[0;36mRFSoc1qPlatform.execute_pulse_sequence\u001b[0;34m(self, sequence, nshots)\u001b[0m\n\u001b[1;32m    101\u001b[0m \u001b[39mdef\u001b[39;00m \u001b[39mexecute_pulse_sequence\u001b[39m(\u001b[39mself\u001b[39m, sequence, nshots\u001b[39m=\u001b[39m\u001b[39mNone\u001b[39;00m):\n\u001b[0;32m--> 102\u001b[0m     \u001b[39mself\u001b[39;49m\u001b[39m.\u001b[39;49mfpga\u001b[39m.\u001b[39;49msetup()\n\u001b[1;32m    103\u001b[0m     avgi, avgq \u001b[39m=\u001b[39m \u001b[39mself\u001b[39m\u001b[39m.\u001b[39mfpga\u001b[39m.\u001b[39mplay_sequence_and_acquire(sequence)\n\u001b[1;32m    104\u001b[0m     \u001b[39mreturn\u001b[39;00m avgi, avgq\n",
      "\u001b[0;31mTypeError\u001b[0m: tii_rfsoc4x2.setup() takes 0 positional arguments but 1 was given"
     ]
    }
   ],
   "source": [
    "#platform.setup(1)\n",
    "avgi, avgq = platform.execute_pulse_sequence(sequence)\n",
    "print((avgi, avgq))"
   ]
  },
  {
   "cell_type": "code",
   "execution_count": null,
   "metadata": {},
   "outputs": [],
   "source": [
    "start = 10\n",
    "stop = 100\n",
    "step = 5\n",
    "\n",
    "lengths = np.arange(start, stop, step)\n",
    "results = []\n",
    "for i, length in enumerate(lengths):\n",
    "    qd_pulse = platform.create_RX_pulse(0, start=0)\n",
    "    ro_pulse = platform.create_MZ_pulse(0, start=qd_pulse.start)\n",
    "    qd_pulse.duration = length\n",
    "\n",
    "    sequence = PulseSequence()\n",
    "    sequence.add(qd_pulse)\n",
    "    sequence.add(ro_pulse)\n",
    "\n",
    "    avgi, avgq = platform.execute_pulse_sequence(sequence)\n",
    "    results.append((avgi, avgq))"
   ]
  },
  {
   "cell_type": "code",
   "execution_count": null,
   "metadata": {},
   "outputs": [],
   "source": [
    "results.shape"
   ]
  },
  {
   "cell_type": "code",
   "execution_count": null,
   "metadata": {},
   "outputs": [],
   "source": [
    "results = np.array(results)\n",
    "amp = np.abs(results[:, 0, 0] + 1j * results[:, 1, 0])\n",
    "print(results.shape)\n",
    "print(amp.shape)"
   ]
  },
  {
   "cell_type": "code",
   "execution_count": null,
   "metadata": {},
   "outputs": [],
   "source": [
    "plt.figure(figsize=(10, 6))\n",
    "plt.plot(lengths, amp, 'o-')\n",
    "plt.title(\"Length Rabi Oscillation\")\n",
    "plt.xlabel(\"Drive length (ns)\")\n",
    "plt.ylabel(\"Amplitude (ADC level)\")\n",
    "plt.savefig(\"\")"
   ]
  },
  {
   "cell_type": "code",
   "execution_count": null,
   "metadata": {},
   "outputs": [],
   "source": []
  },
  {
   "cell_type": "code",
   "execution_count": null,
   "metadata": {},
   "outputs": [],
   "source": []
  },
  {
   "cell_type": "code",
   "execution_count": null,
   "metadata": {},
   "outputs": [],
   "source": []
  },
  {
   "cell_type": "code",
   "execution_count": null,
   "metadata": {},
   "outputs": [],
   "source": []
  },
  {
   "cell_type": "code",
   "execution_count": null,
   "metadata": {},
   "outputs": [],
   "source": []
  }
 ],
 "metadata": {
  "kernelspec": {
   "display_name": "Python 3.10.6 ('rfsoc')",
   "language": "python",
   "name": "python3"
  },
  "language_info": {
   "codemirror_mode": {
    "name": "ipython",
    "version": 3
   },
   "file_extension": ".py",
   "mimetype": "text/x-python",
   "name": "python",
   "nbconvert_exporter": "python",
   "pygments_lexer": "ipython3",
   "version": "3.10.6 | packaged by conda-forge | (main, Aug 22 2022, 20:36:39) [GCC 10.4.0]"
  },
  "orig_nbformat": 4,
  "vscode": {
   "interpreter": {
    "hash": "cce07b2426f373382ddfa535310d8702b9e870bce953ab191ae6a22b136673aa"
   }
  }
 },
 "nbformat": 4,
 "nbformat_minor": 2
}
