{
 "cells": [
  {
   "cell_type": "code",
   "execution_count": 1,
   "metadata": {},
   "outputs": [
    {
     "name": "stdout",
     "output_type": "stream",
     "text": [
      "0.1.9\n",
      "0.0.1.dev6\n"
     ]
    }
   ],
   "source": [
    "import numpy as np\n",
    "import matplotlib.pyplot as plt\n",
    "import qibo\n",
    "import qibolab\n",
    "from qibolab.paths import qibolab_folder\n",
    "\n",
    "from qibolab.pulses import PulseSequence\n",
    "from qibolab import Platform\n",
    "\n",
    "\n",
    "print(qibo.__version__)\n",
    "print(qibolab.__version__)"
   ]
  },
  {
   "cell_type": "code",
   "execution_count": 2,
   "metadata": {},
   "outputs": [
    {
     "name": "stderr",
     "output_type": "stream",
     "text": [
      "[Qibo 0.1.9|INFO|2023-02-01 10:21:41]: Loading platform tii_rfsoc4x2 from runcard /home/javierserrano/fpgaQCRdrivers/drivers/RFSoC4x2/qibolab/src/qibolab/runcards/tii_rfsoc4x2.yml\n"
     ]
    }
   ],
   "source": [
    "runcard = qibolab_folder / \"runcards\" / \"tii_rfsoc4x2.yml\"\n",
    "\n",
    "platform = Platform(\"tii_rfsoc4x2\")\n"
   ]
  },
  {
   "cell_type": "code",
   "execution_count": 3,
   "metadata": {},
   "outputs": [
    {
     "name": "stderr",
     "output_type": "stream",
     "text": [
      "[Qibo 0.1.9|INFO|2023-02-01 10:21:44]: Connecting to tii_rfsoc4x2 instrument tii_rfsoc4x2.\n"
     ]
    }
   ],
   "source": [
    "platform.connect()\n",
    "platform.setup()"
   ]
  },
  {
   "cell_type": "code",
   "execution_count": 4,
   "metadata": {},
   "outputs": [
    {
     "name": "stdout",
     "output_type": "stream",
     "text": [
      "PulseSequence\n",
      "Pulse(0, 40, 1, 5_440_000_000, 0, Gaussian(5), L3-18_qd, PulseType.DRIVE, 0)\n",
      "Pulse(0, 40, 1, 5_440_000_000, 0, Gaussian(5), L3-18_qd, PulseType.DRIVE, 0)\n",
      "Pulse(0, 40, 1, 5_440_000_000, 0, Gaussian(5), L3-18_qd, PulseType.DRIVE, 0)\n",
      "ReadoutPulse(40, 3000, 0.0156, 7_371_530_000, 0, Rectangular(), L3-18_ro, 0)\n"
     ]
    },
    {
     "ename": "JSONDecodeError",
     "evalue": "Expecting value: line 1 column 1 (char 0)",
     "output_type": "error",
     "traceback": [
      "\u001b[0;31m---------------------------------------------------------------------------\u001b[0m",
      "\u001b[0;31mJSONDecodeError\u001b[0m                           Traceback (most recent call last)",
      "Cell \u001b[0;32mIn [4], line 11\u001b[0m\n\u001b[1;32m      8\u001b[0m sequence\u001b[39m.\u001b[39madd(qd_pulse2)\n\u001b[1;32m      9\u001b[0m sequence\u001b[39m.\u001b[39madd(ro_pulse1)\n\u001b[0;32m---> 11\u001b[0m result \u001b[39m=\u001b[39m platform\u001b[39m.\u001b[39;49mexecute_pulse_sequence(sequence, nshots\u001b[39m=\u001b[39;49m\u001b[39m100\u001b[39;49m)\n",
      "File \u001b[0;32m~/fpgaQCRdrivers/drivers/RFSoC4x2/qibolab/src/qibolab/platforms/rfsoc.py:48\u001b[0m, in \u001b[0;36mRFSoc1qPlatform.execute_pulse_sequence\u001b[0;34m(self, sequence, nshots)\u001b[0m\n\u001b[1;32m     46\u001b[0m     nshots \u001b[39m=\u001b[39m \u001b[39mself\u001b[39m\u001b[39m.\u001b[39mhardware_avg\n\u001b[1;32m     47\u001b[0m \u001b[39mprint\u001b[39m(sequence)\n\u001b[0;32m---> 48\u001b[0m i, q \u001b[39m=\u001b[39m \u001b[39mself\u001b[39;49m\u001b[39m.\u001b[39;49minstruments[\u001b[39mself\u001b[39;49m\u001b[39m.\u001b[39;49mname]\u001b[39m.\u001b[39;49mplay_sequence_and_acquire(sequence)\n\u001b[1;32m     49\u001b[0m msr\u001b[39m=\u001b[39mnp\u001b[39m.\u001b[39mabs(i\u001b[39m+\u001b[39m\u001b[39m1\u001b[39mj\u001b[39m*\u001b[39mq)\n\u001b[1;32m     50\u001b[0m phase \u001b[39m=\u001b[39m np\u001b[39m.\u001b[39mangle(i\u001b[39m+\u001b[39mq\u001b[39m*\u001b[39m\u001b[39m1\u001b[39mj)\n",
      "File \u001b[0;32m~/fpgaQCRdrivers/drivers/RFSoC4x2/qibolab/src/qibolab/instruments/tii.py:215\u001b[0m, in \u001b[0;36mtii_rfsoc4x2.play_sequence_and_acquire\u001b[0;34m(self, sequence)\u001b[0m\n\u001b[1;32m    213\u001b[0m \u001b[39m# Receive data from the server and shut down\u001b[39;00m\n\u001b[1;32m    214\u001b[0m received \u001b[39m=\u001b[39m sock\u001b[39m.\u001b[39mrecv(\u001b[39m256\u001b[39m)\n\u001b[0;32m--> 215\u001b[0m avg \u001b[39m=\u001b[39m json\u001b[39m.\u001b[39;49mloads(received\u001b[39m.\u001b[39;49mdecode(\u001b[39m\"\u001b[39;49m\u001b[39mutf-8\u001b[39;49m\u001b[39m\"\u001b[39;49m))\n\u001b[1;32m    216\u001b[0m avgi \u001b[39m=\u001b[39m avg[\u001b[39m\"\u001b[39m\u001b[39mavgi\u001b[39m\u001b[39m\"\u001b[39m]\n\u001b[1;32m    217\u001b[0m avgq \u001b[39m=\u001b[39m avg[\u001b[39m\"\u001b[39m\u001b[39mavgq\u001b[39m\u001b[39m\"\u001b[39m]\n",
      "File \u001b[0;32m~/miniconda3/envs/rfsoc/lib/python3.10/json/__init__.py:346\u001b[0m, in \u001b[0;36mloads\u001b[0;34m(s, cls, object_hook, parse_float, parse_int, parse_constant, object_pairs_hook, **kw)\u001b[0m\n\u001b[1;32m    341\u001b[0m     s \u001b[39m=\u001b[39m s\u001b[39m.\u001b[39mdecode(detect_encoding(s), \u001b[39m'\u001b[39m\u001b[39msurrogatepass\u001b[39m\u001b[39m'\u001b[39m)\n\u001b[1;32m    343\u001b[0m \u001b[39mif\u001b[39;00m (\u001b[39mcls\u001b[39m \u001b[39mis\u001b[39;00m \u001b[39mNone\u001b[39;00m \u001b[39mand\u001b[39;00m object_hook \u001b[39mis\u001b[39;00m \u001b[39mNone\u001b[39;00m \u001b[39mand\u001b[39;00m\n\u001b[1;32m    344\u001b[0m         parse_int \u001b[39mis\u001b[39;00m \u001b[39mNone\u001b[39;00m \u001b[39mand\u001b[39;00m parse_float \u001b[39mis\u001b[39;00m \u001b[39mNone\u001b[39;00m \u001b[39mand\u001b[39;00m\n\u001b[1;32m    345\u001b[0m         parse_constant \u001b[39mis\u001b[39;00m \u001b[39mNone\u001b[39;00m \u001b[39mand\u001b[39;00m object_pairs_hook \u001b[39mis\u001b[39;00m \u001b[39mNone\u001b[39;00m \u001b[39mand\u001b[39;00m \u001b[39mnot\u001b[39;00m kw):\n\u001b[0;32m--> 346\u001b[0m     \u001b[39mreturn\u001b[39;00m _default_decoder\u001b[39m.\u001b[39;49mdecode(s)\n\u001b[1;32m    347\u001b[0m \u001b[39mif\u001b[39;00m \u001b[39mcls\u001b[39m \u001b[39mis\u001b[39;00m \u001b[39mNone\u001b[39;00m:\n\u001b[1;32m    348\u001b[0m     \u001b[39mcls\u001b[39m \u001b[39m=\u001b[39m JSONDecoder\n",
      "File \u001b[0;32m~/miniconda3/envs/rfsoc/lib/python3.10/json/decoder.py:337\u001b[0m, in \u001b[0;36mJSONDecoder.decode\u001b[0;34m(self, s, _w)\u001b[0m\n\u001b[1;32m    332\u001b[0m \u001b[39mdef\u001b[39;00m \u001b[39mdecode\u001b[39m(\u001b[39mself\u001b[39m, s, _w\u001b[39m=\u001b[39mWHITESPACE\u001b[39m.\u001b[39mmatch):\n\u001b[1;32m    333\u001b[0m     \u001b[39m\"\"\"Return the Python representation of ``s`` (a ``str`` instance\u001b[39;00m\n\u001b[1;32m    334\u001b[0m \u001b[39m    containing a JSON document).\u001b[39;00m\n\u001b[1;32m    335\u001b[0m \n\u001b[1;32m    336\u001b[0m \u001b[39m    \"\"\"\u001b[39;00m\n\u001b[0;32m--> 337\u001b[0m     obj, end \u001b[39m=\u001b[39m \u001b[39mself\u001b[39;49m\u001b[39m.\u001b[39;49mraw_decode(s, idx\u001b[39m=\u001b[39;49m_w(s, \u001b[39m0\u001b[39;49m)\u001b[39m.\u001b[39;49mend())\n\u001b[1;32m    338\u001b[0m     end \u001b[39m=\u001b[39m _w(s, end)\u001b[39m.\u001b[39mend()\n\u001b[1;32m    339\u001b[0m     \u001b[39mif\u001b[39;00m end \u001b[39m!=\u001b[39m \u001b[39mlen\u001b[39m(s):\n",
      "File \u001b[0;32m~/miniconda3/envs/rfsoc/lib/python3.10/json/decoder.py:355\u001b[0m, in \u001b[0;36mJSONDecoder.raw_decode\u001b[0;34m(self, s, idx)\u001b[0m\n\u001b[1;32m    353\u001b[0m     obj, end \u001b[39m=\u001b[39m \u001b[39mself\u001b[39m\u001b[39m.\u001b[39mscan_once(s, idx)\n\u001b[1;32m    354\u001b[0m \u001b[39mexcept\u001b[39;00m \u001b[39mStopIteration\u001b[39;00m \u001b[39mas\u001b[39;00m err:\n\u001b[0;32m--> 355\u001b[0m     \u001b[39mraise\u001b[39;00m JSONDecodeError(\u001b[39m\"\u001b[39m\u001b[39mExpecting value\u001b[39m\u001b[39m\"\u001b[39m, s, err\u001b[39m.\u001b[39mvalue) \u001b[39mfrom\u001b[39;00m \u001b[39mNone\u001b[39m\n\u001b[1;32m    356\u001b[0m \u001b[39mreturn\u001b[39;00m obj, end\n",
      "\u001b[0;31mJSONDecodeError\u001b[0m: Expecting value: line 1 column 1 (char 0)"
     ]
    }
   ],
   "source": [
    "\n",
    "\n",
    "qd_pulse0 = platform.create_RX_pulse(0, start=0)\n",
    "qd_pulse1 = platform.create_RX_pulse(0, start=0)\n",
    "qd_pulse2 = platform.create_RX_pulse(0, start=0)\n",
    "ro_pulse1 = platform.create_MZ_pulse(0, start=qd_pulse1.duration)\n",
    "sequence = PulseSequence()\n",
    "sequence.add(qd_pulse0)\n",
    "sequence.add(qd_pulse1)\n",
    "sequence.add(qd_pulse2)\n",
    "sequence.add(ro_pulse1)\n",
    "\n",
    "result = platform.execute_pulse_sequence(sequence, nshots=100)"
   ]
  },
  {
   "cell_type": "code",
   "execution_count": null,
   "metadata": {},
   "outputs": [],
   "source": [
    "print(result)"
   ]
  },
  {
   "cell_type": "code",
   "execution_count": null,
   "metadata": {},
   "outputs": [],
   "source": [
    "start = 10\n",
    "step = 1\n",
    "platform.connect()\n",
    "platform.setup()\n",
    "lengths = np.arange(start, stop, step)\n",
    "results = []\n",
    "for i, length in enumerate(lengths):\n",
    "    qd_pulse = platform.create_RX_pulse(0, start=0)\n",
    "    ro_pulse = platform.create_MZ_pulse(0, start=qd_pulse.start)\n",
    "    qd_pulse.duration = length\n",
    "    qd_pulse.shape.rel_sigma = length/4\n",
    "\n",
    "    sequence = PulseSequence()\n",
    "    sequence.add(qd_pulse)\n",
    "    sequence.add(ro_pulse)\n",
    "    platform.setup()\n",
    "    msr, phase, avgi, avgq = platform.execute_pulse_sequence(sequence)\n",
    "    results.append((avgi, avgq))"
   ]
  },
  {
   "cell_type": "code",
   "execution_count": null,
   "metadata": {},
   "outputs": [],
   "source": [
    "results = np.array(results)\n",
    "amp = np.abs(results[:, 0] + 1j * results[:, 1])\n",
    "plt.figure(figsize=(10, 6))\n",
    "plt.plot(lengths, amp, 'o-')\n",
    "plt.title(\"Length Rabi Oscillation\")\n",
    "plt.xlabel(\"Drive length (ns)\")\n",
    "plt.ylabel(\"Amplitude (ADC level)\")\n",
    "plt.savefig(\"\")"
   ]
  },
  {
   "cell_type": "code",
   "execution_count": null,
   "metadata": {},
   "outputs": [],
   "source": [
    "results = np.array(results)\n",
    "results.shape"
   ]
  },
  {
   "cell_type": "code",
   "execution_count": 5,
   "metadata": {},
   "outputs": [
    {
     "name": "stderr",
     "output_type": "stream",
     "text": [
      "[Qibo 0.1.9|INFO|2023-02-01 10:24:04]: Loading platform tii_rfsoc4x2 from runcard /home/javierserrano/fpgaQCRdrivers/drivers/RFSoC4x2/qibolab/src/qibolab/runcards/tii_rfsoc4x2.yml\n",
      "[Qibo 0.1.9|INFO|2023-02-01 10:24:04]: Connecting to tii_rfsoc4x2 instrument tii_rfsoc4x2.\n"
     ]
    },
    {
     "name": "stdout",
     "output_type": "stream",
     "text": [
      "PulseSequence\n",
      "ReadoutPulse(0, 3000, 0.0156, 7_350_000_000, 0, Rectangular(), L3-18_ro, 0)\n"
     ]
    },
    {
     "ename": "JSONDecodeError",
     "evalue": "Expecting value: line 1 column 1 (char 0)",
     "output_type": "error",
     "traceback": [
      "\u001b[0;31m---------------------------------------------------------------------------\u001b[0m",
      "\u001b[0;31mJSONDecodeError\u001b[0m                           Traceback (most recent call last)",
      "Cell \u001b[0;32mIn [5], line 27\u001b[0m\n\u001b[1;32m     24\u001b[0m     sequence\u001b[39m.\u001b[39madd(ro_pulse)\n\u001b[1;32m     26\u001b[0m     platform\u001b[39m.\u001b[39msetup()\n\u001b[0;32m---> 27\u001b[0m     msr, phase, avgi, avgq \u001b[39m=\u001b[39m platform\u001b[39m.\u001b[39;49mexecute_pulse_sequence(sequence)\n\u001b[1;32m     28\u001b[0m     results\u001b[39m.\u001b[39mappend((avgi, avgq))\n\u001b[1;32m     30\u001b[0m results \u001b[39m=\u001b[39m np\u001b[39m.\u001b[39marray(results)\n",
      "File \u001b[0;32m~/fpgaQCRdrivers/drivers/RFSoC4x2/qibolab/src/qibolab/platforms/rfsoc.py:48\u001b[0m, in \u001b[0;36mRFSoc1qPlatform.execute_pulse_sequence\u001b[0;34m(self, sequence, nshots)\u001b[0m\n\u001b[1;32m     46\u001b[0m     nshots \u001b[39m=\u001b[39m \u001b[39mself\u001b[39m\u001b[39m.\u001b[39mhardware_avg\n\u001b[1;32m     47\u001b[0m \u001b[39mprint\u001b[39m(sequence)\n\u001b[0;32m---> 48\u001b[0m i, q \u001b[39m=\u001b[39m \u001b[39mself\u001b[39;49m\u001b[39m.\u001b[39;49minstruments[\u001b[39mself\u001b[39;49m\u001b[39m.\u001b[39;49mname]\u001b[39m.\u001b[39;49mplay_sequence_and_acquire(sequence)\n\u001b[1;32m     49\u001b[0m msr\u001b[39m=\u001b[39mnp\u001b[39m.\u001b[39mabs(i\u001b[39m+\u001b[39m\u001b[39m1\u001b[39mj\u001b[39m*\u001b[39mq)\n\u001b[1;32m     50\u001b[0m phase \u001b[39m=\u001b[39m np\u001b[39m.\u001b[39mangle(i\u001b[39m+\u001b[39mq\u001b[39m*\u001b[39m\u001b[39m1\u001b[39mj)\n",
      "File \u001b[0;32m~/fpgaQCRdrivers/drivers/RFSoC4x2/qibolab/src/qibolab/instruments/tii.py:215\u001b[0m, in \u001b[0;36mtii_rfsoc4x2.play_sequence_and_acquire\u001b[0;34m(self, sequence)\u001b[0m\n\u001b[1;32m    213\u001b[0m \u001b[39m# Receive data from the server and shut down\u001b[39;00m\n\u001b[1;32m    214\u001b[0m received \u001b[39m=\u001b[39m sock\u001b[39m.\u001b[39mrecv(\u001b[39m256\u001b[39m)\n\u001b[0;32m--> 215\u001b[0m avg \u001b[39m=\u001b[39m json\u001b[39m.\u001b[39;49mloads(received\u001b[39m.\u001b[39;49mdecode(\u001b[39m\"\u001b[39;49m\u001b[39mutf-8\u001b[39;49m\u001b[39m\"\u001b[39;49m))\n\u001b[1;32m    216\u001b[0m avgi \u001b[39m=\u001b[39m avg[\u001b[39m\"\u001b[39m\u001b[39mavgi\u001b[39m\u001b[39m\"\u001b[39m]\n\u001b[1;32m    217\u001b[0m avgq \u001b[39m=\u001b[39m avg[\u001b[39m\"\u001b[39m\u001b[39mavgq\u001b[39m\u001b[39m\"\u001b[39m]\n",
      "File \u001b[0;32m~/miniconda3/envs/rfsoc/lib/python3.10/json/__init__.py:346\u001b[0m, in \u001b[0;36mloads\u001b[0;34m(s, cls, object_hook, parse_float, parse_int, parse_constant, object_pairs_hook, **kw)\u001b[0m\n\u001b[1;32m    341\u001b[0m     s \u001b[39m=\u001b[39m s\u001b[39m.\u001b[39mdecode(detect_encoding(s), \u001b[39m'\u001b[39m\u001b[39msurrogatepass\u001b[39m\u001b[39m'\u001b[39m)\n\u001b[1;32m    343\u001b[0m \u001b[39mif\u001b[39;00m (\u001b[39mcls\u001b[39m \u001b[39mis\u001b[39;00m \u001b[39mNone\u001b[39;00m \u001b[39mand\u001b[39;00m object_hook \u001b[39mis\u001b[39;00m \u001b[39mNone\u001b[39;00m \u001b[39mand\u001b[39;00m\n\u001b[1;32m    344\u001b[0m         parse_int \u001b[39mis\u001b[39;00m \u001b[39mNone\u001b[39;00m \u001b[39mand\u001b[39;00m parse_float \u001b[39mis\u001b[39;00m \u001b[39mNone\u001b[39;00m \u001b[39mand\u001b[39;00m\n\u001b[1;32m    345\u001b[0m         parse_constant \u001b[39mis\u001b[39;00m \u001b[39mNone\u001b[39;00m \u001b[39mand\u001b[39;00m object_pairs_hook \u001b[39mis\u001b[39;00m \u001b[39mNone\u001b[39;00m \u001b[39mand\u001b[39;00m \u001b[39mnot\u001b[39;00m kw):\n\u001b[0;32m--> 346\u001b[0m     \u001b[39mreturn\u001b[39;00m _default_decoder\u001b[39m.\u001b[39;49mdecode(s)\n\u001b[1;32m    347\u001b[0m \u001b[39mif\u001b[39;00m \u001b[39mcls\u001b[39m \u001b[39mis\u001b[39;00m \u001b[39mNone\u001b[39;00m:\n\u001b[1;32m    348\u001b[0m     \u001b[39mcls\u001b[39m \u001b[39m=\u001b[39m JSONDecoder\n",
      "File \u001b[0;32m~/miniconda3/envs/rfsoc/lib/python3.10/json/decoder.py:337\u001b[0m, in \u001b[0;36mJSONDecoder.decode\u001b[0;34m(self, s, _w)\u001b[0m\n\u001b[1;32m    332\u001b[0m \u001b[39mdef\u001b[39;00m \u001b[39mdecode\u001b[39m(\u001b[39mself\u001b[39m, s, _w\u001b[39m=\u001b[39mWHITESPACE\u001b[39m.\u001b[39mmatch):\n\u001b[1;32m    333\u001b[0m     \u001b[39m\"\"\"Return the Python representation of ``s`` (a ``str`` instance\u001b[39;00m\n\u001b[1;32m    334\u001b[0m \u001b[39m    containing a JSON document).\u001b[39;00m\n\u001b[1;32m    335\u001b[0m \n\u001b[1;32m    336\u001b[0m \u001b[39m    \"\"\"\u001b[39;00m\n\u001b[0;32m--> 337\u001b[0m     obj, end \u001b[39m=\u001b[39m \u001b[39mself\u001b[39;49m\u001b[39m.\u001b[39;49mraw_decode(s, idx\u001b[39m=\u001b[39;49m_w(s, \u001b[39m0\u001b[39;49m)\u001b[39m.\u001b[39;49mend())\n\u001b[1;32m    338\u001b[0m     end \u001b[39m=\u001b[39m _w(s, end)\u001b[39m.\u001b[39mend()\n\u001b[1;32m    339\u001b[0m     \u001b[39mif\u001b[39;00m end \u001b[39m!=\u001b[39m \u001b[39mlen\u001b[39m(s):\n",
      "File \u001b[0;32m~/miniconda3/envs/rfsoc/lib/python3.10/json/decoder.py:355\u001b[0m, in \u001b[0;36mJSONDecoder.raw_decode\u001b[0;34m(self, s, idx)\u001b[0m\n\u001b[1;32m    353\u001b[0m     obj, end \u001b[39m=\u001b[39m \u001b[39mself\u001b[39m\u001b[39m.\u001b[39mscan_once(s, idx)\n\u001b[1;32m    354\u001b[0m \u001b[39mexcept\u001b[39;00m \u001b[39mStopIteration\u001b[39;00m \u001b[39mas\u001b[39;00m err:\n\u001b[0;32m--> 355\u001b[0m     \u001b[39mraise\u001b[39;00m JSONDecodeError(\u001b[39m\"\u001b[39m\u001b[39mExpecting value\u001b[39m\u001b[39m\"\u001b[39m, s, err\u001b[39m.\u001b[39mvalue) \u001b[39mfrom\u001b[39;00m \u001b[39mNone\u001b[39m\n\u001b[1;32m    356\u001b[0m \u001b[39mreturn\u001b[39;00m obj, end\n",
      "\u001b[0;31mJSONDecodeError\u001b[0m: Expecting value: line 1 column 1 (char 0)"
     ]
    }
   ],
   "source": [
    "runcard = qibolab_folder / \"runcards\" / \"tii_rfsoc4x2.yml\"\n",
    "\n",
    "platform = Platform(\"tii_rfsoc4x2\")\n",
    "platform.connect()\n",
    "platform.setup()\n",
    "\n",
    "start = 7350000000\n",
    "stop =  7400000000\n",
    "step = 100000\n",
    "platform.connect()\n",
    "platform.setup()\n",
    "freqs = np.arange(start, stop, step)\n",
    "length = 40\n",
    "results = []\n",
    "for i, freq in enumerate(freqs):\n",
    "    qd_pulse = platform.create_RX_pulse(0, start=0)\n",
    "    ro_pulse = platform.create_MZ_pulse(0, start=qd_pulse.start)\n",
    "    qd_pulse.duration = length\n",
    "    qd_pulse.shape.rel_sigma = length/4\n",
    "    ro_pulse.frequency = int(freq)\n",
    "    platform.settings[\"instruments\"][platform.name][\"settings\"][\"resonator_freq\"] = ro_pulse.frequency\n",
    "    sequence = PulseSequence()\n",
    "    #sequence.add(qd_pulse)\n",
    "    sequence.add(ro_pulse)\n",
    "\n",
    "    platform.setup()\n",
    "    msr, phase, avgi, avgq = platform.execute_pulse_sequence(sequence)\n",
    "    results.append((avgi, avgq))\n",
    "\n",
    "results = np.array(results)\n",
    "amp = np.abs(results[:, 0] + 1j * results[:, 1])\n",
    "plt.figure(figsize=(10, 6))\n",
    "plt.plot(freqs, amp, 'o-')\n",
    "plt.title(\"Resonator spectroscopy\")\n",
    "plt.xlabel(\"Freq\")\n",
    "plt.ylabel(\"Amplitude (ADC level)\")\n",
    "plt.savefig(\"\")"
   ]
  },
  {
   "cell_type": "code",
   "execution_count": 10,
   "metadata": {},
   "outputs": [
    {
     "name": "stdout",
     "output_type": "stream",
     "text": [
      "Max freq:  7371400000\n"
     ]
    }
   ],
   "source": [
    "print(\"Max freq: \",freqs[np.argmax(amp)])\n"
   ]
  },
  {
   "cell_type": "code",
   "execution_count": 17,
   "metadata": {},
   "outputs": [
    {
     "name": "stdout",
     "output_type": "stream",
     "text": [
      "5.0\n"
     ]
    }
   ],
   "source": [
    "shape=\"Gaussian(5)\"\n",
    "v = shape.split('(')\n",
    "if v[0] == \"Gaussian\":\n",
    "    sigma = v[1].split(')')[0]\n",
    "print(float(sigma))"
   ]
  },
  {
   "cell_type": "code",
   "execution_count": null,
   "metadata": {},
   "outputs": [],
   "source": []
  }
 ],
 "metadata": {
  "kernelspec": {
   "display_name": "rfsoc",
   "language": "python",
   "name": "python3"
  },
  "language_info": {
   "codemirror_mode": {
    "name": "ipython",
    "version": 3
   },
   "file_extension": ".py",
   "mimetype": "text/x-python",
   "name": "python",
   "nbconvert_exporter": "python",
   "pygments_lexer": "ipython3",
   "version": "3.10.6"
  },
  "orig_nbformat": 4,
  "vscode": {
   "interpreter": {
    "hash": "cce07b2426f373382ddfa535310d8702b9e870bce953ab191ae6a22b136673aa"
   }
  }
 },
 "nbformat": 4,
 "nbformat_minor": 2
}
