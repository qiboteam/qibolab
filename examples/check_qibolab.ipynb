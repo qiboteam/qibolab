{
 "cells": [
  {
   "cell_type": "code",
   "execution_count": null,
   "metadata": {},
   "outputs": [],
   "source": [
    "import numpy as np\n",
    "import matplotlib.pyplot as plt\n",
    "import qibo\n",
    "import qibolab\n",
    "from qibolab import Platform\n",
    "from qibolab.pulses import PulseSequence\n",
    "\n",
    "print(qibo.__version__)\n",
    "print(qibolab.__version__)"
   ]
  },
  {
   "cell_type": "code",
   "execution_count": null,
   "metadata": {},
   "outputs": [],
   "source": [
    "platform = Platform(\"rfsoc\")"
   ]
  },
  {
   "cell_type": "code",
   "execution_count": null,
   "metadata": {},
   "outputs": [],
   "source": [
    "qd_pulse = platform.create_RX_pulse(0, start=0)\n",
    "ro_pulse = platform.create_MZ_pulse(0, start=qd_pulse.start)\n",
    "\n",
    "sequence = PulseSequence()\n",
    "sequence.add(qd_pulse)\n",
    "sequence.add(ro_pulse)\n",
    "\n",
    "print(sequence)"
   ]
  },
  {
   "cell_type": "code",
   "execution_count": null,
   "metadata": {},
   "outputs": [],
   "source": [
    "result = platform.execute_pulse_sequence(sequence)\n",
    "print(result)"
   ]
  },
  {
   "cell_type": "code",
   "execution_count": null,
   "metadata": {},
   "outputs": [],
   "source": [
    "start = 10\n",
    "stop = 800\n",
    "step = 5\n",
    "\n",
    "lengths = np.arange(start, stop, step)\n",
    "results = []\n",
    "for i, length in enumerate(lengths):\n",
    "    qd_pulse = platform.create_RX_pulse(0, start=0)\n",
    "    ro_pulse = platform.create_MZ_pulse(0, start=qd_pulse.start)\n",
    "    qd_pulse.duration = length\n",
    "\n",
    "    sequence = PulseSequence()\n",
    "    sequence.add(qd_pulse)\n",
    "    sequence.add(ro_pulse)\n",
    "\n",
    "    avgi, avgq = platform.execute_pulse_sequence(sequence)\n",
    "    results.append((avgi, avgq))"
   ]
  },
  {
   "cell_type": "code",
   "execution_count": null,
   "metadata": {},
   "outputs": [],
   "source": [
    "results = np.array(results)\n",
    "amp = np.abs(results[:, 0, 0, 0] + 1j * results[:, 1, 0, 0])\n",
    "print(results.shape)\n",
    "print(amp.shape)"
   ]
  },
  {
   "cell_type": "code",
   "execution_count": null,
   "metadata": {},
   "outputs": [],
   "source": [
    "plt.figure(figsize=(10, 6))\n",
    "plt.plot(lengths, amp, 'o-')\n",
    "plt.title(\"Length Rabi Oscillation\")\n",
    "plt.xlabel(\"Drive length (ns)\")\n",
    "plt.ylabel(\"Amplitude (ADC level)\")\n",
    "plt.savefig(\"\")"
   ]
  }
 ],
 "metadata": {
  "language_info": {
   "name": "python"
  },
  "orig_nbformat": 4
 },
 "nbformat": 4,
 "nbformat_minor": 2
}
