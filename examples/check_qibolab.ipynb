{
 "cells": [
  {
   "cell_type": "code",
   "execution_count": null,
   "metadata": {},
   "outputs": [],
   "source": [
    "import numpy as np\n",
    "import matplotlib.pyplot as plt\n",
    "import qibo\n",
    "import qibolab\n",
    "from qibolab import Platform\n",
    "from qibolab.pulses import PulseSequence\n",
    "\n",
    "print(qibo.__version__)\n",
    "print(qibolab.__version__)"
   ]
  },
  {
   "cell_type": "code",
   "execution_count": null,
   "metadata": {},
   "outputs": [],
   "source": [
    "platform = Platform('tii_rfsoc4x2')"
   ]
  },
  {
   "cell_type": "code",
   "execution_count": null,
   "metadata": {},
   "outputs": [],
   "source": [
    "qd_pulse = platform.create_RX_pulse(0, start=0)\n",
    "ro_pulse = platform.create_MZ_pulse(0, start=qd_pulse.start)\n",
    "\n",
    "sequence = PulseSequence()\n",
    "sequence.add(qd_pulse)\n",
    "sequence.add(ro_pulse)\n",
    "\n",
    "print(sequence)"
   ]
  },
  {
   "cell_type": "code",
   "execution_count": null,
   "metadata": {},
   "outputs": [],
   "source": [
    "\n",
    "avgi, avgq = platform.execute_pulse_sequence(sequence)\n",
    "print((avgi, avgq))"
   ]
  },
  {
   "cell_type": "code",
   "execution_count": null,
   "metadata": {},
   "outputs": [],
   "source": [
    "start = 10\n",
    "stop = 100\n",
    "step = 5\n",
    "\n",
    "lengths = np.arange(start, stop, step)\n",
    "results = []\n",
    "for i, length in enumerate(lengths):\n",
    "    qd_pulse = platform.create_RX_pulse(0, start=0)\n",
    "    ro_pulse = platform.create_MZ_pulse(0, start=qd_pulse.start)\n",
    "    qd_pulse.duration = length\n",
    "\n",
    "    sequence = PulseSequence()\n",
    "    sequence.add(qd_pulse)\n",
    "    sequence.add(ro_pulse)\n",
    "\n",
    "    avgi, avgq = platform.execute_pulse_sequence(sequence)\n",
    "    results.append((avgi, avgq))"
   ]
  },
  {
   "cell_type": "code",
   "execution_count": null,
   "metadata": {},
   "outputs": [],
   "source": [
    "results = np.array(results)\n",
    "amp = np.abs(results[:, 0, 0] + 1j * results[:, 1, 0])\n",
    "plt.figure(figsize=(10, 6))\n",
    "plt.plot(lengths, amp, 'o-')\n",
    "plt.title(\"Length Rabi Oscillation\")\n",
    "plt.xlabel(\"Drive length (ns)\")\n",
    "plt.ylabel(\"Amplitude (ADC level)\")\n",
    "plt.savefig(\"\")"
   ]
  },
  {
   "cell_type": "code",
   "execution_count": null,
   "metadata": {},
   "outputs": [],
   "source": []
  }
 ],
 "metadata": {
  "kernelspec": {
   "display_name": "Python 3.10.6 ('rfsoc')",
   "language": "python",
   "name": "python3"
  },
  "language_info": {
   "codemirror_mode": {
    "name": "ipython",
    "version": 3
   },
   "file_extension": ".py",
   "mimetype": "text/x-python",
   "name": "python",
   "nbconvert_exporter": "python",
   "pygments_lexer": "ipython3",
   "version": "3.10.6 | packaged by conda-forge | (main, Aug 22 2022, 20:36:39) [GCC 10.4.0]"
  },
  "orig_nbformat": 4,
  "vscode": {
   "interpreter": {
    "hash": "cce07b2426f373382ddfa535310d8702b9e870bce953ab191ae6a22b136673aa"
   }
  }
 },
 "nbformat": 4,
 "nbformat_minor": 2
}
