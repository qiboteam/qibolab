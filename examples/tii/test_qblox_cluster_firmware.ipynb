{
 "cells": [
  {
   "cell_type": "markdown",
   "metadata": {},
   "source": [
    "Import the required packages and connect to the instruments"
   ]
  },
  {
   "cell_type": "code",
   "execution_count": null,
   "metadata": {},
   "outputs": [],
   "source": [
    "from qblox_instruments import Cluster\n",
    "\n",
    "#Close any existing connections to any Cluster.\n",
    "Cluster.close_all()\n",
    "\n",
    "#Connect to the Cluster at default IP address.\n",
    "cluster = Cluster(\"cluster\", \"192.168.1.0\")\n",
    "print (cluster.modules)\n",
    "\n",
    "#qrm = cluster.module2\n",
    "#qcm = cluster.module3\n",
    "\n",
    "#Reset the instrument for good measure.\n",
    "cluster.reset()\n",
    "print(\"Status:\")\n",
    "print(cluster.get_system_state())"
   ]
  },
  {
   "cell_type": "code",
   "execution_count": null,
   "metadata": {},
   "outputs": [],
   "source": []
  }
 ],
 "metadata": {
  "interpreter": {
   "hash": "31898daf08cf1cdc256d9e2e5bb1f0ec91461639f926feac7e6a6f27c6342636"
  },
  "kernelspec": {
   "display_name": "Python 3.9.7 ('Quantum_cluster_upgrade')",
   "language": "python",
   "name": "python3"
  },
  "language_info": {
   "codemirror_mode": {
    "name": "ipython",
    "version": 3
   },
   "file_extension": ".py",
   "mimetype": "text/x-python",
   "name": "python",
   "nbconvert_exporter": "python",
   "pygments_lexer": "ipython3",
   "version": "3.9.7"
  }
 },
 "nbformat": 4,
 "nbformat_minor": 4
}
