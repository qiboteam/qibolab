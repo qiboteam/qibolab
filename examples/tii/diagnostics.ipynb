{
 "cells": [
  {
   "cell_type": "code",
   "execution_count": null,
   "metadata": {},
   "outputs": [],
   "source": [
    "# Characterisation can be done by changing settings to qibolab/runcards/tiiq.yml and diagnostics.yml\n",
    "# These scripts do not save the characterisation results on the runcard; to do so use \n",
    "#   ds.backup_config_file()\n",
    "#   resonator_freq, avg_min_voltage, max_ro_voltage, smooth_dataset, dataset = ds.run_resonator_spectroscopy()\n",
    "#   ds.save_config_parameter('resonator_freq', resonator_freq, 'characterization', 'single_qubit', qubit)"
   ]
  },
  {
   "cell_type": "code",
   "execution_count": 2,
   "metadata": {},
   "outputs": [
    {
     "name": "stderr",
     "output_type": "stream",
     "text": [
      "[Qibo 0.1.7|INFO|2022-06-17 12:31:08]: Loading platform multiqubit from runcard d:\\alvaro\\projects\\github\\qibolab\\src\\qibolab\\runcards\\qw5q.yml\n",
      "[Qibo 0.1.7|INFO|2022-06-17 12:31:08]: Connecting to multiqubit instrument qrm_rf1.\n",
      "[Qibo 0.1.7|INFO|2022-06-17 12:31:08]: Connecting to multiqubit instrument qcm_rf1.\n"
     ]
    },
    {
     "ename": "AttributeError",
     "evalue": "'QcmQrm' object and its delegates have no attribute '_num_sequencers'",
     "output_type": "error",
     "traceback": [
      "\u001b[1;31m---------------------------------------------------------------------------\u001b[0m",
      "\u001b[1;31mAttributeError\u001b[0m                            Traceback (most recent call last)",
      "\u001b[1;32md:\\Alvaro\\Projects\\GitHub\\qibolab\\examples\\tii\\diagnostics.ipynb Cell 2'\u001b[0m in \u001b[0;36m<cell line: 16>\u001b[1;34m()\u001b[0m\n\u001b[0;32m     <a href='vscode-notebook-cell:/d%3A/Alvaro/Projects/GitHub/qibolab/examples/tii/diagnostics.ipynb#ch0000001?line=13'>14</a>\u001b[0m platform \u001b[39m=\u001b[39m Platform(\u001b[39m'\u001b[39m\u001b[39mmultiqubit\u001b[39m\u001b[39m'\u001b[39m, runcard)\n\u001b[0;32m     <a href='vscode-notebook-cell:/d%3A/Alvaro/Projects/GitHub/qibolab/examples/tii/diagnostics.ipynb#ch0000001?line=14'>15</a>\u001b[0m platform\u001b[39m.\u001b[39mconnect()\n\u001b[1;32m---> <a href='vscode-notebook-cell:/d%3A/Alvaro/Projects/GitHub/qibolab/examples/tii/diagnostics.ipynb#ch0000001?line=15'>16</a>\u001b[0m platform\u001b[39m.\u001b[39;49msetup()\n\u001b[0;32m     <a href='vscode-notebook-cell:/d%3A/Alvaro/Projects/GitHub/qibolab/examples/tii/diagnostics.ipynb#ch0000001?line=17'>18</a>\u001b[0m \u001b[39m# create a diagnostics/calibration object\u001b[39;00m\n\u001b[0;32m     <a href='vscode-notebook-cell:/d%3A/Alvaro/Projects/GitHub/qibolab/examples/tii/diagnostics.ipynb#ch0000001?line=18'>19</a>\u001b[0m ds \u001b[39m=\u001b[39m Diagnostics(platform, diagnostics_settings)\n",
      "File \u001b[1;32md:\\alvaro\\projects\\github\\qibolab\\src\\qibolab\\platforms\\abstract.py:126\u001b[0m, in \u001b[0;36mAbstractPlatform.setup\u001b[1;34m(self)\u001b[0m\n\u001b[0;32m    <a href='file:///d%3A/alvaro/projects/github/qibolab/src/qibolab/platforms/abstract.py?line=122'>123</a>\u001b[0m \u001b[39mif\u001b[39;00m \u001b[39mself\u001b[39m\u001b[39m.\u001b[39mis_connected:\n\u001b[0;32m    <a href='file:///d%3A/alvaro/projects/github/qibolab/src/qibolab/platforms/abstract.py?line=123'>124</a>\u001b[0m     \u001b[39mfor\u001b[39;00m name \u001b[39min\u001b[39;00m \u001b[39mself\u001b[39m\u001b[39m.\u001b[39minstruments:\n\u001b[0;32m    <a href='file:///d%3A/alvaro/projects/github/qibolab/src/qibolab/platforms/abstract.py?line=124'>125</a>\u001b[0m         \u001b[39m# Set up every with the platform settings and the instrument settings \u001b[39;00m\n\u001b[1;32m--> <a href='file:///d%3A/alvaro/projects/github/qibolab/src/qibolab/platforms/abstract.py?line=125'>126</a>\u001b[0m         \u001b[39mself\u001b[39m\u001b[39m.\u001b[39minstruments[name]\u001b[39m.\u001b[39msetup(\u001b[39m*\u001b[39m\u001b[39m*\u001b[39m\u001b[39mself\u001b[39m\u001b[39m.\u001b[39msettings[\u001b[39m'\u001b[39m\u001b[39msettings\u001b[39m\u001b[39m'\u001b[39m], \u001b[39m*\u001b[39m\u001b[39m*\u001b[39m\u001b[39mself\u001b[39m\u001b[39m.\u001b[39msettings[\u001b[39m'\u001b[39m\u001b[39minstruments\u001b[39m\u001b[39m'\u001b[39m][name][\u001b[39m'\u001b[39m\u001b[39msettings\u001b[39m\u001b[39m'\u001b[39m])\n\u001b[0;32m    <a href='file:///d%3A/alvaro/projects/github/qibolab/src/qibolab/platforms/abstract.py?line=127'>128</a>\u001b[0m \u001b[39m# Load Characterization settings\u001b[39;00m\n\u001b[0;32m    <a href='file:///d%3A/alvaro/projects/github/qibolab/src/qibolab/platforms/abstract.py?line=128'>129</a>\u001b[0m \u001b[39mself\u001b[39m\u001b[39m.\u001b[39mcharacterization \u001b[39m=\u001b[39m \u001b[39mself\u001b[39m\u001b[39m.\u001b[39msettings[\u001b[39m'\u001b[39m\u001b[39mcharacterization\u001b[39m\u001b[39m'\u001b[39m]\n",
      "File \u001b[1;32md:\\alvaro\\projects\\github\\qibolab\\src\\qibolab\\instruments\\qblox.py:101\u001b[0m, in \u001b[0;36mQRM.setup\u001b[1;34m(self, **kwargs)\u001b[0m\n\u001b[0;32m     <a href='file:///d%3A/alvaro/projects/github/qibolab/src/qibolab/instruments/qblox.py?line=98'>99</a>\u001b[0m \u001b[39mself\u001b[39m\u001b[39m.\u001b[39mwait_loop_step \u001b[39m=\u001b[39m \u001b[39m1000\u001b[39m\n\u001b[0;32m    <a href='file:///d%3A/alvaro/projects/github/qibolab/src/qibolab/instruments/qblox.py?line=99'>100</a>\u001b[0m \u001b[39mself\u001b[39m\u001b[39m.\u001b[39mwaveform_max_length \u001b[39m=\u001b[39m \u001b[39m16384\u001b[39m\u001b[39m/\u001b[39m\u001b[39m/\u001b[39m\u001b[39m2\u001b[39m \u001b[39m# maximum length of the combination of waveforms, per sequencer, in number of samples (defined by the sequencer memory).\u001b[39;00m\n\u001b[1;32m--> <a href='file:///d%3A/alvaro/projects/github/qibolab/src/qibolab/instruments/qblox.py?line=100'>101</a>\u001b[0m \u001b[39mself\u001b[39m\u001b[39m.\u001b[39mdevice_num_sequencers \u001b[39m=\u001b[39m \u001b[39mself\u001b[39;49m\u001b[39m.\u001b[39;49mdevice\u001b[39m.\u001b[39;49m_num_sequencers\n\u001b[0;32m    <a href='file:///d%3A/alvaro/projects/github/qibolab/src/qibolab/instruments/qblox.py?line=101'>102</a>\u001b[0m \u001b[39mself\u001b[39m\u001b[39m.\u001b[39mdevice_num_ports \u001b[39m=\u001b[39m \u001b[39m1\u001b[39m\n\u001b[0;32m    <a href='file:///d%3A/alvaro/projects/github/qibolab/src/qibolab/instruments/qblox.py?line=102'>103</a>\u001b[0m \u001b[39mif\u001b[39;00m \u001b[39mself\u001b[39m\u001b[39m.\u001b[39mis_connected:\n\u001b[0;32m    <a href='file:///d%3A/alvaro/projects/github/qibolab/src/qibolab/instruments/qblox.py?line=103'>104</a>\u001b[0m     \u001b[39m# Reset\u001b[39;00m\n",
      "File \u001b[1;32mc:\\Users\\Alvaro\\anaconda3\\envs\\test\\lib\\site-packages\\qcodes\\utils\\helpers.py:439\u001b[0m, in \u001b[0;36mDelegateAttributes.__getattr__\u001b[1;34m(self, key)\u001b[0m\n\u001b[0;32m    <a href='file:///c%3A/Users/Alvaro/anaconda3/envs/test/lib/site-packages/qcodes/utils/helpers.py?line=435'>436</a>\u001b[0m     \u001b[39mexcept\u001b[39;00m \u001b[39mAttributeError\u001b[39;00m:\n\u001b[0;32m    <a href='file:///c%3A/Users/Alvaro/anaconda3/envs/test/lib/site-packages/qcodes/utils/helpers.py?line=436'>437</a>\u001b[0m         \u001b[39mpass\u001b[39;00m\n\u001b[1;32m--> <a href='file:///c%3A/Users/Alvaro/anaconda3/envs/test/lib/site-packages/qcodes/utils/helpers.py?line=438'>439</a>\u001b[0m \u001b[39mraise\u001b[39;00m \u001b[39mAttributeError\u001b[39;00m(\n\u001b[0;32m    <a href='file:///c%3A/Users/Alvaro/anaconda3/envs/test/lib/site-packages/qcodes/utils/helpers.py?line=439'>440</a>\u001b[0m     \u001b[39m\"\u001b[39m\u001b[39m'\u001b[39m\u001b[39m{}\u001b[39;00m\u001b[39m'\u001b[39m\u001b[39m object and its delegates have no attribute \u001b[39m\u001b[39m'\u001b[39m\u001b[39m{}\u001b[39;00m\u001b[39m'\u001b[39m\u001b[39m\"\u001b[39m\u001b[39m.\u001b[39mformat(\n\u001b[0;32m    <a href='file:///c%3A/Users/Alvaro/anaconda3/envs/test/lib/site-packages/qcodes/utils/helpers.py?line=440'>441</a>\u001b[0m         \u001b[39mself\u001b[39m\u001b[39m.\u001b[39m\u001b[39m__class__\u001b[39m\u001b[39m.\u001b[39m\u001b[39m__name__\u001b[39m, key))\n",
      "\u001b[1;31mAttributeError\u001b[0m: 'QcmQrm' object and its delegates have no attribute '_num_sequencers'"
     ]
    }
   ],
   "source": [
    "import pathlib\n",
    "import os\n",
    "from qibolab.paths import qibolab_folder\n",
    "from qibolab import Platform\n",
    "from qibolab.calibration import utils\n",
    "from qibolab.calibration.calibration import Calibration as Diagnostics\n",
    "\n",
    "script_folder = pathlib.Path(os.path.abspath(''))\n",
    "diagnostics_settings = script_folder / \"diagnostics.yml\"\n",
    "\n",
    "runcard = qibolab_folder / 'runcards' / 'qw5q.yml' \n",
    "\n",
    "# Create a platform; connect and configure it\n",
    "platform = Platform('multiqubit', runcard)\n",
    "platform.connect()\n",
    "platform.setup()\n",
    "\n",
    "# create a diagnostics/calibration object\n",
    "ds = Diagnostics(platform, diagnostics_settings)\n",
    "\n",
    "qubit = 0\n"
   ]
  },
  {
   "cell_type": "code",
   "execution_count": null,
   "metadata": {},
   "outputs": [],
   "source": [
    "ds.backup_config_file()"
   ]
  },
  {
   "cell_type": "markdown",
   "metadata": {},
   "source": [
    "Resonator Spectroscopy"
   ]
  },
  {
   "cell_type": "code",
   "execution_count": null,
   "metadata": {},
   "outputs": [],
   "source": [
    "\n",
    "resonator_freq, avg_min_voltage, max_ro_voltage, smooth_dataset, dataset = ds.run_resonator_spectroscopy(qubit)"
   ]
  },
  {
   "cell_type": "code",
   "execution_count": null,
   "metadata": {},
   "outputs": [],
   "source": [
    "ds.save_config_parameter(\"resonator_freq\", int(resonator_freq), 'characterization', 'single_qubit', qubit)\n",
    "ds.save_config_parameter(\"resonator_spectroscopy_avg_min_ro_voltage\", float(avg_min_voltage), 'characterization', 'single_qubit', qubit)\n",
    "ds.save_config_parameter(\"resonator_spectroscopy_max_ro_voltage\", float(max_ro_voltage), 'characterization', 'single_qubit', qubit)\n",
    "lo_qrm_frequency = int(resonator_freq - platform.settings['native_gates']['single_qubit'][qubit]['MZ']['frequency'])\n",
    "ds.save_config_parameter(\"frequency\", lo_qrm_frequency, 'instruments', platform.lo_qrm[qubit].name, 'settings')"
   ]
  },
  {
   "cell_type": "markdown",
   "metadata": {},
   "source": [
    "Qubit Spectroscopy"
   ]
  },
  {
   "cell_type": "code",
   "execution_count": null,
   "metadata": {},
   "outputs": [],
   "source": [
    "qubit_freq, min_ro_voltage, smooth_dataset, dataset = ds.run_qubit_spectroscopy(qubit)"
   ]
  },
  {
   "cell_type": "code",
   "execution_count": null,
   "metadata": {},
   "outputs": [],
   "source": [
    "ds.save_config_parameter(\"qubit_freq\", int(qubit_freq), 'characterization', 'single_qubit', qubit)\n",
    "RX_pulse_sequence = platform.settings['native_gates']['single_qubit'][qubit]['RX']['pulse_sequence']\n",
    "lo_qcm_frequency = int(qubit_freq + RX_pulse_sequence[0]['frequency'])\n",
    "ds.save_config_parameter(\"frequency\", lo_qcm_frequency, 'instruments', platform.lo_qcm[qubit].name, 'settings')\n",
    "ds.save_config_parameter(\"qubit_spectroscopy_min_ro_voltage\", float(min_ro_voltage), 'characterization', 'single_qubit', qubit)"
   ]
  },
  {
   "cell_type": "markdown",
   "metadata": {},
   "source": [
    "Rabi Oscillations with varying pulse length"
   ]
  },
  {
   "cell_type": "code",
   "execution_count": null,
   "metadata": {},
   "outputs": [],
   "source": [
    "dataset, pi_pulse_duration, pi_pulse_amplitude, rabi_oscillations_pi_pulse_min_voltage, t1 = ds.run_rabi_pulse_length(qubit)"
   ]
  },
  {
   "cell_type": "code",
   "execution_count": null,
   "metadata": {},
   "outputs": [],
   "source": [
    "RX_pulse_sequence = platform.settings['native_gates']['single_qubit'][qubit]['RX']['pulse_sequence']\n",
    "RX_pulse_sequence[0]['duration'] = int(pi_pulse_duration)\n",
    "RX_pulse_sequence[0]['amplitude'] = float(pi_pulse_amplitude)\n",
    "ds.save_config_parameter(\"pulse_sequence\", RX_pulse_sequence, 'native_gates', 'single_qubit', qubit, 'RX')\n",
    "ds.save_config_parameter(\"rabi_oscillations_pi_pulse_min_voltage\", float(rabi_oscillations_pi_pulse_min_voltage), 'characterization', 'single_qubit', qubit)"
   ]
  },
  {
   "cell_type": "markdown",
   "metadata": {},
   "source": [
    "T1"
   ]
  },
  {
   "cell_type": "code",
   "execution_count": null,
   "metadata": {},
   "outputs": [],
   "source": [
    "t1, smooth_dataset, dataset = ds.run_t1(qubit)"
   ]
  },
  {
   "cell_type": "code",
   "execution_count": null,
   "metadata": {},
   "outputs": [],
   "source": [
    "ds.save_config_parameter(\"T1\", float(t1), 'characterization', 'single_qubit', qubit)"
   ]
  },
  {
   "cell_type": "markdown",
   "metadata": {},
   "source": [
    "Ramsey"
   ]
  },
  {
   "cell_type": "code",
   "execution_count": null,
   "metadata": {},
   "outputs": [],
   "source": [
    "delta_frequency, t2, smooth_dataset, dataset = ds.run_ramsey(qubit)"
   ]
  },
  {
   "cell_type": "code",
   "execution_count": null,
   "metadata": {},
   "outputs": [],
   "source": [
    "adjusted_qubit_freq = int(platform.settings['characterization']['single_qubit'][qubit]['qubit_freq'] + delta_frequency)\n",
    "ds.save_config_parameter(\"qubit_freq\", adjusted_qubit_freq, 'characterization', 'single_qubit', qubit)\n",
    "ds.save_config_parameter(\"T2\", float(t2), 'characterization', 'single_qubit', qubit)\n",
    "RX_pulse_sequence = platform.settings['native_gates']['single_qubit'][qubit]['RX']['pulse_sequence']\n",
    "lo_qcm_frequency = int(adjusted_qubit_freq + RX_pulse_sequence[0]['frequency'])\n",
    "ds.save_config_parameter(\"frequency\", lo_qcm_frequency, 'instruments', platform.lo_qcm[qubit].name, 'settings')\n",
    "print(adjusted_qubit_freq)"
   ]
  },
  {
   "cell_type": "code",
   "execution_count": null,
   "metadata": {},
   "outputs": [],
   "source": [
    "# import yaml\n",
    "# with open(qibolab_folder / \"ramsey_data.yml\" , \"w\") as file:\n",
    "#     settings = yaml.dump(dataset['y0'].values.tolist(), file, sort_keys=False, indent=4)\n",
    "#     file.close()"
   ]
  },
  {
   "cell_type": "code",
   "execution_count": null,
   "metadata": {},
   "outputs": [],
   "source": [
    "import numpy as np\n",
    "import matplotlib.pyplot as plt\n",
    "\n",
    "import pathlib\n",
    "import yaml\n",
    "import os\n",
    "\n",
    "# script_folder = pathlib.Path(os.path.abspath(''))\n",
    "# with open(script_folder / \"ramsey_data.yml\" , \"r\") as file:\n",
    "#     ramsey_samples = yaml.safe_load(file)\n",
    "#     file.close()\n",
    "\n",
    "ramsey_samples = [a + 1j * b for (a, b) in zip(dataset['y2'].values.tolist(), dataset['y3'].values.tolist())]\n",
    "\n",
    "# How many time points are needed i,e., Sampling Frequency\n",
    "samplingFrequency = 1e3 # samples / microsecond\n",
    "\n",
    "# At what intervals time points are sampled\n",
    "samplingInterval = 1 / samplingFrequency # microseconds\n",
    "\n",
    "# Begin time period of the signals\n",
    "beginTime = 4e-3 # microseconds\n",
    "\n",
    "# End time period of the signals\n",
    "endTime  = 400e-3 # microseconds\n",
    "\n",
    "# Time points\n",
    "time = np.arange(beginTime, endTime, samplingInterval)\n",
    "\n",
    "# Create subplot\n",
    "figure, axis = plt.subplots(2, 1)\n",
    "plt.subplots_adjust(hspace=1)\n",
    "\n",
    "# Time domain representation for sine wave 1\n",
    "axis[0].set_title('Ramsey')\n",
    "axis[0].plot(time, [abs(x) for x in ramsey_samples])\n",
    "axis[0].set_xlabel('Time us')\n",
    "axis[0].set_ylabel('Amplitude')\n",
    "\n",
    "amplitude = ramsey_samples\n",
    "\n",
    "# Frequency domain representation\n",
    "fourierTransform = np.fft.fft(amplitude)/len(amplitude)           # Normalize amplitude\n",
    "fourierTransform = fourierTransform[range(int(len(amplitude)/2))] # Exclude sampling frequency\n",
    "\n",
    "tpCount     = len(amplitude)\n",
    "values      = np.arange(int(tpCount/2))\n",
    "timePeriod  = tpCount/samplingFrequency\n",
    "frequencies = values/timePeriod\n",
    "\n",
    "# Frequency domain representation\n",
    "axis[1].set_title('Fourier transform')\n",
    "\n",
    "axis[1].plot(frequencies, abs(fourierTransform))\n",
    "axis[1].set_xlabel('Frequency MHz')\n",
    "axis[1].set_ylabel('Normalised Amplitude')\n",
    "figure.set_size_inches(18.5, 10.5)\n",
    "axis[1].set_xlim(4, 500)\n",
    "axis[1].set_ylim(0, np.max(abs(fourierTransform[1:])))\n",
    "plt.rcParams['figure.dpi'] = 300\n",
    "plt.show()"
   ]
  },
  {
   "cell_type": "markdown",
   "metadata": {},
   "source": [
    "Spin Echo"
   ]
  },
  {
   "cell_type": "code",
   "execution_count": null,
   "metadata": {},
   "outputs": [],
   "source": [
    "dataset = ds.run_spin_echo(qubit)"
   ]
  },
  {
   "cell_type": "code",
   "execution_count": null,
   "metadata": {},
   "outputs": [],
   "source": [
    "#Run Spin Echo 3 Pulses\n",
    "dataset = ds.run_spin_echo_3pulses(qubit)\n",
    "#TODO: The result of the plot does not match with the expected result\n",
    "#        it should result in state |0> and it seems to give state |1>"
   ]
  },
  {
   "cell_type": "markdown",
   "metadata": {},
   "source": [
    "Qubit states classification"
   ]
  },
  {
   "cell_type": "code",
   "execution_count": null,
   "metadata": {},
   "outputs": [],
   "source": [
    "all_gnd_states, mean_gnd_states, all_exc_states, mean_exc_states = ds.calibrate_qubit_states(qubit)"
   ]
  },
  {
   "cell_type": "code",
   "execution_count": null,
   "metadata": {},
   "outputs": [],
   "source": [
    "utils.plot_qubit_states(all_gnd_states, all_exc_states)\n",
    "\n",
    "#Classify all points into 0 and 1\n",
    "classified_gnd_results = []\n",
    "for point in all_gnd_states: \n",
    "    classified_gnd_results.append(utils.classify(point, mean_gnd_states, mean_exc_states))\n",
    "\n",
    "classified_exc_results = []\n",
    "for point in all_exc_states:\n",
    "    classified_exc_results.append(utils.classify(point, mean_gnd_states, mean_exc_states))\n",
    "\n",
    "print(classified_gnd_results)\n",
    "print(classified_exc_results)"
   ]
  },
  {
   "cell_type": "markdown",
   "metadata": {},
   "source": [
    "allXY"
   ]
  },
  {
   "cell_type": "code",
   "execution_count": null,
   "metadata": {},
   "outputs": [],
   "source": [
    "results, gateNumber = ds.allXY(qubit)\n",
    "print(results)"
   ]
  },
  {
   "cell_type": "code",
   "execution_count": null,
   "metadata": {},
   "outputs": [],
   "source": [
    "import matplotlib.pyplot as plt\n",
    "\n",
    "plt.scatter(results, gateNumber)\n",
    "plt.ylabel('Z projection probability of qubit state |o>')\n",
    "plt.show()\n",
    "\n",
    "plt.plot(results)\n",
    "plt.ylabel('Z projection probability of qubit state |o>')\n",
    "plt.show()"
   ]
  },
  {
   "cell_type": "markdown",
   "metadata": {},
   "source": [
    "Ramsey freq"
   ]
  },
  {
   "cell_type": "code",
   "execution_count": null,
   "metadata": {},
   "outputs": [],
   "source": [
    "t2, last_delta_phys, smooth_dataset, dataset = ds.run_ramsey_freq(qubit)"
   ]
  },
  {
   "cell_type": "markdown",
   "metadata": {},
   "source": [
    "RO Matrix"
   ]
  },
  {
   "cell_type": "code",
   "execution_count": null,
   "metadata": {},
   "outputs": [],
   "source": [
    "ro_matrix = ds.run_RO_matrix()\n",
    "print(ro_matrix)"
   ]
  }
 ],
 "metadata": {
  "kernelspec": {
   "display_name": "Python 3.9.7 ('Quantum')",
   "language": "python",
   "name": "python3"
  },
  "language_info": {
   "codemirror_mode": {
    "name": "ipython",
    "version": 3
   },
   "file_extension": ".py",
   "mimetype": "text/x-python",
   "name": "python",
   "nbconvert_exporter": "python",
   "pygments_lexer": "ipython3",
   "version": "3.9.7"
  },
  "orig_nbformat": 4,
  "vscode": {
   "interpreter": {
    "hash": "264d772aef88ad2f461017a6669e6044f8b4c27c8a28eb05b459898d94930f39"
   }
  }
 },
 "nbformat": 4,
 "nbformat_minor": 2
}
