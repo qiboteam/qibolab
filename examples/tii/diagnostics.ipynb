{
 "cells": [
  {
   "cell_type": "code",
   "execution_count": null,
   "metadata": {},
   "outputs": [],
   "source": [
    "# Characterisation can be done by changing settings to qibolab/runcards/tiiq.yml and diagnostics.yml\n",
    "# These scripts do not save the characterisation results on the runcard; to do so use \n",
    "#   ds.backup_config_file()\n",
    "#   resonator_freq, avg_min_voltage, max_ro_voltage, smooth_dataset, dataset = ds.run_resonator_spectroscopy()\n",
    "#   ds.save_config_parameter('resonator_freq', resonator_freq, 'characterization', 'single_qubit', qubit)"
   ]
  },
  {
   "cell_type": "code",
   "execution_count": null,
   "metadata": {},
   "outputs": [],
   "source": [
    "import pathlib\n",
    "import os\n",
    "from qibolab.paths import qibolab_folder\n",
    "from qibolab import Platform\n",
    "from qibolab.calibration import utils\n",
    "from qibolab.calibration.calibration import Calibration as Diagnostics\n",
    "\n",
    "script_folder = pathlib.Path(os.path.abspath(''))\n",
    "diagnostics_settings = script_folder / \"diagnostics.yml\"\n",
    "\n",
    "# Create a platform; connect and configure it\n",
    "platform = Platform('tiiq')\n",
    "platform.connect()\n",
    "platform.setup()\n",
    "\n",
    "# create a diagnostics/calibration object\n",
    "ds = Diagnostics(platform, diagnostics_settings)\n",
    "\n",
    "qubit = 0\n"
   ]
  },
  {
   "cell_type": "code",
   "execution_count": null,
   "metadata": {},
   "outputs": [],
   "source": [
    "ds.backup_config_file()"
   ]
  },
  {
   "cell_type": "markdown",
   "metadata": {},
   "source": [
    "Resonator Spectroscopy"
   ]
  },
  {
   "cell_type": "code",
   "execution_count": null,
   "metadata": {},
   "outputs": [],
   "source": [
    "\n",
    "resonator_freq, avg_min_voltage, max_ro_voltage, smooth_dataset, dataset = ds.run_resonator_spectroscopy(qubit)"
   ]
  },
  {
   "cell_type": "code",
   "execution_count": null,
   "metadata": {},
   "outputs": [],
   "source": [
    "ds.save_config_parameter(\"resonator_freq\", int(resonator_freq), 'characterization', 'single_qubit', qubit)\n",
    "ds.save_config_parameter(\"resonator_spectroscopy_avg_min_ro_voltage\", float(avg_min_voltage), 'characterization', 'single_qubit', qubit)\n",
    "ds.save_config_parameter(\"resonator_spectroscopy_max_ro_voltage\", float(max_ro_voltage), 'characterization', 'single_qubit', qubit)\n",
    "lo_qrm_frequency = int(resonator_freq - platform.settings['native_gates']['single_qubit'][qubit]['MZ']['frequency'])\n",
    "ds.save_config_parameter(\"frequency\", lo_qrm_frequency, 'instruments', platform.lo_qrm[qubit].name, 'settings')"
   ]
  },
  {
   "cell_type": "markdown",
   "metadata": {},
   "source": [
    "Qubit Spectroscopy"
   ]
  },
  {
   "cell_type": "code",
   "execution_count": null,
   "metadata": {},
   "outputs": [],
   "source": [
    "qubit_freq, min_ro_voltage, smooth_dataset, dataset = ds.run_qubit_spectroscopy(qubit)"
   ]
  },
  {
   "cell_type": "code",
   "execution_count": null,
   "metadata": {},
   "outputs": [],
   "source": [
    "ds.save_config_parameter(\"qubit_freq\", int(qubit_freq), 'characterization', 'single_qubit', qubit)\n",
    "RX_pulse_sequence = platform.settings['native_gates']['single_qubit'][qubit]['RX']['pulse_sequence']\n",
    "lo_qcm_frequency = int(qubit_freq + RX_pulse_sequence[0]['frequency'])\n",
    "ds.save_config_parameter(\"frequency\", lo_qcm_frequency, 'instruments', platform.lo_qcm[qubit].name, 'settings')\n",
    "ds.save_config_parameter(\"qubit_spectroscopy_min_ro_voltage\", float(min_ro_voltage), 'characterization', 'single_qubit', qubit)"
   ]
  },
  {
   "cell_type": "markdown",
   "metadata": {},
   "source": [
    "Rabi Oscillations with varying pulse length"
   ]
  },
  {
   "cell_type": "code",
   "execution_count": null,
   "metadata": {},
   "outputs": [],
   "source": [
    "dataset, pi_pulse_duration, pi_pulse_amplitude, rabi_oscillations_pi_pulse_min_voltage, t1 = ds.run_rabi_pulse_length(qubit)"
   ]
  },
  {
   "cell_type": "code",
   "execution_count": null,
   "metadata": {},
   "outputs": [],
   "source": [
    "RX_pulse_sequence = platform.settings['native_gates']['single_qubit'][qubit]['RX']['pulse_sequence']\n",
    "RX_pulse_sequence[0]['duration'] = int(pi_pulse_duration)\n",
    "RX_pulse_sequence[0]['amplitude'] = float(pi_pulse_amplitude)\n",
    "ds.save_config_parameter(\"pulse_sequence\", RX_pulse_sequence, 'native_gates', 'single_qubit', qubit, 'RX')\n",
    "ds.save_config_parameter(\"rabi_oscillations_pi_pulse_min_voltage\", float(rabi_oscillations_pi_pulse_min_voltage), 'characterization', 'single_qubit', qubit)"
   ]
  },
  {
   "cell_type": "markdown",
   "metadata": {},
   "source": [
    "T1"
   ]
  },
  {
   "cell_type": "code",
   "execution_count": null,
   "metadata": {},
   "outputs": [],
   "source": [
    "t1, smooth_dataset, dataset = ds.run_t1(qubit)"
   ]
  },
  {
   "cell_type": "code",
   "execution_count": null,
   "metadata": {},
   "outputs": [],
   "source": [
    "ds.save_config_parameter(\"T1\", float(t1), 'characterization', 'single_qubit', qubit)"
   ]
  },
  {
   "cell_type": "markdown",
   "metadata": {},
   "source": [
    "Ramsey"
   ]
  },
  {
   "cell_type": "code",
   "execution_count": null,
   "metadata": {},
   "outputs": [],
   "source": [
    "delta_frequency, t2, smooth_dataset, dataset = ds.run_ramsey(qubit)"
   ]
  },
  {
   "cell_type": "code",
   "execution_count": null,
   "metadata": {},
   "outputs": [],
   "source": [
    "adjusted_qubit_freq = int(platform.settings['characterization']['single_qubit'][qubit]['qubit_freq'] + delta_frequency)\n",
    "ds.save_config_parameter(\"qubit_freq\", adjusted_qubit_freq, 'characterization', 'single_qubit', qubit)\n",
    "ds.save_config_parameter(\"T2\", float(t2), 'characterization', 'single_qubit', qubit)\n",
    "RX_pulse_sequence = platform.settings['native_gates']['single_qubit'][qubit]['RX']['pulse_sequence']\n",
    "lo_qcm_frequency = int(adjusted_qubit_freq + RX_pulse_sequence[0]['frequency'])\n",
    "ds.save_config_parameter(\"frequency\", lo_qcm_frequency, 'instruments', platform.lo_qcm[qubit].name, 'settings')\n",
    "print(adjusted_qubit_freq)"
   ]
  },
  {
   "cell_type": "code",
   "execution_count": null,
   "metadata": {},
   "outputs": [],
   "source": [
    "# import yaml\n",
    "# with open(qibolab_folder / \"ramsey_data.yml\" , \"w\") as file:\n",
    "#     settings = yaml.dump(dataset['y0'].values.tolist(), file, sort_keys=False, indent=4)\n",
    "#     file.close()"
   ]
  },
  {
   "cell_type": "code",
   "execution_count": null,
   "metadata": {},
   "outputs": [],
   "source": [
    "import numpy as np\n",
    "import matplotlib.pyplot as plt\n",
    "\n",
    "import pathlib\n",
    "import yaml\n",
    "import os\n",
    "\n",
    "# script_folder = pathlib.Path(os.path.abspath(''))\n",
    "# with open(script_folder / \"ramsey_data.yml\" , \"r\") as file:\n",
    "#     ramsey_samples = yaml.safe_load(file)\n",
    "#     file.close()\n",
    "\n",
    "ramsey_samples = [a + 1j * b for (a, b) in zip(dataset['y2'].values.tolist(), dataset['y3'].values.tolist())]\n",
    "\n",
    "# How many time points are needed i,e., Sampling Frequency\n",
    "samplingFrequency = 1e3 # samples / microsecond\n",
    "\n",
    "# At what intervals time points are sampled\n",
    "samplingInterval = 1 / samplingFrequency # microseconds\n",
    "\n",
    "# Begin time period of the signals\n",
    "beginTime = 4e-3 # microseconds\n",
    "\n",
    "# End time period of the signals\n",
    "endTime  = 400e-3 # microseconds\n",
    "\n",
    "# Time points\n",
    "time = np.arange(beginTime, endTime, samplingInterval)\n",
    "\n",
    "# Create subplot\n",
    "figure, axis = plt.subplots(2, 1)\n",
    "plt.subplots_adjust(hspace=1)\n",
    "\n",
    "# Time domain representation for sine wave 1\n",
    "axis[0].set_title('Ramsey')\n",
    "axis[0].plot(time, [abs(x) for x in ramsey_samples])\n",
    "axis[0].set_xlabel('Time us')\n",
    "axis[0].set_ylabel('Amplitude')\n",
    "\n",
    "amplitude = ramsey_samples\n",
    "\n",
    "# Frequency domain representation\n",
    "fourierTransform = np.fft.fft(amplitude)/len(amplitude)           # Normalize amplitude\n",
    "fourierTransform = fourierTransform[range(int(len(amplitude)/2))] # Exclude sampling frequency\n",
    "\n",
    "tpCount     = len(amplitude)\n",
    "values      = np.arange(int(tpCount/2))\n",
    "timePeriod  = tpCount/samplingFrequency\n",
    "frequencies = values/timePeriod\n",
    "\n",
    "# Frequency domain representation\n",
    "axis[1].set_title('Fourier transform')\n",
    "\n",
    "axis[1].plot(frequencies, abs(fourierTransform))\n",
    "axis[1].set_xlabel('Frequency MHz')\n",
    "axis[1].set_ylabel('Normalised Amplitude')\n",
    "figure.set_size_inches(18.5, 10.5)\n",
    "axis[1].set_xlim(4, 500)\n",
    "axis[1].set_ylim(0, np.max(abs(fourierTransform[1:])))\n",
    "plt.rcParams['figure.dpi'] = 300\n",
    "plt.show()"
   ]
  },
  {
   "cell_type": "markdown",
   "metadata": {},
   "source": [
    "Spin Echo"
   ]
  },
  {
   "cell_type": "code",
   "execution_count": null,
   "metadata": {},
   "outputs": [],
   "source": [
    "dataset = ds.run_spin_echo(qubit)"
   ]
  },
  {
   "cell_type": "code",
   "execution_count": null,
   "metadata": {},
   "outputs": [],
   "source": [
    "#Run Spin Echo 3 Pulses\n",
    "dataset = ds.run_spin_echo_3pulses(qubit)\n",
    "#TODO: The result of the plot does not match with the expected result\n",
    "#        it should result in state |0> and it seems to give state |1>"
   ]
  },
  {
   "cell_type": "markdown",
   "metadata": {},
   "source": [
    "Qubit states classification"
   ]
  },
  {
   "cell_type": "code",
   "execution_count": null,
   "metadata": {},
   "outputs": [],
   "source": [
    "all_gnd_states, mean_gnd_states, all_exc_states, mean_exc_states = ds.calibrate_qubit_states(qubit)"
   ]
  },
  {
   "cell_type": "code",
   "execution_count": null,
   "metadata": {},
   "outputs": [],
   "source": [
    "utils.plot_qubit_states(all_gnd_states, all_exc_states)\n",
    "\n",
    "#Classify all points into 0 and 1\n",
    "classified_gnd_results = []\n",
    "for point in all_gnd_states: \n",
    "    classified_gnd_results.append(utils.classify(point, mean_gnd_states, mean_exc_states))\n",
    "\n",
    "classified_exc_results = []\n",
    "for point in all_exc_states:\n",
    "    classified_exc_results.append(utils.classify(point, mean_gnd_states, mean_exc_states))\n",
    "\n",
    "print(classified_gnd_results)\n",
    "print(classified_exc_results)"
   ]
  },
  {
   "cell_type": "markdown",
   "metadata": {},
   "source": [
    "allXY"
   ]
  },
  {
   "cell_type": "code",
   "execution_count": null,
   "metadata": {},
   "outputs": [],
   "source": [
    "results, gateNumber = ds.allXY(qubit)\n",
    "print(results)"
   ]
  },
  {
   "cell_type": "code",
   "execution_count": null,
   "metadata": {},
   "outputs": [],
   "source": [
    "import matplotlib.pyplot as plt\n",
    "\n",
    "plt.scatter(results, gateNumber)\n",
    "plt.ylabel('Z projection probability of qubit state |o>')\n",
    "plt.show()\n",
    "\n",
    "plt.plot(results)\n",
    "plt.ylabel('Z projection probability of qubit state |o>')\n",
    "plt.show()"
   ]
  },
  {
   "cell_type": "markdown",
   "metadata": {},
   "source": [
    "Ramsey freq"
   ]
  },
  {
   "cell_type": "code",
   "execution_count": null,
   "metadata": {},
   "outputs": [],
   "source": [
    "t2, last_delta_phys, smooth_dataset, dataset = ds.run_ramsey_freq(qubit)"
   ]
  }
 ],
 "metadata": {
  "interpreter": {
   "hash": "264d772aef88ad2f461017a6669e6044f8b4c27c8a28eb05b459898d94930f39"
  },
  "kernelspec": {
   "display_name": "Python 3.9.7 ('Quantum')",
   "language": "python",
   "name": "python3"
  },
  "language_info": {
   "codemirror_mode": {
    "name": "ipython",
    "version": 3
   },
   "file_extension": ".py",
   "mimetype": "text/x-python",
   "name": "python",
   "nbconvert_exporter": "python",
   "pygments_lexer": "ipython3",
   "version": "3.9.7"
  },
  "orig_nbformat": 4
 },
 "nbformat": 4,
 "nbformat_minor": 2
}
