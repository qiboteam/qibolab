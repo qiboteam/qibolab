{
 "cells": [
  {
   "cell_type": "markdown",
   "metadata": {},
   "source": [
    "allXY with qibo gates (simulation and qpu)"
   ]
  },
  {
   "cell_type": "code",
   "execution_count": null,
   "metadata": {},
   "outputs": [],
   "source": [
    "from qibo.models import Circuit\n",
    "from qibo import gates\n",
    "import qibo\n",
    "import numpy as np\n",
    "import matplotlib.pyplot as plt\n",
    "qibo.__version__"
   ]
  },
  {
   "cell_type": "code",
   "execution_count": null,
   "metadata": {},
   "outputs": [],
   "source": [
    "qibo.set_backend(\"qibolab\")\n",
    "# qibo.set_backend(\"numpy\") #Simulation allXY"
   ]
  },
  {
   "cell_type": "code",
   "execution_count": null,
   "metadata": {},
   "outputs": [],
   "source": [
    "#allXY rotations\n",
    "gatelist = [\n",
    "            [gates.I(0), gates.I(0)], \n",
    "            [gates.RX(0, np.pi), gates.RX(0, np.pi)],\n",
    "            [gates.RY(0, np.pi), gates.RY(0, np.pi)],    \n",
    "            [gates.RX(0, np.pi), gates.RY(0, np.pi)],        \n",
    "            [gates.RY(0, np.pi), gates.RX(0, np.pi)],        \n",
    "            [gates.RX(0, np.pi/2), gates.I(0)],        \n",
    "            [gates.RY(0, np.pi/2), gates.I(0)],            \n",
    "            [gates.RX(0, np.pi/2), gates.RY(0, np.pi/2)],            \n",
    "            [gates.RX(0, np.pi/2), gates.RY(0, np.pi/2)],                \n",
    "            [gates.RX(0, np.pi/2), gates.RY(0, np.pi)],                \n",
    "            [gates.RY(0, np.pi/2), gates.RX(0, np.pi)],                \n",
    "            [gates.RX(0, np.pi), gates.RY(0, np.pi/2)],                \n",
    "            [gates.RY(0, np.pi), gates.RX(0, np.pi/2)],                \n",
    "            [gates.RX(0, np.pi/2), gates.RX(0, np.pi)],                            \n",
    "            [gates.RX(0, np.pi), gates.RX(0, np.pi/2)],                \n",
    "            [gates.RY(0, np.pi/2), gates.RY(0, np.pi)],                \n",
    "            [gates.RY(0, np.pi), gates.RY(0, np.pi/2)],                \n",
    "            [gates.RX(0, np.pi), gates.I(0)],  \n",
    "            [gates.RY(0, np.pi), gates.I(0)],                \n",
    "            [gates.RX(0, np.pi/2), gates.RX(0, np.pi/2)],                \n",
    "            [gates.RY(0, np.pi/2), gates.RY(0, np.pi/2)]                \n",
    "           ]"
   ]
  },
  {
   "cell_type": "code",
   "execution_count": null,
   "metadata": {},
   "outputs": [],
   "source": [
    "results = []\n",
    "gateNumber = []\n",
    "n = 0 \n",
    "# wait_time= 0.0000109 * 3 #T1 x 2\n",
    "for gate in gatelist:\n",
    "    # time.sleep(wait_time)\n",
    "    c = Circuit(1)\n",
    "    c.add(gate)\n",
    "    c.add(gates.M(0))\n",
    "    print(\"Applaying gate pair number: \" + str(n))\n",
    "    #probabilitat resultant mesura qubit[#0] = [probabilitat de qubit a 0 , probabilitat qubit 1]\n",
    "    prob = c(nshots=1024).probabilities([0])\n",
    "    #prob = list(list(prob.values())[0].values())[0]\n",
    "    results.append(prob[0]-prob[1])\n",
    "    gateNumber.append(n)\n",
    "    n=n+1\n",
    "\n",
    "#results contain Z projection of the probability of the qubit being 0 \n",
    "print(results)"
   ]
  },
  {
   "cell_type": "code",
   "execution_count": null,
   "metadata": {},
   "outputs": [],
   "source": [
    "plt.scatter(results, gateNumber)\n",
    "plt.ylabel('Z projection probability of qubit state |o>')\n",
    "plt.show()\n",
    "\n",
    "plt.plot(results)\n",
    "plt.ylabel('Z projection probability of qubit state |o>')\n",
    "plt.show()"
   ]
  },
  {
   "cell_type": "code",
   "execution_count": null,
   "metadata": {},
   "outputs": [],
   "source": []
  }
 ],
 "metadata": {
  "interpreter": {
   "hash": "264d772aef88ad2f461017a6669e6044f8b4c27c8a28eb05b459898d94930f39"
  },
  "kernelspec": {
   "display_name": "Python 3.9.7 ('Quantum')",
   "language": "python",
   "name": "python3"
  },
  "language_info": {
   "codemirror_mode": {
    "name": "ipython",
    "version": 3
   },
   "file_extension": ".py",
   "mimetype": "text/x-python",
   "name": "python",
   "nbconvert_exporter": "python",
   "pygments_lexer": "ipython3",
   "version": "3.9.7"
  },
  "orig_nbformat": 4
 },
 "nbformat": 4,
 "nbformat_minor": 2
}
