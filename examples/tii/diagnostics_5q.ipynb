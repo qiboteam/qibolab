{
 "cells": [
  {
   "cell_type": "code",
   "execution_count": null,
   "metadata": {},
   "outputs": [],
   "source": [
    "# Characterisation can be done by changing settings to qibolab/runcards/tiiq.yml and diagnostics.yml\n",
    "# These scripts do not save the characterisation results on the runcard; to do so use \n",
    "#   ds.backup_config_file()\n",
    "#   resonator_freq, avg_min_voltage, max_ro_voltage, smooth_dataset, dataset = ds.run_resonator_spectroscopy()\n",
    "#   ds.save_config_parameter('resonator_freq', resonator_freq, 'characterization', 'single_qubit', qubit)\n",
    "import pathlib\n",
    "import os\n",
    "from qibolab.paths import qibolab_folder\n",
    "from qibolab import Platform\n",
    "from qibolab.calibration import utils\n",
    "# from qibolab.calibration.calibration import Calibration as Diagnostics\n",
    "\n",
    "script_folder = pathlib.Path(os.path.abspath(''))\n",
    "# diagnostics_settings = script_folder / 'examples' / 'tii' / \"diagnostics.yml\"\n",
    "diagnostics_settings = script_folder / \"diagnostics.yml\"\n",
    "runcard = qibolab_folder / 'runcards' / 'qw5q.yml' \n",
    "\n",
    "# Create a platform; connect and configure it\n",
    "platform = Platform('multiqubit', runcard)\n",
    "platform.connect()\n",
    "platform.setup()\n",
    "\n",
    "import pathlib\n",
    "from scipy.signal import savgol_filter\n",
    "from qibolab.paths import qibolab_folder\n",
    "import numpy as np\n",
    "import matplotlib.pyplot as plt\n",
    "import yaml\n",
    "\n",
    "from quantify_core.measurement import MeasurementControl\n",
    "from quantify_core.measurement.control import Gettable, Settable\n",
    "from quantify_core.data.handling import set_datadir\n",
    "\n",
    "from qibolab import Platform\n",
    "from qibolab.paths import qibolab_folder\n",
    "from qibolab.calibration import utils\n",
    "from qibolab.calibration import fitting\n",
    "from qibolab.pulses import Pulse, ReadoutPulse, Rectangular, Gaussian, Drag\n",
    "from qibolab.circuit import PulseSequence\n",
    "\n",
    "\n",
    "class Diagnostics():\n",
    "\n",
    "    def __init__(self, platform: Platform, settings_file = None,  show_plots=True):\n",
    "        self.platform = platform\n",
    "        if not settings_file:\n",
    "            script_folder = pathlib.Path(__file__).parent\n",
    "            settings_file = script_folder / \"diagnostics.yml\"\n",
    "        self.settings_file = settings_file\n",
    "        # TODO: Set mc plotting to false when auto calibrates (default = True for diagnostics)\n",
    "        self.mc, self.pl, self.ins = utils.create_measurement_control('Calibration', show_plots)\n",
    "\n",
    "    def load_settings(self):\n",
    "        # Load calibration settings\n",
    "        with open(self.settings_file, \"r\") as file:\n",
    "            self.settings = yaml.safe_load(file)\n",
    "            self.software_averages = self.settings['software_averages']\n",
    "            self.software_averages_precision = self.settings['software_averages_precision']\n",
    "            self.max_num_plots = self.settings['max_num_plots']\n",
    "\n",
    "    def reload_settings(self):\n",
    "        self.load_settings()\n",
    "\n",
    "    #--------------------------#\n",
    "    # Single qubit experiments #\n",
    "    #--------------------------#\n",
    "\n",
    "    def run_resonator_spectroscopy(self, qubit=0):\n",
    "        platform = self.platform\n",
    "        platform.reload_settings()\n",
    "        mc = self.mc\n",
    "\n",
    "        sequence = PulseSequence()\n",
    "        ro_pulse = platform.qubit_readout_pulse(qubit, start = 0)\n",
    "        sequence.add(ro_pulse)\n",
    "\n",
    "        self.reload_settings()\n",
    "        self.lowres_width = self.settings['resonator_spectroscopy']['lowres_width']\n",
    "        self.lowres_step = self.settings['resonator_spectroscopy']['lowres_step']\n",
    "        self.highres_width = self.settings['resonator_spectroscopy']['highres_width']\n",
    "        self.highres_step = self.settings['resonator_spectroscopy']['highres_step']\n",
    "        self.precision_width = self.settings['resonator_spectroscopy']['precision_width']\n",
    "        self.precision_step = self.settings['resonator_spectroscopy']['precision_step']\n",
    "\n",
    "        self.pl.tuids_max_num(self.max_num_plots)\n",
    "        platform.qrm[qubit].lo.frequency = platform.characterization['single_qubit'][qubit]['resonator_freq'] - ro_pulse.frequency\n",
    "        #Fast Sweep\n",
    "        if (self.software_averages !=0):\n",
    "            scanrange = utils.variable_resolution_scanrange(self.lowres_width, self.lowres_step, self.highres_width, self.highres_step)\n",
    "            mc.settables(platform.qrm[qubit].lo.settable_frequency)\n",
    "            mc.setpoints(scanrange + platform.qrm[qubit].lo.frequency)\n",
    "            mc.gettables(Gettable(ROController(platform, sequence, qubit)))\n",
    "            platform.start() \n",
    "            dataset = mc.run(\"Resonator Spectroscopy Fast\", soft_avg=self.software_averages)\n",
    "            platform.stop()\n",
    "            platform.qrm[qubit].lo.frequency = dataset['x0'].values[dataset['y0'].argmin().values]\n",
    "            avg_max_voltage = np.mean(dataset['y0'].values[:(self.lowres_width//self.lowres_step)]) * 1e6\n",
    "\n",
    "        # Precision Sweep\n",
    "        if (self.software_averages_precision !=0):\n",
    "            scanrange = np.arange(-self.precision_width, self.precision_width, self.precision_step)\n",
    "            mc.settables(platform.qrm[qubit].lo.settable_frequency)\n",
    "            mc.setpoints(scanrange + platform.qrm[qubit].lo.frequency)\n",
    "            mc.gettables(Gettable(ROController(platform, sequence, qubit)))\n",
    "            platform.start()\n",
    "            dataset = mc.run(\"Resonator Spectroscopy Precision\", soft_avg=self.software_averages_precision)\n",
    "            platform.stop()\n",
    "\n",
    "        # Fitting\n",
    "        smooth_dataset = savgol_filter(dataset['y0'].values, 25, 2)\n",
    "        # resonator_freq = dataset['x0'].values[smooth_dataset.argmax()] + ro_pulse.frequency\n",
    "        min_ro_voltage = smooth_dataset.min() * 1e6\n",
    "\n",
    "        f0, BW, Q = fitting.lorentzian_fit(\"last\", min, \"Resonator_spectroscopy\")\n",
    "        resonator_freq = (f0*1e9 + ro_pulse.frequency)\n",
    "\n",
    "        print(f\"\\nResonator Frequency = {resonator_freq}\")\n",
    "        return resonator_freq, avg_max_voltage, min_ro_voltage, smooth_dataset, dataset\n",
    "        \n",
    "class ROController():\n",
    "    # Quantify Gettable Interface Implementation\n",
    "    label = ['Amplitude', 'Phase','I','Q']\n",
    "    unit = ['V', 'Radians','V','V']\n",
    "    name = ['A', 'Phi','I','Q']\n",
    "\n",
    "    def __init__(self, platform, sequence, qubit):\n",
    "        self.platform = platform\n",
    "        self.sequence = sequence\n",
    "        self.qubit = qubit\n",
    "\n",
    "    def get(self):\n",
    "        results = self.platform.execute_pulse_sequence(self.sequence)\n",
    "        return list(list(results.values())[0].values())[0] #TODO: Replace with the particular acquisition\n"
   ]
  },
  {
   "cell_type": "code",
   "execution_count": null,
   "metadata": {},
   "outputs": [],
   "source": [
    "\n",
    "\n",
    "# create a diagnostics/calibration object\n",
    "ds = Diagnostics(platform, diagnostics_settings)\n",
    "\n",
    "qubit = 0\n"
   ]
  },
  {
   "cell_type": "code",
   "execution_count": null,
   "metadata": {},
   "outputs": [],
   "source": [
    "\n",
    "for qubit in range(5):\n",
    "    resonator_freq, avg_min_voltage, max_ro_voltage, smooth_dataset, dataset = ds.run_resonator_spectroscopy(qubit)\n"
   ]
  },
  {
   "cell_type": "code",
   "execution_count": 4,
   "metadata": {},
   "outputs": [
    {
     "name": "stderr",
     "output_type": "stream",
     "text": [
      "S4g module 3: current 0.000000 mA too low for set span,current set to min value: 0.000000 mA\n",
      "S4g module 3: current 0.000000 mA too low for set span,current set to min value: 0.000000 mA\n",
      "S4g module 3: current 0.000000 mA too low for set span,current set to min value: 0.000000 mA\n",
      "S4g module 3: current 0.000000 mA too low for set span,current set to min value: 0.000000 mA\n",
      "S4g module 3: current 0.000000 mA too low for set span,current set to min value: 0.000000 mA\n"
     ]
    },
    {
     "name": "stdout",
     "output_type": "stream",
     "text": [
      "Current too low for set span, DAC set to min value\n",
      "Current too low for set span, DAC set to min value\n",
      "Current too low for set span, DAC set to min value\n",
      "Current too low for set span, DAC set to min value\n",
      "Current too low for set span, DAC set to min value\n",
      "Starting iterative measurement...\n",
      " 98% completed | elapsed time:     92s | time left:      1s  "
     ]
    },
    {
     "name": "stderr",
     "output_type": "stream",
     "text": [
      "S4g module 3: current 0.000000 mA too low for set span,current set to min value: 0.000000 mA\n",
      "S4g module 3: current 0.000000 mA too low for set span,current set to min value: 0.000000 mA\n",
      "S4g module 3: current 0.000000 mA too low for set span,current set to min value: 0.000000 mA\n",
      "S4g module 3: current 0.000000 mA too low for set span,current set to min value: 0.000000 mA\n",
      "S4g module 3: current 0.000000 mA too low for set span,current set to min value: 0.000000 mA\n"
     ]
    },
    {
     "name": "stdout",
     "output_type": "stream",
     "text": [
      "100% completed | elapsed time:     93s | time left:      0s  \n",
      "100% completed | elapsed time:     93s | time left:      0s  Current too low for set span, DAC set to min value\n",
      "Current too low for set span, DAC set to min value\n",
      "Current too low for set span, DAC set to min value\n",
      "Current too low for set span, DAC set to min value\n",
      "Current too low for set span, DAC set to min value\n",
      "Starting iterative measurement...\n",
      " 97% completed | elapsed time:     22s | time left:      0s  "
     ]
    },
    {
     "name": "stderr",
     "output_type": "stream",
     "text": [
      "S4g module 3: current 0.000000 mA too low for set span,current set to min value: 0.000000 mA\n",
      "S4g module 3: current 0.000000 mA too low for set span,current set to min value: 0.000000 mA\n",
      "S4g module 3: current 0.000000 mA too low for set span,current set to min value: 0.000000 mA\n",
      "S4g module 3: current 0.000000 mA too low for set span,current set to min value: 0.000000 mA\n"
     ]
    },
    {
     "name": "stdout",
     "output_type": "stream",
     "text": [
      "100% completed | elapsed time:     22s | time left:      0s  \n",
      "100% completed | elapsed time:     22s | time left:      0s  Current too low for set span, DAC set to min value\n",
      "Current too low for set span, DAC set to min value\n",
      "Current too low for set span, DAC set to min value\n",
      "Current too low for set span, DAC set to min value\n"
     ]
    },
    {
     "data": {
      "image/png": "[encoded data removed]",
      "text/plain": [
       "<Figure size 432x288 with 1 Axes>"
      ]
     },
     "metadata": {
      "needs_background": "light"
     },
     "output_type": "display_data"
    },
    {
     "data": {
      "image/png": "[encoded data removed]",
      "text/plain": [
       "<Figure size 576x216 with 1 Axes>"
      ]
     },
     "metadata": {
      "needs_background": "light"
     },
     "output_type": "display_data"
    },
    {
     "name": "stdout",
     "output_type": "stream",
     "text": [
      "\n",
      "Resonator Frequency = 6937470000.0\n"
     ]
    }
   ],
   "source": [
    "qubit = 0\n",
    "resonator_freq, avg_min_voltage, max_ro_voltage, smooth_dataset, dataset = ds.run_resonator_spectroscopy(qubit)"
   ]
  },
  {
   "cell_type": "code",
   "execution_count": null,
   "metadata": {},
   "outputs": [],
   "source": []
  }
 ],
 "metadata": {
  "interpreter": {
   "hash": "0acc232407913a85a8e36c1b48b5b6b0c94380109130de4597d92602ae920eeb"
  },
  "kernelspec": {
   "display_name": "Python 3.9.12 ('qw5q')",
   "language": "python",
   "name": "python3"
  },
  "language_info": {
   "codemirror_mode": {
    "name": "ipython",
    "version": 3
   },
   "file_extension": ".py",
   "mimetype": "text/x-python",
   "name": "python",
   "nbconvert_exporter": "python",
   "pygments_lexer": "ipython3",
   "version": "3.9.12"
  },
  "orig_nbformat": 4
 },
 "nbformat": 4,
 "nbformat_minor": 2
}
