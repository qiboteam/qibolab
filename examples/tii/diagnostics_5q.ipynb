{
 "cells": [
  {
   "cell_type": "code",
   "execution_count": null,
   "metadata": {},
   "outputs": [],
   "source": [
    "import pathlib\n",
    "import os\n",
    "from qibolab.paths import qibolab_folder\n",
    "from qibolab import Platform\n",
    "\n",
    "script_folder = pathlib.Path(os.path.abspath(''))\n",
    "diagnostics_settings = script_folder / \"diagnostics.yml\"\n",
    "runcard = qibolab_folder / 'runcards' / 'qw5q.yml' \n",
    "\n",
    "# Create a platform; connect and configure it\n",
    "platform = Platform('multiqubit', runcard)\n",
    "platform.connect()\n",
    "platform.setup()"
   ]
  },
  {
   "cell_type": "code",
   "execution_count": null,
   "metadata": {},
   "outputs": [],
   "source": [
    "import diagnostics_5q\n",
    "\n",
    "ds = diagnostics_5q.Diagnostics(platform, diagnostics_settings)"
   ]
  },
  {
   "cell_type": "markdown",
   "metadata": {},
   "source": [
    "Flux Spectroscopy"
   ]
  },
  {
   "cell_type": "code",
   "execution_count": null,
   "metadata": {},
   "outputs": [],
   "source": [
    "for qubit in range(6):\n",
    "    for fluxline in range(5):\n",
    "        ds.run_resonator_spectroscopy_flux(qubit, fluxline)"
   ]
  },
  {
   "cell_type": "code",
   "execution_count": null,
   "metadata": {},
   "outputs": [],
   "source": [
    "for n in range(24, 6*5):\n",
    "    qubit = n // 5\n",
    "    fluxline = n % 5\n",
    "    print(f\"scan:{n} qubit: {qubit} fluxline: {fluxline}\\n\")\n",
    "    ds.run_resonator_spectroscopy_flux(qubit, fluxline)"
   ]
  },
  {
   "cell_type": "code",
   "execution_count": null,
   "metadata": {},
   "outputs": [],
   "source": [
    "import h5py\n",
    "import matplotlib.pyplot as plt\n",
    "import numpy as np \n",
    "import os\n",
    "from qibolab.paths import qibolab_folder\n",
    "files = []\n",
    "base_folder = qibolab_folder / 'calibration' / 'data'/ 'quantify' / '20220626' # Replace with date!\n",
    "\n",
    "for experiment_folder in os.listdir(base_folder):\n",
    "    file_path = base_folder / experiment_folder / 'dataset.hdf5'\n",
    "    files.append(str(file_path))\n",
    "\n",
    "l = len(files)\n",
    "files.sort()\n",
    "\n",
    "plt.subplots(figsize=(80,60))\n",
    "\n",
    "plt.rcParams.update({'font.size': 20})\n",
    "cols = [f'qubit {q}\\nGHz' for q in range(5)]\n",
    "cols.append('qubit 6 (witness)\\nGHz')\n",
    "\n",
    "rows = [f'flux line {fl}\\nmA' for fl in range(5)]\n",
    "\n",
    "for n, file in enumerate(files):\n",
    "    f = h5py.File(file)\n",
    "    xlen = f.attrs['xlen']\n",
    "    ylen = f.attrs['ylen']\n",
    "    x = (f['x0'][:xlen] + 20e6) / 1e9\n",
    "    y = f['x1'][:].reshape(xlen, ylen)[:,0] * 1000\n",
    "    z = np.flipud(f['y0'][:].reshape(f.attrs['ylen'], f.attrs['xlen'])) * 1e6\n",
    "    qubit = n // 5\n",
    "    fluxline = n % 5\n",
    "    ax = plt.subplot(5,6, qubit+1 + fluxline*(6))\n",
    "    if qubit == 0:\n",
    "        ax.set_ylabel(rows[fluxline], size='large')\n",
    "    if fluxline == 0:\n",
    "        ax.set_title(cols[qubit], rotation=0, size='large', pad = 20)\n",
    "    plt.imshow(z, extent=[min(x),max(x),min(y),max(y)], aspect=\"auto\")\n",
    "\n",
    "\n",
    "plt.subplots_adjust(bottom=0.1, right=0.8, top=0.95)\n",
    "cax = plt.axes([0.85, 0.1, 0.015, 0.85])\n",
    "plt.colorbar(cax=cax,label='\\u03BCV')\n",
    "plt.suptitle('Resonator Spectroscopy Flux Matrix', fontsize=40, verticalalignment = 'bottom')\n",
    "plt.savefig('resonator spectroscopy flux matrix.png', bbox_inches='tight')\n",
    "plt.show()\n"
   ]
  },
  {
   "cell_type": "markdown",
   "metadata": {},
   "source": [
    "Single Qubit Spectroscopies & Rabi"
   ]
  },
  {
   "cell_type": "code",
   "execution_count": null,
   "metadata": {},
   "outputs": [],
   "source": [
    "qubit = 0"
   ]
  },
  {
   "cell_type": "code",
   "execution_count": null,
   "metadata": {},
   "outputs": [],
   "source": [
    "resonator_freq, avg_min_voltage, max_ro_voltage, smooth_dataset, dataset = ds.run_resonator_spectroscopy(qubit)"
   ]
  },
  {
   "cell_type": "code",
   "execution_count": null,
   "metadata": {},
   "outputs": [],
   "source": [
    "qubit_freq, max_ro_voltage, smooth_dataset, dataset = ds.run_qubit_spectroscopy(qubit)"
   ]
  },
  {
   "cell_type": "code",
   "execution_count": null,
   "metadata": {},
   "outputs": [],
   "source": [
    "dataset, pi_pulse_duration, pi_pulse_amplitude, rabi_oscillations_pi_pulse_min_voltage, t1 = ds.run_rabi_pulse_length(qubit)"
   ]
  },
  {
   "cell_type": "markdown",
   "metadata": {},
   "source": [
    "Spectroscopies Loop"
   ]
  },
  {
   "cell_type": "code",
   "execution_count": null,
   "metadata": {},
   "outputs": [],
   "source": [
    "for qubit in range(5):\n",
    "    resonator_freq, avg_max_voltage, min_ro_voltage, smooth_dataset, dataset = ds.run_resonator_spectroscopy(qubit)\n"
   ]
  },
  {
   "cell_type": "code",
   "execution_count": null,
   "metadata": {},
   "outputs": [],
   "source": [
    "\n",
    "for qubit in range(5):\n",
    "    qubit_freq, max_ro_voltage, smooth_dataset, dataset = ds.run_qubit_spectroscopy(qubit)"
   ]
  },
  {
   "cell_type": "code",
   "execution_count": null,
   "metadata": {},
   "outputs": [],
   "source": [
    "while True:\n",
    "    resonator_freq, avg_min_voltage, max_ro_voltage, smooth_dataset, dataset = ds.run_resonator_spectroscopy(qubit)"
   ]
  },
  {
   "cell_type": "code",
   "execution_count": null,
   "metadata": {},
   "outputs": [],
   "source": [
    "\"\"\"\n",
    "files = []\n",
    "files.append('D:\\\\Alvaro\\\\Projects\\\\GitHub\\\\qibolab\\\\src\\\\qibolab\\\\calibration\\\\data\\quantify\\\\20220625\\\\20220625-115433-962-82dd8b-matrix3\\\\dataset.hdf5')\n",
    "files.append('D:\\\\Alvaro\\\\Projects\\\\GitHub\\\\qibolab\\\\src\\\\qibolab\\\\calibration\\\\data\\quantify\\\\20220625\\\\20220625-124606-847-d03c47-matrix3\\\\dataset.hdf5')\n",
    "files.append('D:\\\\Alvaro\\\\Projects\\\\GitHub\\\\qibolab\\\\src\\\\qibolab\\\\calibration\\\\data\\quantify\\\\20220625\\\\20220625-133808-534-7bdec2-matrix3\\\\dataset.hdf5')\n",
    "files.append('D:\\\\Alvaro\\\\Projects\\\\GitHub\\\\qibolab\\\\src\\\\qibolab\\\\calibration\\\\data\\quantify\\\\20220625\\\\20220625-143125-212-35e1bb-matrix3\\\\dataset.hdf5')\n",
    "files.append('D:\\\\Alvaro\\\\Projects\\\\GitHub\\\\qibolab\\\\src\\\\qibolab\\\\calibration\\\\data\\quantify\\\\20220625\\\\20220625-152641-950-e4bc4b-matrix3\\\\dataset.hdf5')\n",
    "\"\"\""
   ]
  }
 ],
 "metadata": {
  "interpreter": {
   "hash": "0acc232407913a85a8e36c1b48b5b6b0c94380109130de4597d92602ae920eeb"
  },
  "kernelspec": {
   "display_name": "Python 3.9.12 ('qw5q')",
   "language": "python",
   "name": "python3"
  },
  "language_info": {
   "codemirror_mode": {
    "name": "ipython",
    "version": 3
   },
   "file_extension": ".py",
   "mimetype": "text/x-python",
   "name": "python",
   "nbconvert_exporter": "python",
   "pygments_lexer": "ipython3",
   "version": "3.9.12"
  },
  "orig_nbformat": 4
 },
 "nbformat": 4,
 "nbformat_minor": 2
}
