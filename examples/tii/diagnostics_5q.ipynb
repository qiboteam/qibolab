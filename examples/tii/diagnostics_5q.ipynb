{
 "cells": [
  {
   "cell_type": "code",
   "execution_count": 1,
   "metadata": {},
   "outputs": [
    {
     "name": "stderr",
     "output_type": "stream",
     "text": [
      "[Qibo 0.1.7|INFO|2022-06-20 17:27:41]: Using numpy backend on /CPU:0\n",
      "[Qibo 0.1.7|WARNING|2022-06-20 17:27:41]: numpy backend uses `np.einsum` and supports CPU only. Consider installing the qibojit or qibotf backends for increased performance and to enable GPU acceleration.\n",
      "[Qibo 0.1.7|INFO|2022-06-20 17:27:42]: Loading platform multiqubit from runcard d:\\alvaro\\projects\\github\\qibolab\\src\\qibolab\\runcards\\qw5q.yml\n",
      "[Qibo 0.1.7|INFO|2022-06-20 17:27:42]: Connecting to multiqubit instrument qrm_rf.\n",
      "[Qibo 0.1.7|INFO|2022-06-20 17:27:43]: Connecting to multiqubit instrument qcm_rf1.\n",
      "[Qibo 0.1.7|INFO|2022-06-20 17:27:43]: Connecting to multiqubit instrument qcm_rf2.\n",
      "[Qibo 0.1.7|INFO|2022-06-20 17:27:43]: Connecting to multiqubit instrument qcm_rf3.\n",
      "[Qibo 0.1.7|INFO|2022-06-20 17:27:43]: Connecting to multiqubit instrument SPI.\n"
     ]
    },
    {
     "name": "stdout",
     "output_type": "stream",
     "text": [
      "Connected to: Qblox SPI Rack (serial:None, firmware:{'device': 'v1.6 - May 10 2019 - mt', 'driver': {'version': '0.6.1', 'build': '20/05/2022-17:29:34', 'hash': 'ef57da54', 'dirty': False}}) in 0.06s\n"
     ]
    },
    {
     "name": "stderr",
     "output_type": "stream",
     "text": [
      "S4g module 3: current 0.000000 mA too low for set span,current set to min value: 0.000000 mA\n",
      "S4g module 3: current 0.000000 mA too low for set span,current set to min value: 0.000000 mA\n",
      "S4g module 3: current 0.000000 mA too low for set span,current set to min value: 0.000000 mA\n",
      "S4g module 3: current 0.000000 mA too low for set span,current set to min value: 0.000000 mA\n"
     ]
    },
    {
     "name": "stdout",
     "output_type": "stream",
     "text": [
      "Current too low for set span, DAC set to min value\n",
      "Current too low for set span, DAC set to min value\n",
      "Current too low for set span, DAC set to min value\n",
      "Current too low for set span, DAC set to min value\n"
     ]
    }
   ],
   "source": [
    "# Characterisation can be done by changing settings to qibolab/runcards/tiiq.yml and diagnostics.yml\n",
    "# These scripts do not save the characterisation results on the runcard; to do so use \n",
    "#   ds.backup_config_file()\n",
    "#   resonator_freq, avg_min_voltage, max_ro_voltage, smooth_dataset, dataset = ds.run_resonator_spectroscopy()\n",
    "#   ds.save_config_parameter('resonator_freq', resonator_freq, 'characterization', 'single_qubit', qubit)\n",
    "import pathlib\n",
    "import os\n",
    "from qibolab.paths import qibolab_folder\n",
    "from qibolab import Platform\n",
    "from qibolab.calibration import utils\n",
    "# from qibolab.calibration.calibration import Calibration as Diagnostics\n",
    "\n",
    "script_folder = pathlib.Path(os.path.abspath(''))\n",
    "# diagnostics_settings = script_folder / 'examples' / 'tii' / \"diagnostics.yml\"\n",
    "diagnostics_settings = script_folder / \"diagnostics.yml\"\n",
    "runcard = qibolab_folder / 'runcards' / 'qw5q.yml' \n",
    "\n",
    "# Create a platform; connect and configure it\n",
    "platform = Platform('multiqubit', runcard)\n",
    "platform.connect()\n",
    "platform.setup()\n",
    "\n",
    "import pathlib\n",
    "from scipy.signal import savgol_filter\n",
    "from qibolab.paths import qibolab_folder\n",
    "import numpy as np\n",
    "import matplotlib.pyplot as plt\n",
    "import yaml\n",
    "\n",
    "from quantify_core.measurement import MeasurementControl\n",
    "from quantify_core.measurement.control import Gettable, Settable\n",
    "from quantify_core.data.handling import set_datadir\n",
    "\n",
    "from qibolab import Platform\n",
    "from qibolab.paths import qibolab_folder\n",
    "from qibolab.calibration import utils\n",
    "from qibolab.calibration import fitting\n",
    "from qibolab.pulses import Pulse, ReadoutPulse, Rectangular, Gaussian, Drag\n",
    "from qibolab.circuit import PulseSequence\n",
    "\n",
    "\n",
    "class Diagnostics():\n",
    "\n",
    "    def __init__(self, platform: Platform, settings_file = None,  show_plots=True):\n",
    "        self.platform = platform\n",
    "        if not settings_file:\n",
    "            script_folder = pathlib.Path(__file__).parent\n",
    "            settings_file = script_folder / \"diagnostics.yml\"\n",
    "        self.settings_file = settings_file\n",
    "        # TODO: Set mc plotting to false when auto calibrates (default = True for diagnostics)\n",
    "        self.mc, self.pl, self.ins = utils.create_measurement_control('Calibration', show_plots)\n",
    "\n",
    "    def load_settings(self):\n",
    "        # Load calibration settings\n",
    "        with open(self.settings_file, \"r\") as file:\n",
    "            self.settings = yaml.safe_load(file)\n",
    "            self.software_averages = self.settings['software_averages']\n",
    "            self.software_averages_precision = self.settings['software_averages_precision']\n",
    "            self.max_num_plots = self.settings['max_num_plots']\n",
    "\n",
    "    def reload_settings(self):\n",
    "        self.load_settings()\n",
    "\n",
    "    #--------------------------#\n",
    "    # Single qubit experiments #\n",
    "    #--------------------------#\n",
    "\n",
    "    def run_resonator_spectroscopy(self, qubit=0):\n",
    "        platform = self.platform\n",
    "        platform.reload_settings()\n",
    "        mc = self.mc\n",
    "\n",
    "        sequence = PulseSequence()\n",
    "        ro_pulse = platform.qubit_readout_pulse(qubit, start = 0)\n",
    "        sequence.add(ro_pulse)\n",
    "\n",
    "        self.reload_settings()\n",
    "        self.lowres_width = self.settings['resonator_spectroscopy']['lowres_width']\n",
    "        self.lowres_step = self.settings['resonator_spectroscopy']['lowres_step']\n",
    "        self.highres_width = self.settings['resonator_spectroscopy']['highres_width']\n",
    "        self.highres_step = self.settings['resonator_spectroscopy']['highres_step']\n",
    "        self.precision_width = self.settings['resonator_spectroscopy']['precision_width']\n",
    "        self.precision_step = self.settings['resonator_spectroscopy']['precision_step']\n",
    "\n",
    "        self.pl.tuids_max_num(self.max_num_plots)\n",
    "\n",
    "        #Fast Sweep\n",
    "        if (self.software_averages !=0):\n",
    "            scanrange = utils.variable_resolution_scanrange(self.lowres_width, self.lowres_step, self.highres_width, self.highres_step)\n",
    "            mc.settables(platform.qrm[qubit].lo.settable_frequency)\n",
    "            mc.setpoints(scanrange + platform.qrm[qubit].lo.frequency)\n",
    "            mc.gettables(Gettable(ROController(platform, sequence, qubit)))\n",
    "            platform.start() \n",
    "            dataset = mc.run(\"Resonator Spectroscopy Fast\", soft_avg=self.software_averages)\n",
    "            platform.stop()\n",
    "            platform.qrm[qubit].lo.frequency = dataset['x0'].values[dataset['y0'].argmin().values]\n",
    "            avg_max_voltage = np.mean(dataset['y0'].values[:(self.lowres_width//self.lowres_step)]) * 1e6\n",
    "\n",
    "        # Precision Sweep\n",
    "        if (self.software_averages_precision !=0):\n",
    "            scanrange = np.arange(-self.precision_width, self.precision_width, self.precision_step)\n",
    "            mc.settables(platform.qrm[qubit].lo.settable_frequency)\n",
    "            mc.setpoints(scanrange + platform.qrm[qubit].lo.frequency)\n",
    "            mc.gettables(Gettable(ROController(platform, sequence, qubit)))\n",
    "            platform.start()\n",
    "            dataset = mc.run(\"Resonator Spectroscopy Precision\", soft_avg=self.software_averages_precision)\n",
    "            platform.stop()\n",
    "\n",
    "        # Fitting\n",
    "        smooth_dataset = savgol_filter(dataset['y0'].values, 25, 2)\n",
    "        # resonator_freq = dataset['x0'].values[smooth_dataset.argmax()] + ro_pulse.frequency\n",
    "        min_ro_voltage = smooth_dataset.min() * 1e6\n",
    "\n",
    "        f0, BW, Q = fitting.lorentzian_fit(\"last\", min, \"Resonator_spectroscopy\")\n",
    "        resonator_freq = (f0*1e9 + ro_pulse.frequency)\n",
    "\n",
    "        print(f\"\\nResonator Frequency = {resonator_freq}\")\n",
    "        return resonator_freq, avg_max_voltage, min_ro_voltage, smooth_dataset, dataset\n",
    "        \n",
    "class ROController():\n",
    "    # Quantify Gettable Interface Implementation\n",
    "    label = ['Amplitude', 'Phase','I','Q']\n",
    "    unit = ['V', 'Radians','V','V']\n",
    "    name = ['A', 'Phi','I','Q']\n",
    "\n",
    "    def __init__(self, platform, sequence, qubit):\n",
    "        self.platform = platform\n",
    "        self.sequence = sequence\n",
    "        self.qubit = qubit\n",
    "\n",
    "    def get(self):\n",
    "        results = self.platform.execute_pulse_sequence(self.sequence)\n",
    "        return list(list(results.values())[0].values())[0] #TODO: Replace with the particular acquisition\n"
   ]
  },
  {
   "cell_type": "code",
   "execution_count": 2,
   "metadata": {},
   "outputs": [
    {
     "name": "stderr",
     "output_type": "stream",
     "text": [
      "[Qibo 0.1.7|INFO|2022-06-20 17:27:44]: Creating MeasurementControl Calibration\n"
     ]
    }
   ],
   "source": [
    "\n",
    "\n",
    "# create a diagnostics/calibration object\n",
    "ds = Diagnostics(platform, diagnostics_settings)\n",
    "\n",
    "qubit = 0\n"
   ]
  },
  {
   "cell_type": "code",
   "execution_count": 4,
   "metadata": {},
   "outputs": [
    {
     "name": "stderr",
     "output_type": "stream",
     "text": [
      "S4g module 3: current 0.000000 mA too low for set span,current set to min value: 0.000000 mA\n",
      "S4g module 3: current 0.000000 mA too low for set span,current set to min value: 0.000000 mA\n",
      "S4g module 3: current 0.000000 mA too low for set span,current set to min value: 0.000000 mA\n",
      "S4g module 3: current 0.000000 mA too low for set span,current set to min value: 0.000000 mA\n",
      "S4g module 3: current 0.000000 mA too low for set span,current set to min value: 0.000000 mA\n"
     ]
    },
    {
     "name": "stdout",
     "output_type": "stream",
     "text": [
      "Current too low for set span, DAC set to min value\n",
      "Current too low for set span, DAC set to min value\n",
      "Current too low for set span, DAC set to min value\n",
      "Current too low for set span, DAC set to min value\n",
      "Current too low for set span, DAC set to min value\n",
      "Starting iterative measurement...\n",
      " 98% completed | elapsed time:     56s | time left:      0s  "
     ]
    },
    {
     "name": "stderr",
     "output_type": "stream",
     "text": [
      "S4g module 3: current 0.000000 mA too low for set span,current set to min value: 0.000000 mA\n",
      "S4g module 3: current 0.000000 mA too low for set span,current set to min value: 0.000000 mA\n",
      "S4g module 3: current 0.000000 mA too low for set span,current set to min value: 0.000000 mA\n"
     ]
    },
    {
     "name": "stdout",
     "output_type": "stream",
     "text": [
      "100% completed | elapsed time:     56s | time left:      0s  \n",
      "100% completed | elapsed time:     56s | time left:      0s  Current too low for set span, DAC set to min value\n",
      "Current too low for set span, DAC set to min value\n",
      "Current too low for set span, DAC set to min value\n"
     ]
    },
    {
     "name": "stderr",
     "output_type": "stream",
     "text": [
      "S4g module 3: current 0.000000 mA too low for set span,current set to min value: 0.000000 mA\n",
      "S4g module 3: current 0.000000 mA too low for set span,current set to min value: 0.000000 mA\n"
     ]
    },
    {
     "name": "stdout",
     "output_type": "stream",
     "text": [
      "Current too low for set span, DAC set to min value\n",
      "Current too low for set span, DAC set to min value\n",
      "Starting iterative measurement...\n",
      " 41% completed | elapsed time:     40s | time left:     56s  \n",
      "\n",
      "[!!!] 1 interruption(s) signaled. Stopping after this iteration/batch.\n",
      "[Send 4 more interruptions to forcestop (not safe!)].\n",
      "\n",
      " 42% completed | elapsed time:     40s | time left:     55s  \n",
      "Interrupt signaled, exiting gracefully...\n"
     ]
    },
    {
     "ename": "KeyboardInterrupt",
     "evalue": "Measurement interrupted",
     "output_type": "error",
     "traceback": [
      "\u001b[1;31m---------------------------------------------------------------------------\u001b[0m",
      "\u001b[1;31mKeyboardInterrupt\u001b[0m                         Traceback (most recent call last)",
      "\u001b[1;32md:\\Alvaro\\Projects\\GitHub\\qibolab\\examples\\tii\\diagnostics_5q.ipynb Cell 3'\u001b[0m in \u001b[0;36m<cell line: 1>\u001b[1;34m()\u001b[0m\n\u001b[1;32m----> <a href='vscode-notebook-cell:/d%3A/Alvaro/Projects/GitHub/qibolab/examples/tii/diagnostics_5q.ipynb#ch0000002?line=0'>1</a>\u001b[0m resonator_freq, avg_min_voltage, max_ro_voltage, smooth_dataset, dataset \u001b[39m=\u001b[39m ds\u001b[39m.\u001b[39;49mrun_resonator_spectroscopy(qubit)\n",
      "\u001b[1;32md:\\Alvaro\\Projects\\GitHub\\qibolab\\examples\\tii\\diagnostics_5q.ipynb Cell 1'\u001b[0m in \u001b[0;36mDiagnostics.run_resonator_spectroscopy\u001b[1;34m(self, qubit)\u001b[0m\n\u001b[0;32m    <a href='vscode-notebook-cell:/d%3A/Alvaro/Projects/GitHub/qibolab/examples/tii/diagnostics_5q.ipynb#ch0000000?line=103'>104</a>\u001b[0m     mc\u001b[39m.\u001b[39mgettables(Gettable(ROController(platform, sequence, qubit)))\n\u001b[0;32m    <a href='vscode-notebook-cell:/d%3A/Alvaro/Projects/GitHub/qibolab/examples/tii/diagnostics_5q.ipynb#ch0000000?line=104'>105</a>\u001b[0m     platform\u001b[39m.\u001b[39mstart()\n\u001b[1;32m--> <a href='vscode-notebook-cell:/d%3A/Alvaro/Projects/GitHub/qibolab/examples/tii/diagnostics_5q.ipynb#ch0000000?line=105'>106</a>\u001b[0m     dataset \u001b[39m=\u001b[39m mc\u001b[39m.\u001b[39;49mrun(\u001b[39m\"\u001b[39;49m\u001b[39mResonator Spectroscopy Precision\u001b[39;49m\u001b[39m\"\u001b[39;49m, soft_avg\u001b[39m=\u001b[39;49m\u001b[39mself\u001b[39;49m\u001b[39m.\u001b[39;49msoftware_averages_precision)\n\u001b[0;32m    <a href='vscode-notebook-cell:/d%3A/Alvaro/Projects/GitHub/qibolab/examples/tii/diagnostics_5q.ipynb#ch0000000?line=106'>107</a>\u001b[0m     platform\u001b[39m.\u001b[39mstop()\n\u001b[0;32m    <a href='vscode-notebook-cell:/d%3A/Alvaro/Projects/GitHub/qibolab/examples/tii/diagnostics_5q.ipynb#ch0000000?line=108'>109</a>\u001b[0m \u001b[39m# Fitting\u001b[39;00m\n",
      "File \u001b[1;32mc:\\Users\\Alvaro\\anaconda3\\envs\\qw5q\\lib\\site-packages\\quantify_core\\measurement\\control.py:326\u001b[0m, in \u001b[0;36mMeasurementControl.run\u001b[1;34m(self, name, soft_avg, lazy_set, save_data)\u001b[0m\n\u001b[0;32m    <a href='file:///c%3A/Users/Alvaro/anaconda3/envs/qw5q/lib/site-packages/quantify_core/measurement/control.py?line=322'>323</a>\u001b[0m \u001b[39mself\u001b[39m\u001b[39m.\u001b[39m_finish()\n\u001b[0;32m    <a href='file:///c%3A/Users/Alvaro/anaconda3/envs/qw5q/lib/site-packages/quantify_core/measurement/control.py?line=323'>324</a>\u001b[0m \u001b[39mself\u001b[39m\u001b[39m.\u001b[39m_reset_post()\n\u001b[1;32m--> <a href='file:///c%3A/Users/Alvaro/anaconda3/envs/qw5q/lib/site-packages/quantify_core/measurement/control.py?line=325'>326</a>\u001b[0m \u001b[39mself\u001b[39;49m\u001b[39m.\u001b[39;49m_check_interrupt()  \u001b[39m# Propagate interruption\u001b[39;00m\n\u001b[0;32m    <a href='file:///c%3A/Users/Alvaro/anaconda3/envs/qw5q/lib/site-packages/quantify_core/measurement/control.py?line=327'>328</a>\u001b[0m \u001b[39mreturn\u001b[39;00m \u001b[39mself\u001b[39m\u001b[39m.\u001b[39m_dataset\n",
      "File \u001b[1;32mc:\\Users\\Alvaro\\anaconda3\\envs\\qw5q\\lib\\site-packages\\quantify_core\\measurement\\control.py:598\u001b[0m, in \u001b[0;36mMeasurementControl._check_interrupt\u001b[1;34m(self)\u001b[0m\n\u001b[0;32m    <a href='file:///c%3A/Users/Alvaro/anaconda3/envs/qw5q/lib/site-packages/quantify_core/measurement/control.py?line=589'>590</a>\u001b[0m \u001b[39m\"\"\"\u001b[39;00m\n\u001b[0;32m    <a href='file:///c%3A/Users/Alvaro/anaconda3/envs/qw5q/lib/site-packages/quantify_core/measurement/control.py?line=590'>591</a>\u001b[0m \u001b[39mVerifies if the user has signaled the interruption of the experiment.\u001b[39;00m\n\u001b[0;32m    <a href='file:///c%3A/Users/Alvaro/anaconda3/envs/qw5q/lib/site-packages/quantify_core/measurement/control.py?line=591'>592</a>\u001b[0m \n\u001b[0;32m    <a href='file:///c%3A/Users/Alvaro/anaconda3/envs/qw5q/lib/site-packages/quantify_core/measurement/control.py?line=592'>593</a>\u001b[0m \u001b[39mIntended to be used after each iteration or after each batch of data.\u001b[39;00m\n\u001b[0;32m    <a href='file:///c%3A/Users/Alvaro/anaconda3/envs/qw5q/lib/site-packages/quantify_core/measurement/control.py?line=593'>594</a>\u001b[0m \u001b[39m\"\"\"\u001b[39;00m\n\u001b[0;32m    <a href='file:///c%3A/Users/Alvaro/anaconda3/envs/qw5q/lib/site-packages/quantify_core/measurement/control.py?line=594'>595</a>\u001b[0m \u001b[39mif\u001b[39;00m \u001b[39mself\u001b[39m\u001b[39m.\u001b[39m_thread_data\u001b[39m.\u001b[39mevents_num \u001b[39m>\u001b[39m\u001b[39m=\u001b[39m \u001b[39m1\u001b[39m:\n\u001b[0;32m    <a href='file:///c%3A/Users/Alvaro/anaconda3/envs/qw5q/lib/site-packages/quantify_core/measurement/control.py?line=595'>596</a>\u001b[0m     \u001b[39m# It is safe to raise the KeyboardInterrupt here because we are guaranteed\u001b[39;00m\n\u001b[0;32m    <a href='file:///c%3A/Users/Alvaro/anaconda3/envs/qw5q/lib/site-packages/quantify_core/measurement/control.py?line=596'>597</a>\u001b[0m     \u001b[39m# To be running MC code. The exception can be handled in a try-except\u001b[39;00m\n\u001b[1;32m--> <a href='file:///c%3A/Users/Alvaro/anaconda3/envs/qw5q/lib/site-packages/quantify_core/measurement/control.py?line=597'>598</a>\u001b[0m     \u001b[39mraise\u001b[39;00m \u001b[39mKeyboardInterrupt\u001b[39;00m(\u001b[39m\"\u001b[39m\u001b[39mMeasurement interrupted\u001b[39m\u001b[39m\"\u001b[39m)\n",
      "\u001b[1;31mKeyboardInterrupt\u001b[0m: Measurement interrupted"
     ]
    }
   ],
   "source": [
    "\n",
    "for qubit in range(5):\n",
    "    resonator_freq, avg_min_voltage, max_ro_voltage, smooth_dataset, dataset = ds.run_resonator_spectroscopy(qubit)\n"
   ]
  },
  {
   "cell_type": "code",
   "execution_count": null,
   "metadata": {},
   "outputs": [],
   "source": []
  }
 ],
 "metadata": {
  "interpreter": {
   "hash": "0acc232407913a85a8e36c1b48b5b6b0c94380109130de4597d92602ae920eeb"
  },
  "kernelspec": {
   "display_name": "Python 3.9.12 ('qw5q')",
   "language": "python",
   "name": "python3"
  },
  "language_info": {
   "codemirror_mode": {
    "name": "ipython",
    "version": 3
   },
   "file_extension": ".py",
   "mimetype": "text/x-python",
   "name": "python",
   "nbconvert_exporter": "python",
   "pygments_lexer": "ipython3",
   "version": "3.9.12"
  },
  "orig_nbformat": 4
 },
 "nbformat": 4,
 "nbformat_minor": 2
}
